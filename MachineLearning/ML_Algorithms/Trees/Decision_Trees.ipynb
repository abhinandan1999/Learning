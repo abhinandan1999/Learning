{
 "cells": [
  {
   "cell_type": "code",
   "execution_count": null,
   "metadata": {},
   "outputs": [],
   "source": [
    "# Import libraries\n",
    "import numpy as np\n",
    "import pandas as pd\n",
    "import matplotlib.pyplot as plt\n",
    "\n",
    "from sklearn.tree import DecisionTreeClassifier\n",
    "from sklearn.tree import plot_tree\n",
    "from sklearn.model_selection import train_test_split\n",
    "from sklearn.model_selection import cross_val_score\n",
    "from sklearn.metrics import confusion_matrix\n",
    "from sklearn.metrics import ConfusionMatrixDisplay"
   ]
  },
  {
   "cell_type": "code",
   "execution_count": 2,
   "metadata": {},
   "outputs": [
    {
     "data": {
      "text/html": [
       "<div>\n",
       "<style scoped>\n",
       "    .dataframe tbody tr th:only-of-type {\n",
       "        vertical-align: middle;\n",
       "    }\n",
       "\n",
       "    .dataframe tbody tr th {\n",
       "        vertical-align: top;\n",
       "    }\n",
       "\n",
       "    .dataframe thead th {\n",
       "        text-align: right;\n",
       "    }\n",
       "</style>\n",
       "<table border=\"1\" class=\"dataframe\">\n",
       "  <thead>\n",
       "    <tr style=\"text-align: right;\">\n",
       "      <th></th>\n",
       "      <th>age</th>\n",
       "      <th>sex</th>\n",
       "      <th>cp</th>\n",
       "      <th>restbp</th>\n",
       "      <th>chol</th>\n",
       "      <th>fbs</th>\n",
       "      <th>restecg</th>\n",
       "      <th>thalach</th>\n",
       "      <th>exang</th>\n",
       "      <th>oldpeak</th>\n",
       "      <th>slope</th>\n",
       "      <th>ca</th>\n",
       "      <th>thal</th>\n",
       "      <th>hd</th>\n",
       "    </tr>\n",
       "  </thead>\n",
       "  <tbody>\n",
       "    <tr>\n",
       "      <th>0</th>\n",
       "      <td>63.0</td>\n",
       "      <td>1.0</td>\n",
       "      <td>1.0</td>\n",
       "      <td>145.0</td>\n",
       "      <td>233.0</td>\n",
       "      <td>1.0</td>\n",
       "      <td>2.0</td>\n",
       "      <td>150.0</td>\n",
       "      <td>0.0</td>\n",
       "      <td>2.3</td>\n",
       "      <td>3.0</td>\n",
       "      <td>0.0</td>\n",
       "      <td>6.0</td>\n",
       "      <td>0</td>\n",
       "    </tr>\n",
       "    <tr>\n",
       "      <th>1</th>\n",
       "      <td>67.0</td>\n",
       "      <td>1.0</td>\n",
       "      <td>4.0</td>\n",
       "      <td>160.0</td>\n",
       "      <td>286.0</td>\n",
       "      <td>0.0</td>\n",
       "      <td>2.0</td>\n",
       "      <td>108.0</td>\n",
       "      <td>1.0</td>\n",
       "      <td>1.5</td>\n",
       "      <td>2.0</td>\n",
       "      <td>3.0</td>\n",
       "      <td>3.0</td>\n",
       "      <td>2</td>\n",
       "    </tr>\n",
       "    <tr>\n",
       "      <th>2</th>\n",
       "      <td>67.0</td>\n",
       "      <td>1.0</td>\n",
       "      <td>4.0</td>\n",
       "      <td>120.0</td>\n",
       "      <td>229.0</td>\n",
       "      <td>0.0</td>\n",
       "      <td>2.0</td>\n",
       "      <td>129.0</td>\n",
       "      <td>1.0</td>\n",
       "      <td>2.6</td>\n",
       "      <td>2.0</td>\n",
       "      <td>2.0</td>\n",
       "      <td>7.0</td>\n",
       "      <td>1</td>\n",
       "    </tr>\n",
       "    <tr>\n",
       "      <th>3</th>\n",
       "      <td>37.0</td>\n",
       "      <td>1.0</td>\n",
       "      <td>3.0</td>\n",
       "      <td>130.0</td>\n",
       "      <td>250.0</td>\n",
       "      <td>0.0</td>\n",
       "      <td>0.0</td>\n",
       "      <td>187.0</td>\n",
       "      <td>0.0</td>\n",
       "      <td>3.5</td>\n",
       "      <td>3.0</td>\n",
       "      <td>0.0</td>\n",
       "      <td>3.0</td>\n",
       "      <td>0</td>\n",
       "    </tr>\n",
       "    <tr>\n",
       "      <th>4</th>\n",
       "      <td>41.0</td>\n",
       "      <td>0.0</td>\n",
       "      <td>2.0</td>\n",
       "      <td>130.0</td>\n",
       "      <td>204.0</td>\n",
       "      <td>0.0</td>\n",
       "      <td>2.0</td>\n",
       "      <td>172.0</td>\n",
       "      <td>0.0</td>\n",
       "      <td>1.4</td>\n",
       "      <td>1.0</td>\n",
       "      <td>0.0</td>\n",
       "      <td>3.0</td>\n",
       "      <td>0</td>\n",
       "    </tr>\n",
       "  </tbody>\n",
       "</table>\n",
       "</div>"
      ],
      "text/plain": [
       "    age  sex   cp  restbp   chol  fbs  restecg  thalach  exang  oldpeak  \\\n",
       "0  63.0  1.0  1.0   145.0  233.0  1.0      2.0    150.0    0.0      2.3   \n",
       "1  67.0  1.0  4.0   160.0  286.0  0.0      2.0    108.0    1.0      1.5   \n",
       "2  67.0  1.0  4.0   120.0  229.0  0.0      2.0    129.0    1.0      2.6   \n",
       "3  37.0  1.0  3.0   130.0  250.0  0.0      0.0    187.0    0.0      3.5   \n",
       "4  41.0  0.0  2.0   130.0  204.0  0.0      2.0    172.0    0.0      1.4   \n",
       "\n",
       "   slope   ca thal  hd  \n",
       "0    3.0  0.0  6.0   0  \n",
       "1    2.0  3.0  3.0   2  \n",
       "2    2.0  2.0  7.0   1  \n",
       "3    3.0  0.0  3.0   0  \n",
       "4    1.0  0.0  3.0   0  "
      ]
     },
     "execution_count": 2,
     "metadata": {},
     "output_type": "execute_result"
    }
   ],
   "source": [
    "#### Read the Data\n",
    "###### Link: https://archive.ics.uci.edu/static/public/45/heart+disease.zip\n",
    "filename = \"processed.cleveland.data\"\n",
    "feature_dictionary = {\n",
    "    \"age\": \"Age of a candidate\",\n",
    "    \"sex\": \"Sex of a candidate\",\n",
    "    \"cp\": \"chest pain\",\n",
    "    \"restbp\": \"resting blood pressure (in mm Hg)\",\n",
    "    \"chol\": \"serum cholestrol in (mg/dl)\",\n",
    "    \"fbs\": \"fasting blood sugar\",\n",
    "    \"restecg\": \"resting electrocardographic results\",\n",
    "    \"thalach\": \"maximum heart rate achieved\",\n",
    "    \"exang\": \"exercise induced agnia\",\n",
    "    \"oldpeak\": \"ST depression induced by exercise relative to rest\",\n",
    "    \"slope\": \"the slope of the peak exercise ST segment\",\n",
    "    \"ca\": \"number of major vessels(0-3) colored by fluoroscopy\",\n",
    "    \"thal\": \"this is short of thallium heart scan\",\n",
    "    \"hd\": \"diagnosis of heart disease, the predicted attribute\"\n",
    "}\n",
    "headers = list(feature_dictionary.keys())\n",
    "df = pd.read_csv(\n",
    "    filename,\n",
    "    header=None\n",
    ")\n",
    "\n",
    "df.columns = headers\n",
    "df.head()"
   ]
  },
  {
   "cell_type": "markdown",
   "metadata": {},
   "source": [
    "##### EDA"
   ]
  },
  {
   "cell_type": "code",
   "execution_count": 3,
   "metadata": {},
   "outputs": [
    {
     "data": {
      "text/plain": [
       "((303, 14), (303, 14))"
      ]
     },
     "execution_count": 3,
     "metadata": {},
     "output_type": "execute_result"
    }
   ],
   "source": [
    "# Number of rows and column of data, and check for duplicates in the data\n",
    "df.shape, df.drop_duplicates().shape"
   ]
  },
  {
   "cell_type": "code",
   "execution_count": 4,
   "metadata": {},
   "outputs": [
    {
     "data": {
      "text/plain": [
       "age        float64\n",
       "sex        float64\n",
       "cp         float64\n",
       "restbp     float64\n",
       "chol       float64\n",
       "fbs        float64\n",
       "restecg    float64\n",
       "thalach    float64\n",
       "exang      float64\n",
       "oldpeak    float64\n",
       "slope      float64\n",
       "ca          object\n",
       "thal        object\n",
       "hd           int64\n",
       "dtype: object"
      ]
     },
     "execution_count": 4,
     "metadata": {},
     "output_type": "execute_result"
    }
   ],
   "source": [
    "# Check for data types of each columns\n",
    "df.dtypes"
   ]
  },
  {
   "cell_type": "code",
   "execution_count": 5,
   "metadata": {},
   "outputs": [
    {
     "data": {
      "text/plain": [
       "age        0\n",
       "sex        0\n",
       "cp         0\n",
       "restbp     0\n",
       "chol       0\n",
       "fbs        0\n",
       "restecg    0\n",
       "thalach    0\n",
       "exang      0\n",
       "oldpeak    0\n",
       "slope      0\n",
       "ca         0\n",
       "thal       0\n",
       "hd         0\n",
       "dtype: int64"
      ]
     },
     "execution_count": 5,
     "metadata": {},
     "output_type": "execute_result"
    }
   ],
   "source": [
    "# Check for Nulls in each columns\n",
    "df.isna().sum()"
   ]
  },
  {
   "cell_type": "code",
   "execution_count": 6,
   "metadata": {},
   "outputs": [
    {
     "data": {
      "text/plain": [
       "age        0\n",
       "sex        0\n",
       "cp         0\n",
       "restbp     0\n",
       "chol       0\n",
       "fbs        0\n",
       "restecg    0\n",
       "thalach    0\n",
       "exang      0\n",
       "oldpeak    0\n",
       "slope      0\n",
       "ca         0\n",
       "thal       0\n",
       "hd         0\n",
       "dtype: int64"
      ]
     },
     "execution_count": 6,
     "metadata": {},
     "output_type": "execute_result"
    }
   ],
   "source": [
    "# Check for empty string in any columns\n",
    "df.eq(\"\").sum()"
   ]
  },
  {
   "cell_type": "code",
   "execution_count": 7,
   "metadata": {},
   "outputs": [
    {
     "data": {
      "text/plain": [
       "(thal\n",
       " 3.0    0.547855\n",
       " 7.0    0.386139\n",
       " 6.0    0.059406\n",
       " ?      0.006601\n",
       " Name: proportion, dtype: float64,\n",
       " ca\n",
       " 0.0    0.580858\n",
       " 1.0    0.214521\n",
       " 2.0    0.125413\n",
       " 3.0    0.066007\n",
       " ?      0.013201\n",
       " Name: proportion, dtype: float64)"
      ]
     },
     "execution_count": 7,
     "metadata": {},
     "output_type": "execute_result"
    }
   ],
   "source": [
    "# Since the data type of \"thal\" and \"ca\" is object\n",
    "# object: (Generally when we have mixed datatypes present in a column, object datatype gets assigned to it)\n",
    "\n",
    "# Let's check unique values in \"thal\" and \"ca\"\n",
    "df[\"thal\"].value_counts(normalize=True), df[\"ca\"].value_counts(normalize=True)"
   ]
  },
  {
   "cell_type": "markdown",
   "metadata": {},
   "source": [
    "#### Imputing the missing values"
   ]
  },
  {
   "cell_type": "code",
   "execution_count": 8,
   "metadata": {},
   "outputs": [
    {
     "data": {
      "text/html": [
       "<div>\n",
       "<style scoped>\n",
       "    .dataframe tbody tr th:only-of-type {\n",
       "        vertical-align: middle;\n",
       "    }\n",
       "\n",
       "    .dataframe tbody tr th {\n",
       "        vertical-align: top;\n",
       "    }\n",
       "\n",
       "    .dataframe thead th {\n",
       "        text-align: right;\n",
       "    }\n",
       "</style>\n",
       "<table border=\"1\" class=\"dataframe\">\n",
       "  <thead>\n",
       "    <tr style=\"text-align: right;\">\n",
       "      <th></th>\n",
       "      <th>ca</th>\n",
       "      <th>thal</th>\n",
       "      <th>proportion</th>\n",
       "    </tr>\n",
       "  </thead>\n",
       "  <tbody>\n",
       "    <tr>\n",
       "      <th>11</th>\n",
       "      <td>0.0</td>\n",
       "      <td>?</td>\n",
       "      <td>0.006601</td>\n",
       "    </tr>\n",
       "    <tr>\n",
       "      <th>13</th>\n",
       "      <td>?</td>\n",
       "      <td>3.0</td>\n",
       "      <td>0.006601</td>\n",
       "    </tr>\n",
       "    <tr>\n",
       "      <th>14</th>\n",
       "      <td>?</td>\n",
       "      <td>7.0</td>\n",
       "      <td>0.006601</td>\n",
       "    </tr>\n",
       "  </tbody>\n",
       "</table>\n",
       "</div>"
      ],
      "text/plain": [
       "     ca thal  proportion\n",
       "11  0.0    ?    0.006601\n",
       "13    ?  3.0    0.006601\n",
       "14    ?  7.0    0.006601"
      ]
     },
     "execution_count": 8,
     "metadata": {},
     "output_type": "execute_result"
    }
   ],
   "source": [
    "# Now that, we have missing values in two columns namely \"ca\" and \"thal\"\n",
    "# We need use a suitable imputer for them\n",
    "\n",
    "# Lets what percent of data is missing\n",
    "df.value_counts([\"ca\", \"thal\"], normalize=True).reset_index().query(\"(ca == '?') | (thal == '?')\")\n",
    "\n",
    "# We can see, there is roughly 2% of data has missing values\n",
    "# There is no harm in dropping these datasets"
   ]
  },
  {
   "cell_type": "code",
   "execution_count": 9,
   "metadata": {},
   "outputs": [
    {
     "data": {
      "text/plain": [
       "(297, 14)"
      ]
     },
     "execution_count": 9,
     "metadata": {},
     "output_type": "execute_result"
    }
   ],
   "source": [
    "# Filter the data after removing missing values from \"ca\" and \"thal\"\n",
    "df_no_missing = df.query(\n",
    "    \"(ca != '?') & (thal != '?')\"\n",
    ").reset_index(drop=True)\n",
    "df_no_missing.shape"
   ]
  },
  {
   "cell_type": "markdown",
   "metadata": {},
   "source": [
    "#### Split the data to make classification tree"
   ]
  },
  {
   "cell_type": "code",
   "execution_count": 10,
   "metadata": {},
   "outputs": [
    {
     "data": {
      "text/plain": [
       "age        float64\n",
       "sex        float64\n",
       "cp         float64\n",
       "restbp     float64\n",
       "chol       float64\n",
       "fbs        float64\n",
       "restecg    float64\n",
       "thalach    float64\n",
       "exang      float64\n",
       "oldpeak    float64\n",
       "slope      float64\n",
       "ca          object\n",
       "thal        object\n",
       "hd           int64\n",
       "dtype: object"
      ]
     },
     "execution_count": 10,
     "metadata": {},
     "output_type": "execute_result"
    }
   ],
   "source": [
    "# Check the dtypes of data\n",
    "df_no_missing.dtypes"
   ]
  },
  {
   "cell_type": "code",
   "execution_count": 11,
   "metadata": {},
   "outputs": [],
   "source": [
    "# Get the columns for X and y\n",
    "X = df_no_missing.select_dtypes(exclude='int') # Because Integer datatype is used for Y variable\n",
    "y = df_no_missing.select_dtypes(include='int')"
   ]
  },
  {
   "cell_type": "code",
   "execution_count": 12,
   "metadata": {},
   "outputs": [
    {
     "data": {
      "text/plain": [
       "((297, 13), (297, 1))"
      ]
     },
     "execution_count": 12,
     "metadata": {},
     "output_type": "execute_result"
    }
   ],
   "source": [
    "X.shape, y.shape"
   ]
  },
  {
   "cell_type": "markdown",
   "metadata": {},
   "source": [
    "#### Encoding of categorical data"
   ]
  },
  {
   "cell_type": "code",
   "execution_count": 13,
   "metadata": {},
   "outputs": [
    {
     "data": {
      "text/plain": [
       "cp\n",
       "4.0    142\n",
       "3.0     83\n",
       "2.0     49\n",
       "1.0     23\n",
       "Name: count, dtype: int64"
      ]
     },
     "execution_count": 13,
     "metadata": {},
     "output_type": "execute_result"
    }
   ],
   "source": [
    "# On analyzing a categorical feature \"cp\", we oberve it has 4 values\n",
    "# 1: typical angina\n",
    "# 2: atypical angina\n",
    "# 3: Non anginal pain\n",
    "# 4: asymptomatic\n",
    "\n",
    "# If we treat this categories as it is, the model is going to assume\n",
    "# Category 4 is similar to Category 3 than to Category 1 and 2\n",
    "X['cp'].value_counts()"
   ]
  },
  {
   "cell_type": "code",
   "execution_count": 14,
   "metadata": {},
   "outputs": [
    {
     "data": {
      "text/html": [
       "<div>\n",
       "<style scoped>\n",
       "    .dataframe tbody tr th:only-of-type {\n",
       "        vertical-align: middle;\n",
       "    }\n",
       "\n",
       "    .dataframe tbody tr th {\n",
       "        vertical-align: top;\n",
       "    }\n",
       "\n",
       "    .dataframe thead th {\n",
       "        text-align: right;\n",
       "    }\n",
       "</style>\n",
       "<table border=\"1\" class=\"dataframe\">\n",
       "  <thead>\n",
       "    <tr style=\"text-align: right;\">\n",
       "      <th></th>\n",
       "      <th>age</th>\n",
       "      <th>sex</th>\n",
       "      <th>restbp</th>\n",
       "      <th>chol</th>\n",
       "      <th>fbs</th>\n",
       "      <th>thalach</th>\n",
       "      <th>exang</th>\n",
       "      <th>oldpeak</th>\n",
       "      <th>ca</th>\n",
       "      <th>cp_1.0</th>\n",
       "      <th>...</th>\n",
       "      <th>cp_4.0</th>\n",
       "      <th>restecg_0.0</th>\n",
       "      <th>restecg_1.0</th>\n",
       "      <th>restecg_2.0</th>\n",
       "      <th>slope_1.0</th>\n",
       "      <th>slope_2.0</th>\n",
       "      <th>slope_3.0</th>\n",
       "      <th>thal_3.0</th>\n",
       "      <th>thal_6.0</th>\n",
       "      <th>thal_7.0</th>\n",
       "    </tr>\n",
       "  </thead>\n",
       "  <tbody>\n",
       "    <tr>\n",
       "      <th>0</th>\n",
       "      <td>63.0</td>\n",
       "      <td>1.0</td>\n",
       "      <td>145.0</td>\n",
       "      <td>233.0</td>\n",
       "      <td>1.0</td>\n",
       "      <td>150.0</td>\n",
       "      <td>0.0</td>\n",
       "      <td>2.3</td>\n",
       "      <td>0.0</td>\n",
       "      <td>True</td>\n",
       "      <td>...</td>\n",
       "      <td>False</td>\n",
       "      <td>False</td>\n",
       "      <td>False</td>\n",
       "      <td>True</td>\n",
       "      <td>False</td>\n",
       "      <td>False</td>\n",
       "      <td>True</td>\n",
       "      <td>False</td>\n",
       "      <td>True</td>\n",
       "      <td>False</td>\n",
       "    </tr>\n",
       "    <tr>\n",
       "      <th>1</th>\n",
       "      <td>67.0</td>\n",
       "      <td>1.0</td>\n",
       "      <td>160.0</td>\n",
       "      <td>286.0</td>\n",
       "      <td>0.0</td>\n",
       "      <td>108.0</td>\n",
       "      <td>1.0</td>\n",
       "      <td>1.5</td>\n",
       "      <td>3.0</td>\n",
       "      <td>False</td>\n",
       "      <td>...</td>\n",
       "      <td>True</td>\n",
       "      <td>False</td>\n",
       "      <td>False</td>\n",
       "      <td>True</td>\n",
       "      <td>False</td>\n",
       "      <td>True</td>\n",
       "      <td>False</td>\n",
       "      <td>True</td>\n",
       "      <td>False</td>\n",
       "      <td>False</td>\n",
       "    </tr>\n",
       "    <tr>\n",
       "      <th>2</th>\n",
       "      <td>67.0</td>\n",
       "      <td>1.0</td>\n",
       "      <td>120.0</td>\n",
       "      <td>229.0</td>\n",
       "      <td>0.0</td>\n",
       "      <td>129.0</td>\n",
       "      <td>1.0</td>\n",
       "      <td>2.6</td>\n",
       "      <td>2.0</td>\n",
       "      <td>False</td>\n",
       "      <td>...</td>\n",
       "      <td>True</td>\n",
       "      <td>False</td>\n",
       "      <td>False</td>\n",
       "      <td>True</td>\n",
       "      <td>False</td>\n",
       "      <td>True</td>\n",
       "      <td>False</td>\n",
       "      <td>False</td>\n",
       "      <td>False</td>\n",
       "      <td>True</td>\n",
       "    </tr>\n",
       "    <tr>\n",
       "      <th>3</th>\n",
       "      <td>37.0</td>\n",
       "      <td>1.0</td>\n",
       "      <td>130.0</td>\n",
       "      <td>250.0</td>\n",
       "      <td>0.0</td>\n",
       "      <td>187.0</td>\n",
       "      <td>0.0</td>\n",
       "      <td>3.5</td>\n",
       "      <td>0.0</td>\n",
       "      <td>False</td>\n",
       "      <td>...</td>\n",
       "      <td>False</td>\n",
       "      <td>True</td>\n",
       "      <td>False</td>\n",
       "      <td>False</td>\n",
       "      <td>False</td>\n",
       "      <td>False</td>\n",
       "      <td>True</td>\n",
       "      <td>True</td>\n",
       "      <td>False</td>\n",
       "      <td>False</td>\n",
       "    </tr>\n",
       "    <tr>\n",
       "      <th>4</th>\n",
       "      <td>41.0</td>\n",
       "      <td>0.0</td>\n",
       "      <td>130.0</td>\n",
       "      <td>204.0</td>\n",
       "      <td>0.0</td>\n",
       "      <td>172.0</td>\n",
       "      <td>0.0</td>\n",
       "      <td>1.4</td>\n",
       "      <td>0.0</td>\n",
       "      <td>False</td>\n",
       "      <td>...</td>\n",
       "      <td>False</td>\n",
       "      <td>False</td>\n",
       "      <td>False</td>\n",
       "      <td>True</td>\n",
       "      <td>True</td>\n",
       "      <td>False</td>\n",
       "      <td>False</td>\n",
       "      <td>True</td>\n",
       "      <td>False</td>\n",
       "      <td>False</td>\n",
       "    </tr>\n",
       "  </tbody>\n",
       "</table>\n",
       "<p>5 rows × 22 columns</p>\n",
       "</div>"
      ],
      "text/plain": [
       "    age  sex  restbp   chol  fbs  thalach  exang  oldpeak   ca  cp_1.0  ...  \\\n",
       "0  63.0  1.0   145.0  233.0  1.0    150.0    0.0      2.3  0.0    True  ...   \n",
       "1  67.0  1.0   160.0  286.0  0.0    108.0    1.0      1.5  3.0   False  ...   \n",
       "2  67.0  1.0   120.0  229.0  0.0    129.0    1.0      2.6  2.0   False  ...   \n",
       "3  37.0  1.0   130.0  250.0  0.0    187.0    0.0      3.5  0.0   False  ...   \n",
       "4  41.0  0.0   130.0  204.0  0.0    172.0    0.0      1.4  0.0   False  ...   \n",
       "\n",
       "   cp_4.0  restecg_0.0  restecg_1.0  restecg_2.0  slope_1.0  slope_2.0  \\\n",
       "0   False        False        False         True      False      False   \n",
       "1    True        False        False         True      False       True   \n",
       "2    True        False        False         True      False       True   \n",
       "3   False         True        False        False      False      False   \n",
       "4   False        False        False         True       True      False   \n",
       "\n",
       "   slope_3.0  thal_3.0  thal_6.0  thal_7.0  \n",
       "0       True     False      True     False  \n",
       "1      False      True     False     False  \n",
       "2      False     False     False      True  \n",
       "3       True      True     False     False  \n",
       "4      False      True     False     False  \n",
       "\n",
       "[5 rows x 22 columns]"
      ]
     },
     "execution_count": 14,
     "metadata": {},
     "output_type": "execute_result"
    }
   ],
   "source": [
    "# We will perform one hot encoding on the categorical dataframes\n",
    "cols_to_encode = [\n",
    "    \"cp\", \"restecg\", \"slope\", \"thal\"\n",
    "]\n",
    "X_encoded = pd.get_dummies(\n",
    "    X, columns=cols_to_encode\n",
    ")\n",
    "X_encoded.head()\n"
   ]
  },
  {
   "cell_type": "code",
   "execution_count": 15,
   "metadata": {},
   "outputs": [
    {
     "name": "stdout",
     "output_type": "stream",
     "text": [
      "Unique values present in y: [0 2 1 3 4]\n",
      "Unique values present in y after processing: [0 1]\n"
     ]
    },
    {
     "data": {
      "text/plain": [
       "hd\n",
       "0     160\n",
       "1     137\n",
       "Name: count, dtype: int64"
      ]
     },
     "execution_count": 15,
     "metadata": {},
     "output_type": "execute_result"
    }
   ],
   "source": [
    "# Process y such that it contains only two categories 0 and 1\n",
    "print(f\"Unique values present in y: {y[\"hd\"].unique()}\")\n",
    "\n",
    "y.loc[y[\"hd\"] > 0, ['hd']] = 1\n",
    "\n",
    "print(f\"Unique values present in y after processing: {y[\"hd\"].unique()}\")\n",
    "y.value_counts()"
   ]
  },
  {
   "cell_type": "markdown",
   "metadata": {},
   "source": [
    "#### Build a premliminary Classification Tree"
   ]
  },
  {
   "cell_type": "code",
   "execution_count": 16,
   "metadata": {},
   "outputs": [
    {
     "data": {
      "text/plain": [
       "((222, 22), (222, 1), (75, 22), (75, 1))"
      ]
     },
     "execution_count": 16,
     "metadata": {},
     "output_type": "execute_result"
    }
   ],
   "source": [
    "# Split the data into Test and Train\n",
    "seed_for_random_numbers = 42\n",
    "X_train, X_test, y_train, y_test = train_test_split(\n",
    "    X_encoded, y, random_state=seed_for_random_numbers\n",
    ")\n",
    "X_train.shape, y_train.shape, X_test.shape, y_test.shape"
   ]
  },
  {
   "cell_type": "code",
   "execution_count": null,
   "metadata": {},
   "outputs": [],
   "source": [
    "# Decision Tree Classifier Parameters description\n",
    "# Link: An empirical study of hyper-parameter on Decision Tree\n",
    "# https://arxiv.org/abs/1812.02207\n",
    "\"\"\" \n",
    "1. criterion: default=gini\n",
    "The function to measure quality of split\n",
    "   a: Gini Impurity (gini): 1 - SUMMATION(pi(x)^2), where pi(x) is probability of event or class\n",
    "   b. log_loss (log_loss): [TODO]: \n",
    "   c. Entropy (entropy): -SUMMATION(pi(x) * log2(pi(x))), where pi(x) is probability of even or class\n",
    "\n",
    "2. splitter: default=best\n",
    "The strategy used to split at each node.\n",
    "    a. Best (best): It is used to choose the best split. It will go through all possible threshold and choose the one with best criterion.\n",
    "    b. Random (random): It is used to choose the best random split. It will randomly choose the threshold and split the data.\n",
    "\n",
    "3. max_depth: default=None\n",
    "The maximum depth of the tree.\n",
    "If None, nodes are expanded untill all the leaves are pure or until all leaves contain less than \"min_samples_split_sample\"\n",
    "If the depth of tree is increased then it is prone to overfitting. \n",
    "If the depth of the tree is decreased then it is prone to underfitting.\n",
    "\n",
    "4. min_samples_split: default=2\n",
    "The minimum numbers of samples required to split an internal nodes.\n",
    "It can take two values:\n",
    "    a. int: It considers min_samples_split as the minimum numbers.\n",
    "    b. float: mini_samples_split is CEIL(min_samples_split * n_samples) are the minimum number of samples for each split.\n",
    "\n",
    "If this value is too high then it will lead to underfitting.\n",
    "If this value is too low then model can overfit on data.\n",
    "Typically, its value should range in between 1 and 40.\n",
    "\n",
    "5. min_samples_leaf: default=0\n",
    "The minimum number of samples required to be at a leaf node. \n",
    "A split at any depth at any node will only be considered if it leaves at least \"min_samples_leaf\" training samples \n",
    "in each of the left and right branch.\n",
    "\n",
    "It can take two values:\n",
    "    a. int: It considers min_samples_split as the minimum numbers.\n",
    "    b. float: mini_samples_split is CEIL(min_samples_split * n_samples) are the minimum number of samples for each split.\n",
    "\n",
    "This parameter is also used to control for overfit of Model.\n",
    "Typically, its value should range in between 1 and 20, except for class imbalance problem.\n",
    "\n",
    "6. min_weight_fraction_leaf: default=0.0\n",
    "The minimum weighted fraction of the sum total of weights (of all the input samples) required to be at a leaf node.\n",
    "Samples have equal weight when samples_weight is not provided.\n",
    "\n",
    "[TODO]: Learn more about it as it can help with the cases of class IMBALANCE.\n",
    "\n",
    "7. max_features: default=None\n",
    "The number of features to consider when looking for the best split:\n",
    "\n",
    "It can take multiple values:\n",
    "    a. int: Then consider max_feature at each split.\n",
    "    b. float: max_feature = max(1, int(max_features * n_features_in_)) feature are considered at each split\n",
    "    c. sqrt: then max_features = sqrt(n_features)\n",
    "    d. log2: max_features = log2(n_features)\n",
    "    e. If None: then max_features=None\n",
    "\n",
    "The use of max_features is to limit overfitting.\n",
    "By choosing the limit reduced number of features we can increase the stability of the tree and reduce variance and overfitting.\n",
    "\n",
    "8. random_state: default=None\n",
    "It controls the randomness of the estimator. The features are always randomly permuted at each split, even if \"splitter\" is set to best.\n",
    "When max_features < n_features, the algorithm will select max_features at random at each split before finding the best split among them.\n",
    "To obtain a deterministic behaviour during fitting, random_state has to be fixed to an integer.\n",
    "\n",
    "9. min_impurity_decrease: default=None\n",
    "A node will be split if this split induces a decrease of the impurity greater than equal to this value.\n",
    "The weighted impurity decrease equation is following:\n",
    "    N_t / N * (impurity - N_t_R / N_t * right_impurity - N_t_L / N_t * left_impurity)\n",
    "    N: Total number of samples \n",
    "    N_t: Number of samples at current node\n",
    "    N_t_L: Number of samples in the left child\n",
    "    N_t_R: Number of samples in the right child\n",
    "\n",
    "    N, N_t, N_t_L, N_t_R all refer to weighted sum, if sample_weight is passed.\n",
    "\n",
    "10. max_leaf_nodes: default=None\n",
    "Grow a tree with 5 nodes in the best-fit fashion.\n",
    "Best nodes are defined as relative reduction in impurity. \n",
    "If None, then unlimited number of leaf nodes.\n",
    "\n",
    "11. class_weight: default=None\n",
    "\n",
    "If None, all classes are supposed to have weight one. \n",
    "\n",
    "\n",
    "It can takes values:\n",
    "    dict: Weights associated with classes in the form {class_label: weight}.\n",
    "    List of Dict: For multi-output problems, a list of dicts can be provided, in the same order as the columns of y.\n",
    "    [\n",
    "        {0: 1, 1: 0.5},\n",
    "        {0: 1, 1: 1},\n",
    "        {0: 0.5, 1: 1},\n",
    "        {0: 0.5, 1: 0.5}\n",
    "    ]\n",
    "    balanced: It uses the value of y to automatically adjust weights inversely proportional to the class frequencies in the input data as:\n",
    "        n_samples / (n_classes * np.bincount(y))\n",
    "\n",
    "12: ccp_alpha: default=None\n",
    "Complexity parameter used for Minimal cost-complexity Pruning.\n",
    "The subtree with the largest cost complexity that is smaller than ccp_alpha will be chosen.\n",
    "\n",
    "13. monotonic_cst: default=None\n",
    "Indicates the monotonicity constraints to enforce on each feature.\n",
    "    \n",
    "It can take following values for each feature:\n",
    "    1: monotonic increase\n",
    "    0: non contsraint\n",
    "    -1: monotonic decrease\n",
    "\n",
    "It basically sort the feature in ascending or descending order.\n",
    "\n",
    "\"\"\"\n"
   ]
  },
  {
   "cell_type": "code",
   "execution_count": 87,
   "metadata": {},
   "outputs": [],
   "source": [
    "# Parameters for DecisionTreeClassifier\n",
    "clf_dt_params = {\n",
    " 'ccp_alpha': 0.0,\n",
    " 'class_weight': None,\n",
    " 'criterion': 'gini',\n",
    " 'max_depth': 5,\n",
    " 'max_features': 2,\n",
    " 'max_leaf_nodes': 5,\n",
    " 'min_impurity_decrease': 0,\n",
    " 'min_samples_leaf': 1,\n",
    " 'min_samples_split': 2,\n",
    " 'min_weight_fraction_leaf': 0.0,\n",
    " 'monotonic_cst': [1] * X_train.shape[1],\n",
    " 'random_state': seed_for_random_numbers,\n",
    " 'splitter': 'best'\n",
    " }\n",
    "\n",
    "# Create a base Decision Tree\n",
    "clf_dt = DecisionTreeClassifier(**clf_dt_params)\n",
    "clf_dt = clf_dt.fit(X_train, y_train)"
   ]
  },
  {
   "cell_type": "code",
   "execution_count": 88,
   "metadata": {},
   "outputs": [
    {
     "data": {
      "image/png": "[encoded data removed]",
      "text/plain": [
       "<Figure size 1500x750 with 1 Axes>"
      ]
     },
     "metadata": {},
     "output_type": "display_data"
    }
   ],
   "source": [
    "# Plot the Decision Tree\n",
    "plt.figure(figsize=(15, 7.5))\n",
    "plot_tree(\n",
    "    clf_dt,\n",
    "    filled=True,\n",
    "    rounded=True,\n",
    "    class_names=[\"No HD\", \"Yes HD\"],\n",
    "    feature_names=X_encoded.columns\n",
    ")\n",
    "plt.show()"
   ]
  },
  {
   "cell_type": "code",
   "execution_count": 19,
   "metadata": {},
   "outputs": [
    {
     "data": {
      "text/plain": [
       "<sklearn.metrics._plot.confusion_matrix.ConfusionMatrixDisplay at 0x191ed12a7e0>"
      ]
     },
     "execution_count": 19,
     "metadata": {},
     "output_type": "execute_result"
    },
    {
     "data": {
      "image/png": "[encoded data removed]",
      "text/plain": [
       "<Figure size 640x480 with 2 Axes>"
      ]
     },
     "metadata": {},
     "output_type": "display_data"
    }
   ],
   "source": [
    "# Measure the performance of this tree on testing datasets\n",
    "y_test_pred = clf_dt.predict(X_test)\n",
    "test_confusion_matrix = confusion_matrix(\n",
    "    y_test, y_test_pred, labels=clf_dt.classes_\n",
    ")\n",
    "\n",
    "ConfusionMatrixDisplay(\n",
    "    test_confusion_matrix,\n",
    "    display_labels=[\"Does not have HD\", \"Has HD\"]\n",
    ").plot()"
   ]
  },
  {
   "cell_type": "code",
   "execution_count": null,
   "metadata": {},
   "outputs": [],
   "source": []
  },
  {
   "cell_type": "code",
   "execution_count": null,
   "metadata": {},
   "outputs": [],
   "source": []
  }
 ],
 "metadata": {
  "kernelspec": {
   "display_name": "Python 3",
   "language": "python",
   "name": "python3"
  },
  "language_info": {
   "codemirror_mode": {
    "name": "ipython",
    "version": 3
   },
   "file_extension": ".py",
   "mimetype": "text/x-python",
   "name": "python",
   "nbconvert_exporter": "python",
   "pygments_lexer": "ipython3",
   "version": "3.12.2"
  }
 },
 "nbformat": 4,
 "nbformat_minor": 2
}
