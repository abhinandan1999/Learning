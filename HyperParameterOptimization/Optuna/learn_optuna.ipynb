{
 "cells": [
  {
   "cell_type": "markdown",
   "metadata": {},
   "source": [
    "### Optuna\n",
    "Optuna is an automatic hyperparameter optimization software framework, particularly designed for machine learning. <br>\n",
    "It is entirely written in Python."
   ]
  },
  {
   "cell_type": "markdown",
   "metadata": {},
   "source": [
    "### Concepts\n",
    "Trial: A single execution of objective function. <br>\n",
    "Study: Optimization session, which is set of trials. <br>\n",
    "Parameter: A variable whose value is to be optimized\n",
    "\n",
    "\n",
    "The goal of study is to find out the optimal set of hyperparameters values through multiple trials.\n"
   ]
  },
  {
   "cell_type": "markdown",
   "metadata": {},
   "source": [
    "#### A simple example"
   ]
  },
  {
   "cell_type": "markdown",
   "metadata": {},
   "source": [
    "Let's try to optimize: <br>\n",
    "(x - 2)^2\n",
    "\n",
    "i.e min: f(x) <br>\n",
    "f(x) = (x - 2)^2 <br>\n",
    "\n",
    "We know f(x) is minimum at x = 2\n"
   ]
  },
  {
   "cell_type": "code",
   "execution_count": 1,
   "metadata": {},
   "outputs": [
    {
     "name": "stderr",
     "output_type": "stream",
     "text": [
      "[I 2023-08-17 13:58:19,599] A new study created in memory with name: no-name-106fe41e-5750-4dbf-9117-3f42bd7781d2\n",
      "[I 2023-08-17 13:58:19,602] Trial 0 finished with value: 0.9393081861838456 and parameters: {'x': 2.9691791300806294}. Best is trial 0 with value: 0.9393081861838456.\n",
      "[I 2023-08-17 13:58:19,602] Trial 1 finished with value: 10.539596086476429 and parameters: {'x': 5.246474408720394}. Best is trial 0 with value: 0.9393081861838456.\n",
      "[I 2023-08-17 13:58:19,603] Trial 2 finished with value: 59.13618294373164 and parameters: {'x': 9.690005392958554}. Best is trial 0 with value: 0.9393081861838456.\n",
      "[I 2023-08-17 13:58:19,604] Trial 3 finished with value: 137.09395885938224 and parameters: {'x': -9.70871294632259}. Best is trial 0 with value: 0.9393081861838456.\n",
      "[I 2023-08-17 13:58:19,605] Trial 4 finished with value: 38.91990767167135 and parameters: {'x': 8.238582184412685}. Best is trial 0 with value: 0.9393081861838456.\n",
      "[I 2023-08-17 13:58:19,607] Trial 5 finished with value: 69.56196795016761 and parameters: {'x': -6.3403817628552}. Best is trial 0 with value: 0.9393081861838456.\n",
      "[I 2023-08-17 13:58:19,608] Trial 6 finished with value: 21.906728455065423 and parameters: {'x': -2.6804624189352726}. Best is trial 0 with value: 0.9393081861838456.\n",
      "[I 2023-08-17 13:58:19,609] Trial 7 finished with value: 32.09361191815735 and parameters: {'x': -3.6651224098122848}. Best is trial 0 with value: 0.9393081861838456.\n",
      "[I 2023-08-17 13:58:19,611] Trial 8 finished with value: 3.90667875830264 and parameters: {'x': 3.976532002853139}. Best is trial 0 with value: 0.9393081861838456.\n",
      "[I 2023-08-17 13:58:19,612] Trial 9 finished with value: 108.84258320265738 and parameters: {'x': -8.43276488773026}. Best is trial 0 with value: 0.9393081861838456.\n",
      "[I 2023-08-17 13:58:19,621] Trial 10 finished with value: 0.1736142384424632 and parameters: {'x': 1.5833295805526109}. Best is trial 10 with value: 0.1736142384424632.\n",
      "[I 2023-08-17 13:58:19,629] Trial 11 finished with value: 0.003085158388192236 and parameters: {'x': 1.9444557978885983}. Best is trial 11 with value: 0.003085158388192236.\n",
      "[I 2023-08-17 13:58:19,644] Trial 12 finished with value: 2.568258898588821 and parameters: {'x': 0.39742117242588626}. Best is trial 11 with value: 0.003085158388192236.\n",
      "[I 2023-08-17 13:58:19,655] Trial 13 finished with value: 4.109924834685945 and parameters: {'x': -0.027294955028977608}. Best is trial 11 with value: 0.003085158388192236.\n",
      "[I 2023-08-17 13:58:19,667] Trial 14 finished with value: 0.2635621649198171 and parameters: {'x': 1.4866169413392987}. Best is trial 11 with value: 0.003085158388192236.\n",
      "[I 2023-08-17 13:58:19,674] Trial 15 finished with value: 18.29129488190793 and parameters: {'x': 6.276832342038665}. Best is trial 11 with value: 0.003085158388192236.\n",
      "[I 2023-08-17 13:58:19,680] Trial 16 finished with value: 0.21168575635103792 and parameters: {'x': 2.460093203982669}. Best is trial 11 with value: 0.003085158388192236.\n",
      "[I 2023-08-17 13:58:19,690] Trial 17 finished with value: 6.930141419267705 and parameters: {'x': -0.6325161764493878}. Best is trial 11 with value: 0.003085158388192236.\n",
      "[I 2023-08-17 13:58:19,697] Trial 18 finished with value: 7.7264939104799275 and parameters: {'x': 4.779657157003347}. Best is trial 11 with value: 0.003085158388192236.\n",
      "[I 2023-08-17 13:58:19,702] Trial 19 finished with value: 0.004512106476634451 and parameters: {'x': 1.9328277849357753}. Best is trial 11 with value: 0.003085158388192236.\n",
      "[I 2023-08-17 13:58:19,709] Trial 20 finished with value: 23.78585314442568 and parameters: {'x': 6.8770742402003355}. Best is trial 11 with value: 0.003085158388192236.\n",
      "[I 2023-08-17 13:58:19,715] Trial 21 finished with value: 0.21285496918414784 and parameters: {'x': 2.4613620803492067}. Best is trial 11 with value: 0.003085158388192236.\n",
      "[I 2023-08-17 13:58:19,720] Trial 22 finished with value: 3.445237113434445 and parameters: {'x': 3.8561349933219957}. Best is trial 11 with value: 0.003085158388192236.\n",
      "[I 2023-08-17 13:58:19,726] Trial 23 finished with value: 0.9927771221486267 and parameters: {'x': 1.0036179838291808}. Best is trial 11 with value: 0.003085158388192236.\n",
      "[I 2023-08-17 13:58:19,730] Trial 24 finished with value: 11.07541984678153 and parameters: {'x': -1.3279753374659393}. Best is trial 11 with value: 0.003085158388192236.\n",
      "[I 2023-08-17 13:58:19,736] Trial 25 finished with value: 0.03274493391555798 and parameters: {'x': 2.1809556131087344}. Best is trial 11 with value: 0.003085158388192236.\n",
      "[I 2023-08-17 13:58:19,745] Trial 26 finished with value: 2.1887266619027135 and parameters: {'x': 3.479434575066675}. Best is trial 11 with value: 0.003085158388192236.\n",
      "[I 2023-08-17 13:58:19,751] Trial 27 finished with value: 13.475367726420567 and parameters: {'x': -1.6708810558802591}. Best is trial 11 with value: 0.003085158388192236.\n",
      "[I 2023-08-17 13:58:19,760] Trial 28 finished with value: 0.4334877465437054 and parameters: {'x': 1.3416021365893527}. Best is trial 11 with value: 0.003085158388192236.\n",
      "[I 2023-08-17 13:58:19,765] Trial 29 finished with value: 0.07606863725527206 and parameters: {'x': 2.2758054336942477}. Best is trial 11 with value: 0.003085158388192236.\n",
      "[I 2023-08-17 13:58:19,773] Trial 30 finished with value: 3.7483771621679653 and parameters: {'x': 0.0639273871654594}. Best is trial 11 with value: 0.003085158388192236.\n",
      "[I 2023-08-17 13:58:19,781] Trial 31 finished with value: 0.6093916360278913 and parameters: {'x': 2.7806354053128075}. Best is trial 11 with value: 0.003085158388192236.\n",
      "[I 2023-08-17 13:58:19,790] Trial 32 finished with value: 8.774869259678551 and parameters: {'x': 4.962240580992461}. Best is trial 11 with value: 0.003085158388192236.\n",
      "[I 2023-08-17 13:58:19,798] Trial 33 finished with value: 2.5752050008476984e-05 and parameters: {'x': 1.9949253522281367}. Best is trial 33 with value: 2.5752050008476984e-05.\n",
      "[I 2023-08-17 13:58:19,804] Trial 34 finished with value: 6.569762951775047 and parameters: {'x': 4.563154882517841}. Best is trial 33 with value: 2.5752050008476984e-05.\n",
      "[I 2023-08-17 13:58:19,810] Trial 35 finished with value: 1.5346235544719975 and parameters: {'x': 3.238799238969736}. Best is trial 33 with value: 2.5752050008476984e-05.\n",
      "[I 2023-08-17 13:58:19,816] Trial 36 finished with value: 2.163406060473099 and parameters: {'x': 0.5291478454742302}. Best is trial 33 with value: 2.5752050008476984e-05.\n",
      "[I 2023-08-17 13:58:19,823] Trial 37 finished with value: 13.760630784361119 and parameters: {'x': 5.709532421257579}. Best is trial 33 with value: 2.5752050008476984e-05.\n",
      "[I 2023-08-17 13:58:19,829] Trial 38 finished with value: 2.1682753264679544 and parameters: {'x': 3.4725064775640053}. Best is trial 33 with value: 2.5752050008476984e-05.\n",
      "[I 2023-08-17 13:58:19,835] Trial 39 finished with value: 0.07672930624294248 and parameters: {'x': 1.7229994472154568}. Best is trial 33 with value: 2.5752050008476984e-05.\n",
      "[I 2023-08-17 13:58:19,841] Trial 40 finished with value: 28.4699556349532 and parameters: {'x': 7.335724471424026}. Best is trial 33 with value: 2.5752050008476984e-05.\n",
      "[I 2023-08-17 13:58:19,847] Trial 41 finished with value: 0.08365625993722318 and parameters: {'x': 2.2892339190641775}. Best is trial 33 with value: 2.5752050008476984e-05.\n",
      "[I 2023-08-17 13:58:19,853] Trial 42 finished with value: 0.06334073492357956 and parameters: {'x': 2.251675852881399}. Best is trial 33 with value: 2.5752050008476984e-05.\n",
      "[I 2023-08-17 13:58:19,859] Trial 43 finished with value: 4.040200700284384 and parameters: {'x': 4.010025049665895}. Best is trial 33 with value: 2.5752050008476984e-05.\n",
      "[I 2023-08-17 13:58:19,866] Trial 44 finished with value: 1.3884451642950888 and parameters: {'x': 0.8216769694624955}. Best is trial 33 with value: 2.5752050008476984e-05.\n",
      "[I 2023-08-17 13:58:19,873] Trial 45 finished with value: 8.247395902929588 and parameters: {'x': -0.8718279723774522}. Best is trial 33 with value: 2.5752050008476984e-05.\n",
      "[I 2023-08-17 13:58:19,880] Trial 46 finished with value: 0.1646864788925056 and parameters: {'x': 1.5941841810716275}. Best is trial 33 with value: 2.5752050008476984e-05.\n",
      "[I 2023-08-17 13:58:19,886] Trial 47 finished with value: 11.996088666532323 and parameters: {'x': 5.463537016769465}. Best is trial 33 with value: 2.5752050008476984e-05.\n",
      "[I 2023-08-17 13:58:19,892] Trial 48 finished with value: 4.72409619125361 and parameters: {'x': -0.17349860622306568}. Best is trial 33 with value: 2.5752050008476984e-05.\n",
      "[I 2023-08-17 13:58:19,898] Trial 49 finished with value: 0.41842979949619297 and parameters: {'x': 2.6468614994697033}. Best is trial 33 with value: 2.5752050008476984e-05.\n",
      "[I 2023-08-17 13:58:19,903] Trial 50 finished with value: 19.30706458899468 and parameters: {'x': -2.3939804948354837}. Best is trial 33 with value: 2.5752050008476984e-05.\n",
      "[I 2023-08-17 13:58:19,910] Trial 51 finished with value: 0.04070444258684731 and parameters: {'x': 1.7982465797394074}. Best is trial 33 with value: 2.5752050008476984e-05.\n",
      "[I 2023-08-17 13:58:19,915] Trial 52 finished with value: 0.9999684890278835 and parameters: {'x': 1.0000157556101779}. Best is trial 33 with value: 2.5752050008476984e-05.\n",
      "[I 2023-08-17 13:58:19,921] Trial 53 finished with value: 0.026450811022722683 and parameters: {'x': 1.837362946956351}. Best is trial 33 with value: 2.5752050008476984e-05.\n",
      "[I 2023-08-17 13:58:19,929] Trial 54 finished with value: 3.224266269159409 and parameters: {'x': 0.20437579957291474}. Best is trial 33 with value: 2.5752050008476984e-05.\n",
      "[I 2023-08-17 13:58:19,934] Trial 55 finished with value: 4.5630005335743595 and parameters: {'x': 4.136118099163611}. Best is trial 33 with value: 2.5752050008476984e-05.\n",
      "[I 2023-08-17 13:58:19,940] Trial 56 finished with value: 1.00193946274491 and parameters: {'x': 3.000969261638393}. Best is trial 33 with value: 2.5752050008476984e-05.\n",
      "[I 2023-08-17 13:58:19,946] Trial 57 finished with value: 0.014973865505350238 and parameters: {'x': 1.8776322530020666}. Best is trial 33 with value: 2.5752050008476984e-05.\n",
      "[I 2023-08-17 13:58:19,951] Trial 58 finished with value: 1.3804178871958164 and parameters: {'x': 0.8250881364137068}. Best is trial 33 with value: 2.5752050008476984e-05.\n",
      "[I 2023-08-17 13:58:19,958] Trial 59 finished with value: 6.5204512472893965 and parameters: {'x': -0.5535174264706706}. Best is trial 33 with value: 2.5752050008476984e-05.\n",
      "[I 2023-08-17 13:58:19,965] Trial 60 finished with value: 1.5392096048276098 and parameters: {'x': 3.2406488644365132}. Best is trial 33 with value: 2.5752050008476984e-05.\n",
      "[I 2023-08-17 13:58:19,970] Trial 61 finished with value: 0.028142674212918013 and parameters: {'x': 1.8322422156413658}. Best is trial 33 with value: 2.5752050008476984e-05.\n",
      "[I 2023-08-17 13:58:19,977] Trial 62 finished with value: 0.3078277636375927 and parameters: {'x': 1.4451777188706345}. Best is trial 33 with value: 2.5752050008476984e-05.\n",
      "[I 2023-08-17 13:58:19,982] Trial 63 finished with value: 0.014163977251162144 and parameters: {'x': 2.119012508801227}. Best is trial 33 with value: 2.5752050008476984e-05.\n",
      "[I 2023-08-17 13:58:19,987] Trial 64 finished with value: 0.8307316956109271 and parameters: {'x': 2.9114448395876336}. Best is trial 33 with value: 2.5752050008476984e-05.\n",
      "[I 2023-08-17 13:58:19,994] Trial 65 finished with value: 2.677208643157344 and parameters: {'x': 0.36378221401998445}. Best is trial 33 with value: 2.5752050008476984e-05.\n",
      "[I 2023-08-17 13:58:20,000] Trial 66 finished with value: 0.0010615603786004407 and parameters: {'x': 2.0325815957037165}. Best is trial 33 with value: 2.5752050008476984e-05.\n",
      "[I 2023-08-17 13:58:20,006] Trial 67 finished with value: 0.7869277124721252 and parameters: {'x': 1.112910538630897}. Best is trial 33 with value: 2.5752050008476984e-05.\n",
      "[I 2023-08-17 13:58:20,012] Trial 68 finished with value: 6.15089649554424 and parameters: {'x': 4.480100097888035}. Best is trial 33 with value: 2.5752050008476984e-05.\n",
      "[I 2023-08-17 13:58:20,017] Trial 69 finished with value: 3.1593317947040256 and parameters: {'x': 3.7774509261028912}. Best is trial 33 with value: 2.5752050008476984e-05.\n",
      "[I 2023-08-17 13:58:20,023] Trial 70 finished with value: 0.6131633680842049 and parameters: {'x': 2.7830474877580573}. Best is trial 33 with value: 2.5752050008476984e-05.\n",
      "[I 2023-08-17 13:58:20,029] Trial 71 finished with value: 0.024082581654670206 and parameters: {'x': 1.8448143638906287}. Best is trial 33 with value: 2.5752050008476984e-05.\n",
      "[I 2023-08-17 13:58:20,035] Trial 72 finished with value: 0.011664803612164395 and parameters: {'x': 2.108003720362608}. Best is trial 33 with value: 2.5752050008476984e-05.\n",
      "[I 2023-08-17 13:58:20,042] Trial 73 finished with value: 2.440118287587676 and parameters: {'x': 3.562087797656609}. Best is trial 33 with value: 2.5752050008476984e-05.\n",
      "[I 2023-08-17 13:58:20,048] Trial 74 finished with value: 0.1004130594746479 and parameters: {'x': 2.316880197353271}. Best is trial 33 with value: 2.5752050008476984e-05.\n",
      "[I 2023-08-17 13:58:20,053] Trial 75 finished with value: 0.9015906398270893 and parameters: {'x': 1.050478731240269}. Best is trial 33 with value: 2.5752050008476984e-05.\n",
      "[I 2023-08-17 13:58:20,061] Trial 76 finished with value: 2.1985814919280067 and parameters: {'x': 0.5172385586588764}. Best is trial 33 with value: 2.5752050008476984e-05.\n",
      "[I 2023-08-17 13:58:20,066] Trial 77 finished with value: 1.1818478761684523 and parameters: {'x': 3.087128270338166}. Best is trial 33 with value: 2.5752050008476984e-05.\n",
      "[I 2023-08-17 13:58:20,075] Trial 78 finished with value: 0.014095020863182891 and parameters: {'x': 2.1187224530709456}. Best is trial 33 with value: 2.5752050008476984e-05.\n",
      "[I 2023-08-17 13:58:20,080] Trial 79 finished with value: 0.40920390862974826 and parameters: {'x': 1.3603095212294087}. Best is trial 33 with value: 2.5752050008476984e-05.\n",
      "[I 2023-08-17 13:58:20,087] Trial 80 finished with value: 5.066328786587263 and parameters: {'x': 4.250850680651043}. Best is trial 33 with value: 2.5752050008476984e-05.\n",
      "[I 2023-08-17 13:58:20,094] Trial 81 finished with value: 0.0021402971463392022 and parameters: {'x': 2.0462633456025308}. Best is trial 33 with value: 2.5752050008476984e-05.\n",
      "[I 2023-08-17 13:58:20,099] Trial 82 finished with value: 0.10563763602328943 and parameters: {'x': 2.325019439454457}. Best is trial 33 with value: 2.5752050008476984e-05.\n",
      "[I 2023-08-17 13:58:20,105] Trial 83 finished with value: 0.32709314638764136 and parameters: {'x': 2.571920576992681}. Best is trial 33 with value: 2.5752050008476984e-05.\n",
      "[I 2023-08-17 13:58:20,112] Trial 84 finished with value: 2.2947615156709085 and parameters: {'x': 3.5148470271518866}. Best is trial 33 with value: 2.5752050008476984e-05.\n",
      "[I 2023-08-17 13:58:20,119] Trial 85 finished with value: 1.9399236506315158 and parameters: {'x': 0.6071885803772588}. Best is trial 33 with value: 2.5752050008476984e-05.\n",
      "[I 2023-08-17 13:58:20,127] Trial 86 finished with value: 4.388220750000521 and parameters: {'x': -0.0948080460988594}. Best is trial 33 with value: 2.5752050008476984e-05.\n",
      "[I 2023-08-17 13:58:20,133] Trial 87 finished with value: 0.38302294786753016 and parameters: {'x': 1.3811115222695367}. Best is trial 33 with value: 2.5752050008476984e-05.\n",
      "[I 2023-08-17 13:58:20,140] Trial 88 finished with value: 0.0013341327565131193 and parameters: {'x': 2.036525782079418}. Best is trial 33 with value: 2.5752050008476984e-05.\n",
      "[I 2023-08-17 13:58:20,146] Trial 89 finished with value: 8.824032114525147 and parameters: {'x': 4.970527245208356}. Best is trial 33 with value: 2.5752050008476984e-05.\n",
      "[I 2023-08-17 13:58:20,152] Trial 90 finished with value: 1.557497037064463 and parameters: {'x': 3.247997210359247}. Best is trial 33 with value: 2.5752050008476984e-05.\n",
      "[I 2023-08-17 13:58:20,160] Trial 91 finished with value: 0.0003646325818540314 and parameters: {'x': 1.980904645018905}. Best is trial 33 with value: 2.5752050008476984e-05.\n",
      "[I 2023-08-17 13:58:20,166] Trial 92 finished with value: 0.4203892444979446 and parameters: {'x': 2.6483743089434872}. Best is trial 33 with value: 2.5752050008476984e-05.\n",
      "[I 2023-08-17 13:58:20,171] Trial 93 finished with value: 0.07568318789266962 and parameters: {'x': 2.275105775825717}. Best is trial 33 with value: 2.5752050008476984e-05.\n",
      "[I 2023-08-17 13:58:20,179] Trial 94 finished with value: 0.5640131074147189 and parameters: {'x': 1.2489919391812636}. Best is trial 33 with value: 2.5752050008476984e-05.\n",
      "[I 2023-08-17 13:58:20,184] Trial 95 finished with value: 0.007904841907713667 and parameters: {'x': 2.0889091778598456}. Best is trial 33 with value: 2.5752050008476984e-05.\n",
      "[I 2023-08-17 13:58:20,190] Trial 96 finished with value: 3.37160878040717 and parameters: {'x': 3.8361941020510795}. Best is trial 33 with value: 2.5752050008476984e-05.\n",
      "[I 2023-08-17 13:58:20,202] Trial 97 finished with value: 0.5319541981288117 and parameters: {'x': 2.729351902807425}. Best is trial 33 with value: 2.5752050008476984e-05.\n",
      "[I 2023-08-17 13:58:20,214] Trial 98 finished with value: 0.14138664834261871 and parameters: {'x': 1.6239858402365428}. Best is trial 33 with value: 2.5752050008476984e-05.\n",
      "[I 2023-08-17 13:58:20,221] Trial 99 finished with value: 1.7209891506872 and parameters: {'x': 0.6881352391777573}. Best is trial 33 with value: 2.5752050008476984e-05.\n"
     ]
    }
   ],
   "source": [
    "# Import the library\n",
    "import optuna\n",
    "\n",
    "# Conventionally we define the function which need to optimized as \"objective\"\n",
    "def objective(trial):\n",
    "    \"\"\"\n",
    "        Args:\n",
    "            trial: A trial object corrresponds to a single execution of the objective function and\n",
    "                   is internally instantiated upon each invocation of the function\n",
    "\n",
    "        Returns:\n",
    "\n",
    "    \"\"\"\n",
    "\n",
    "    # Sample the variable which needs to be optimized\n",
    "    # \"suggest\" API are called inside the objective function to obtain parameter of trial. \n",
    "    x = trial.suggest_float(\"x\", -10, 10)\n",
    "\n",
    "    # Always return the objective function which needs to minimized\n",
    "    # In case of ML, it would be Loss \n",
    "    return (x - 2)**2\n",
    "\n",
    "# Create the study object\n",
    "study  = optuna.create_study()\n",
    "\n",
    "# Call the optimize method by passing \"objective\" function and \"n_trials\"\n",
    "study.optimize(objective, n_trials=100)"
   ]
  },
  {
   "cell_type": "code",
   "execution_count": 2,
   "metadata": {},
   "outputs": [
    {
     "name": "stdout",
     "output_type": "stream",
     "text": [
      "Best parameter is: {'x': 1.9949253522281367}\n",
      "Best value is: 2.5752050008476984e-05\n",
      "Best trial is: FrozenTrial(number=33, state=TrialState.COMPLETE, values=[2.5752050008476984e-05], datetime_start=datetime.datetime(2023, 8, 17, 13, 58, 19, 792665), datetime_complete=datetime.datetime(2023, 8, 17, 13, 58, 19, 798175), params={'x': 1.9949253522281367}, user_attrs={}, system_attrs={}, intermediate_values={}, distributions={'x': FloatDistribution(high=10.0, log=False, low=-10.0, step=None)}, trial_id=33, value=None)\n",
      "Number of trials are: 100\n"
     ]
    }
   ],
   "source": [
    "# Get the best parameters \n",
    "print(f\"Best parameter is: {study.best_params}\")\n",
    "\n",
    "# Get the best value\n",
    "print(f\"Best value is: {study.best_value}\")\n",
    "\n",
    "# Get the best trial\n",
    "print(f\"Best trial is: {study.best_trial}\")\n",
    "\n",
    "# Get num of trials\n",
    "print(f\"Number of trials are: {len(study.trials)}\")\n",
    "\n",
    "# To get all trials\n",
    "# study.trials"
   ]
  },
  {
   "cell_type": "markdown",
   "metadata": {},
   "source": [
    "#### Pythonic search space"
   ]
  },
  {
   "cell_type": "markdown",
   "metadata": {},
   "source": [
    "For HyperParameter sampling optuna provides the following features: <br>\n",
    "1  optuna.trial.Trial.suggest_categorical <br>\n",
    "2  optuna.trial.Trial.suggest_discrete_uniform <br>\n",
    "3  optuna.trial.Trial.suggest_float <br>\n",
    "4  optuna.trial.Trial.suggest_int <br>\n",
    "5  optuna.trial.Trial.suggest_loguniform <br>\n",
    "6  optuna.trial.Trial.suggest_uniform <br>"
   ]
  },
  {
   "cell_type": "code",
   "execution_count": 23,
   "metadata": {},
   "outputs": [],
   "source": [
    "def objective(trial):\n",
    "    # Categorical parameter\n",
    "    optimizer = trial.suggest_categorical(\"optimizer\", [\"MomentumSGD\", \"Adam\"])\n",
    "    print(optimizer)\n",
    "\n",
    "    # Integer parameter\n",
    "    num_layers = trial.suggest_int(\"num_layers\", 1, 3)\n",
    "    print(num_layers)\n",
    "\n",
    "    # Integer parameter (log)\n",
    "    num_channels = trial.suggest_int(\"num_channels\", 32, 512, log=True)\n",
    "    print(num_channels)\n",
    "\n",
    "    # Integer parameter (discretized)\n",
    "    num_units = trial.suggest_int(\"num_units\", 10, 100, step=5)\n",
    "    print(num_units)\n",
    "\n",
    "    # Floating point parameter\n",
    "    dropout_rate = trial.suggest_float(\"dropout_rate\", 0.0, 1.0)\n",
    "    print(dropout_rate)\n",
    "\n",
    "    # Floating point parameter (log)\n",
    "    learning_rate = trial.suggest_float(\"learning_rate\", 1e-5, 1e-2, log=True)\n",
    "    print(learning_rate)\n",
    "\n",
    "    # Floating point parameter (discretized)\n",
    "    drop_path_rate = trial.suggest_float(\"drop_path_rate\", 0.0, 1.0, step=0.1)\n",
    "    print(drop_path_rate)"
   ]
  },
  {
   "cell_type": "code",
   "execution_count": 25,
   "metadata": {},
   "outputs": [
    {
     "name": "stderr",
     "output_type": "stream",
     "text": [
      "[I 2023-08-17 15:11:16,065] A new study created in memory with name: no-name-ced8d171-5f8c-4a7a-be23-7b03717d0421\n",
      "[W 2023-08-17 15:11:16,070] Trial 0 failed with parameters: {'optimizer': 'MomentumSGD', 'num_layers': 1, 'num_channels': 120, 'num_units': 50, 'dropout_rate': 0.014343831891252656, 'learning_rate': 8.24688538144633e-05, 'drop_path_rate': 0.0} because of the following error: The value None could not be cast to float..\n",
      "[W 2023-08-17 15:11:16,071] Trial 0 failed with value None.\n",
      "[W 2023-08-17 15:11:16,075] Trial 1 failed with parameters: {'optimizer': 'MomentumSGD', 'num_layers': 2, 'num_channels': 46, 'num_units': 60, 'dropout_rate': 0.6910942427081528, 'learning_rate': 0.0002123946191339557, 'drop_path_rate': 0.6000000000000001} because of the following error: The value None could not be cast to float..\n",
      "[W 2023-08-17 15:11:16,076] Trial 1 failed with value None.\n",
      "[W 2023-08-17 15:11:16,079] Trial 2 failed with parameters: {'optimizer': 'Adam', 'num_layers': 2, 'num_channels': 355, 'num_units': 20, 'dropout_rate': 0.2616117069526859, 'learning_rate': 0.005407678060643385, 'drop_path_rate': 0.7000000000000001} because of the following error: The value None could not be cast to float..\n",
      "[W 2023-08-17 15:11:16,080] Trial 2 failed with value None.\n",
      "[W 2023-08-17 15:11:16,084] Trial 3 failed with parameters: {'optimizer': 'Adam', 'num_layers': 2, 'num_channels': 63, 'num_units': 80, 'dropout_rate': 0.6933545727235636, 'learning_rate': 0.00011992755330276369, 'drop_path_rate': 0.0} because of the following error: The value None could not be cast to float..\n",
      "[W 2023-08-17 15:11:16,085] Trial 3 failed with value None.\n"
     ]
    },
    {
     "name": "stdout",
     "output_type": "stream",
     "text": [
      "MomentumSGD\n",
      "1\n",
      "120\n",
      "50\n",
      "0.014343831891252656\n",
      "8.24688538144633e-05\n",
      "0.0\n",
      "MomentumSGD\n",
      "2\n",
      "46\n",
      "60\n",
      "0.6910942427081528\n",
      "0.0002123946191339557\n",
      "0.6000000000000001\n",
      "Adam\n",
      "2\n",
      "355\n",
      "20\n",
      "0.2616117069526859\n",
      "0.005407678060643385\n",
      "0.7000000000000001\n",
      "Adam\n",
      "2\n",
      "63\n",
      "80\n",
      "0.6933545727235636\n",
      "0.00011992755330276369\n",
      "0.0\n"
     ]
    }
   ],
   "source": [
    "study = optuna.create_study()\n",
    "study.optimize(objective, n_trials=4)"
   ]
  },
  {
   "cell_type": "code",
   "execution_count": null,
   "metadata": {},
   "outputs": [],
   "source": []
  },
  {
   "cell_type": "markdown",
   "metadata": {},
   "source": [
    "##### Note\n",
    "The difficulty of optimization increases roughly exponentially with regard to the number of parameters. That is, the number of necessary trials increases exponentially when you increase the number of parameters, so it is recommended to not add unimportant parameters."
   ]
  },
  {
   "cell_type": "markdown",
   "metadata": {},
   "source": [
    "##### Efficient optimization Algorithms\n",
    "Optuna enables efficient hyperparameter optimization by adopting state-of-the-art algorithms for sampling hyperparameters and pruning efficiently unpromising trials.\n",
    "\n",
    "##### Sampling algorithms\n",
    "Samplers basically continually narrow down the search space using the records of suggested parameter values and evaluated objective values, leading to an optimal search space with giving off parameters leading to better objective values. <br>\n",
    "\n",
    "##### Sampling algorithms\n",
    "1) Grid search: <b>GridSampler</b>\n",
    "2) Random search: <b>RandomSampler</b>\n",
    "3) Tree-structured Parzen estimator: <b>TPESampler</b>\n",
    "4) CMA-ES: <b>CmaEsSampler</b>\n",
    "5) Algorithm to enable partial fixed parameters implemented in <b>PartialFixedSampler</b>\n",
    "6) Nondominated Sorting Genetic Algorithm II implemented in <b>NSGAIISampler</b>\n",
    "7) A Quasi Monte Carlo sampling algorithm implemented in <b>QMCSampler</b>\n",
    "\n",
    "The default sampler is <b>TPESampler</b>"
   ]
  },
  {
   "cell_type": "markdown",
   "metadata": {},
   "source": [
    "#### Setting Samplers\n",
    "study = optuna.create_study(sampler=<b>optuna.samplers.RandomSampler()</b>)"
   ]
  },
  {
   "cell_type": "code",
   "execution_count": 36,
   "metadata": {},
   "outputs": [
    {
     "name": "stderr",
     "output_type": "stream",
     "text": [
      "[I 2023-08-17 15:34:38,838] A new study created in memory with name: no-name-92f28b9b-65b4-4cfa-b7a4-2ea93614e618\n"
     ]
    },
    {
     "name": "stdout",
     "output_type": "stream",
     "text": [
      "Sampler used is: RandomSampler\n"
     ]
    }
   ],
   "source": [
    "study = optuna.create_study(sampler=optuna.samplers.RandomSampler())\n",
    "print(f\"Sampler used is: {study.sampler.__class__.__name__}\")"
   ]
  },
  {
   "cell_type": "markdown",
   "metadata": {},
   "source": [
    "#### Pruning Algorithms\n",
    "Pruners automatically stops unpromising trials at early stages of training (aka, automated early stopping).\n",
    "\n",
    "Pruning Algorithms:\n",
    "1. Median Pruning algorithm: <b>MedianPruner</b>\n",
    "2. Non-pruning algorithm: <b>NopPruner</b>\n",
    "3. Algorithm to implement pruner with tolerance implemented: <b>PatientPruner</b>\n",
    "4. Algorithm to prune specified percentile of trials implemented: <b>PercentilePruner</b>\n",
    "5. Asynchronous Successive Halving algorithm: <b>SuccessiveHalvingPruner</b>\n",
    "6. Hyperband algorithm: <b>HyperbrandPruner</b>\n",
    "7. Threshold pruning algorithm: <b>ThresholdPruner</b>"
   ]
  },
  {
   "cell_type": "markdown",
   "metadata": {},
   "source": [
    "To turn on pruning feature, you need to call <i>report()</i> and <i>should_prune()</i> after <b>each</b> step of iterating training. <br>\n",
    "<i>report</i> periodically monitors the intermediate objectives values. <br>\n",
    "<i>should_prune</i> decides termination of the trial that does not meet a predefined condition."
   ]
  },
  {
   "cell_type": "code",
   "execution_count": 37,
   "metadata": {},
   "outputs": [],
   "source": [
    "import logging\n",
    "import sys\n",
    "\n",
    "import sklearn.datasets\n",
    "import sklearn.linear_model\n",
    "import sklearn.model_selection\n",
    "\n",
    "\n",
    "def objective(trial):\n",
    "    iris = sklearn.datasets.load_iris()\n",
    "    classes = list(set(iris.target))\n",
    "    train_x, valid_x, train_y, valid_y = sklearn.model_selection.train_test_split(\n",
    "        iris.data, iris.target, test_size=0.25, random_state=0\n",
    "    )\n",
    "\n",
    "    alpha = trial.suggest_float(\"alpha\", 1e-5, 1e-1, log=True)\n",
    "    clf = sklearn.linear_model.SGDClassifier(alpha=alpha)\n",
    "\n",
    "    for step in range(100):\n",
    "        clf.partial_fit(train_x, train_y, classes=classes)\n",
    "\n",
    "        # Report intermediate objective value.\n",
    "        intermediate_value = 1.0 - clf.score(valid_x, valid_y)\n",
    "        trial.report(intermediate_value, step)\n",
    "\n",
    "        # Handle pruning based on the intermediate value.\n",
    "        if trial.should_prune():\n",
    "            raise optuna.TrialPruned()\n",
    "\n",
    "    return 1.0 - clf.score(valid_x, valid_y)"
   ]
  },
  {
   "cell_type": "code",
   "execution_count": 38,
   "metadata": {},
   "outputs": [
    {
     "name": "stderr",
     "output_type": "stream",
     "text": [
      "[I 2023-08-17 15:55:53,878] A new study created in memory with name: no-name-3502495e-d54d-4df0-a46b-e0a2f06d32d1\n",
      "[I 2023-08-17 15:55:54,066] Trial 0 finished with value: 0.07894736842105265 and parameters: {'alpha': 0.008500363754434878}. Best is trial 0 with value: 0.07894736842105265.\n",
      "[I 2023-08-17 15:55:54,223] Trial 1 finished with value: 0.3421052631578947 and parameters: {'alpha': 7.412350618752943e-05}. Best is trial 0 with value: 0.07894736842105265.\n",
      "[I 2023-08-17 15:55:54,380] Trial 2 finished with value: 0.23684210526315785 and parameters: {'alpha': 0.008726733282400114}. Best is trial 0 with value: 0.07894736842105265.\n",
      "[I 2023-08-17 15:55:54,538] Trial 3 finished with value: 0.21052631578947367 and parameters: {'alpha': 5.3743226938865354e-05}. Best is trial 0 with value: 0.07894736842105265.\n",
      "[I 2023-08-17 15:55:54,696] Trial 4 finished with value: 0.052631578947368474 and parameters: {'alpha': 0.00040510090654396005}. Best is trial 4 with value: 0.052631578947368474.\n",
      "[I 2023-08-17 15:55:54,713] Trial 5 pruned. \n",
      "[I 2023-08-17 15:55:54,719] Trial 6 pruned. \n",
      "[I 2023-08-17 15:55:54,726] Trial 7 pruned. \n",
      "[I 2023-08-17 15:55:54,734] Trial 8 pruned. \n",
      "[I 2023-08-17 15:55:54,812] Trial 9 pruned. \n",
      "[I 2023-08-17 15:55:54,822] Trial 10 pruned. \n",
      "[I 2023-08-17 15:55:54,836] Trial 11 pruned. \n",
      "[I 2023-08-17 15:55:54,848] Trial 12 pruned. \n",
      "[I 2023-08-17 15:55:54,859] Trial 13 pruned. \n",
      "[I 2023-08-17 15:55:54,871] Trial 14 pruned. \n",
      "[I 2023-08-17 15:55:54,885] Trial 15 pruned. \n",
      "[I 2023-08-17 15:55:54,899] Trial 16 pruned. \n",
      "[I 2023-08-17 15:55:54,911] Trial 17 pruned. \n",
      "[I 2023-08-17 15:55:54,933] Trial 18 pruned. \n",
      "[I 2023-08-17 15:55:54,978] Trial 19 pruned. \n"
     ]
    }
   ],
   "source": [
    "study = optuna.create_study(pruner=optuna.pruners.MedianPruner())\n",
    "study.optimize(objective, n_trials=20)"
   ]
  },
  {
   "cell_type": "markdown",
   "metadata": {},
   "source": [
    "#### Which sampler and pruner should be used?\n",
    "For non deep learning task, following is the best:\n",
    "- For <i>RandomSampler</i>, <i>MedianPruner</i> is the best\n",
    "- For <i>TPESampler</i>, HyperbrandPruner</i> is the best\n",
    "\n",
    "For Deep learning tasks:\n",
    "\n",
    "\n",
    "![DeepLearning_Sampler_and_pruner](.\\Images\\Deep_learning_Sampler_Pruner.png)\n"
   ]
  },
  {
   "cell_type": "code",
   "execution_count": null,
   "metadata": {},
   "outputs": [],
   "source": [
    "optuna.create_study()"
   ]
  },
  {
   "cell_type": "code",
   "execution_count": null,
   "metadata": {},
   "outputs": [],
   "source": []
  },
  {
   "cell_type": "code",
   "execution_count": null,
   "metadata": {},
   "outputs": [],
   "source": []
  },
  {
   "cell_type": "code",
   "execution_count": null,
   "metadata": {},
   "outputs": [],
   "source": []
  },
  {
   "cell_type": "code",
   "execution_count": null,
   "metadata": {},
   "outputs": [],
   "source": []
  },
  {
   "cell_type": "code",
   "execution_count": null,
   "metadata": {},
   "outputs": [],
   "source": []
  },
  {
   "cell_type": "code",
   "execution_count": null,
   "metadata": {},
   "outputs": [],
   "source": []
  },
  {
   "cell_type": "code",
   "execution_count": null,
   "metadata": {},
   "outputs": [],
   "source": []
  },
  {
   "cell_type": "code",
   "execution_count": null,
   "metadata": {},
   "outputs": [],
   "source": []
  }
 ],
 "metadata": {
  "kernelspec": {
   "display_name": "Python 3",
   "language": "python",
   "name": "python3"
  },
  "language_info": {
   "codemirror_mode": {
    "name": "ipython",
    "version": 3
   },
   "file_extension": ".py",
   "mimetype": "text/x-python",
   "name": "python",
   "nbconvert_exporter": "python",
   "pygments_lexer": "ipython3",
   "version": "3.10.0"
  },
  "orig_nbformat": 4
 },
 "nbformat": 4,
 "nbformat_minor": 2
}
