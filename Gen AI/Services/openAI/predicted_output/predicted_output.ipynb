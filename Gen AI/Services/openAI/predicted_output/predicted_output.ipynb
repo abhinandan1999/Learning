{
 "cells": [
  {
   "cell_type": "markdown",
   "metadata": {},
   "source": [
    "### Predictive Output\n",
    "Reduce latency for model responses where much of the response is known ahead of time.\n",
    "Predicted Outputs enable you to speed up API responses from Chat Completions when many of the output tokens are known ahead of time. \n",
    "\n",
    "- This is most common when you are **regenerating a text or code file with minor modifications.**"
   ]
  },
  {
   "cell_type": "code",
   "execution_count": 11,
   "metadata": {},
   "outputs": [],
   "source": [
    "from openai import OpenAI\n",
    "import os\n",
    "from dotenv import load_dotenv\n",
    "load_dotenv()\n",
    "\n",
    "open_api_key = os.getenv(\"open_api_key\")\n",
    "\n",
    "openAI_params = {\n",
    "    'api_key': open_api_key\n",
    "}\n",
    "client = OpenAI(**openAI_params)"
   ]
  },
  {
   "cell_type": "code",
   "execution_count": 12,
   "metadata": {},
   "outputs": [
    {
     "name": "stdout",
     "output_type": "stream",
     "text": [
      "------------------------------\n",
      "Details about response\n",
      "------------------------------\n",
      "Model: gpt-4o-2024-08-06\n",
      "\n",
      "\n",
      "------------------------------\n",
      "Details about Results\n",
      "------------------------------\n",
      "Content Result: class User {\n",
      "  firstName: string = \"\";\n",
      "  lastName: string = \"\";\n",
      "  email: string = \"\";\n",
      "}\n",
      "\n",
      "export default User;\n",
      "\n",
      "\n",
      "------------------------------\n",
      "Details about Usage\n",
      "------------------------------\n",
      "Result: {'completion_tokens': 58, 'prompt_tokens': 66, 'total_tokens': 124, 'completion_tokens_details': {'accepted_prediction_tokens': 0, 'audio_tokens': 0, 'reasoning_tokens': 0, 'rejected_prediction_tokens': 29}, 'prompt_tokens_details': {'audio_tokens': 0, 'cached_tokens': 0}}\n"
     ]
    }
   ],
   "source": [
    "code = \"\"\"\n",
    "class User {\n",
    "  firstName: string = \"\";\n",
    "  lastName: string = \"\";\n",
    "  username: string = \"\";\n",
    "}\n",
    "\n",
    "export default User;\n",
    "\"\"\"\n",
    "\n",
    "refactor_prompt = \"\"\"\n",
    "Replace the \"username\" property with an \"email\" property. Respond only \n",
    "with code, and with no markdown formatting.\n",
    "\"\"\"\n",
    "\n",
    "completion = client.chat.completions.create(\n",
    "    model=\"gpt-4o\",\n",
    "    messages=[\n",
    "        {\n",
    "            \"role\": \"user\",\n",
    "            \"content\": refactor_prompt\n",
    "        },\n",
    "        {\n",
    "            \"role\": \"user\",\n",
    "            \"content\": code\n",
    "        }\n",
    "    ],\n",
    "    prediction={\n",
    "        \"type\": \"content\",\n",
    "        \"content\": code\n",
    "    }\n",
    ")\n",
    "\n",
    "print(\"-\"*30, \"Details about response\", \"-\"*30, sep='\\n')\n",
    "print(f\"Model: {completion.model}\")\n",
    "\n",
    "print(\"\\n\", \"-\"*30, \"Details about Results\", \"-\"*30, sep='\\n')\n",
    "print(f\"Content Result: {completion.choices[0].message.content}\")\n",
    "\n",
    "\n",
    "print(\"\\n\", \"-\"*30, \"Details about Usage\", \"-\"*30, sep='\\n')\n",
    "print(f\"Result: {completion.usage.to_dict()}\")"
   ]
  },
  {
   "cell_type": "code",
   "execution_count": 1,
   "metadata": {},
   "outputs": [],
   "source": []
  },
  {
   "cell_type": "markdown",
   "metadata": {},
   "source": []
  },
  {
   "cell_type": "code",
   "execution_count": null,
   "metadata": {},
   "outputs": [],
   "source": []
  },
  {
   "cell_type": "code",
   "execution_count": null,
   "metadata": {},
   "outputs": [],
   "source": []
  }
 ],
 "metadata": {
  "kernelspec": {
   "display_name": "gen_AI_python3130_env",
   "language": "python",
   "name": "python3"
  },
  "language_info": {
   "codemirror_mode": {
    "name": "ipython",
    "version": 3
   },
   "file_extension": ".py",
   "mimetype": "text/x-python",
   "name": "python",
   "nbconvert_exporter": "python",
   "pygments_lexer": "ipython3",
   "version": "3.13.0"
  }
 },
 "nbformat": 4,
 "nbformat_minor": 2
}
