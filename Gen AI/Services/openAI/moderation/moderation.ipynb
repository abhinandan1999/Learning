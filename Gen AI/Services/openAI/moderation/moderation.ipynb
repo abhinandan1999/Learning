{
 "cells": [
  {
   "cell_type": "code",
   "execution_count": 5,
   "metadata": {},
   "outputs": [],
   "source": [
    "from openai import OpenAI\n",
    "\n",
    "openAI_params = {\n",
    "    'api_key': \n",
    "}\n",
    "client = OpenAI(**openAI_params)"
   ]
  },
  {
   "cell_type": "markdown",
   "metadata": {},
   "source": [
    "The moderations endpoint is a tool you can use to check whether text or images are potentially harmful. Once harmful content is identified, developers can take corrective action like filtering content or intervening with user accounts creating offending content. \n",
    "\n",
    "Note: *The moderation endpoint is free to use.*"
   ]
  },
  {
   "cell_type": "code",
   "execution_count": 6,
   "metadata": {},
   "outputs": [
    {
     "name": "stdout",
     "output_type": "stream",
     "text": [
      "ModerationCreateResponse(id='modr-44b5a87982898cd173789d127f7556c2', model='omni-moderation-latest', results=[Moderation(categories=Categories(harassment=True, harassment_threatening=False, hate=False, hate_threatening=False, illicit=False, illicit_violent=False, self_harm=False, self_harm_instructions=False, self_harm_intent=False, sexual=False, sexual_minors=False, violence=False, violence_graphic=False, harassment/threatening=False, hate/threatening=False, illicit/violent=False, self-harm/intent=False, self-harm/instructions=False, self-harm=False, sexual/minors=False, violence/graphic=False), category_applied_input_types=CategoryAppliedInputTypes(harassment=['text'], harassment_threatening=['text'], hate=['text'], hate_threatening=['text'], illicit=['text'], illicit_violent=['text'], self_harm=['text'], self_harm_instructions=['text'], self_harm_intent=['text'], sexual=['text'], sexual_minors=['text'], violence=['text'], violence_graphic=['text'], harassment/threatening=['text'], hate/threatening=['text'], illicit/violent=['text'], self-harm/intent=['text'], self-harm/instructions=['text'], self-harm=['text'], sexual/minors=['text'], violence/graphic=['text']), category_scores=CategoryScores(harassment=0.9759470609797462, harassment_threatening=3.8596609058077356e-05, hate=0.0001064962672055945, hate_threatening=6.144174602214718e-07, illicit=4.076525923157939e-05, illicit_violent=5.064471653194114e-06, self_harm=0.00045429807851823744, self_harm_instructions=0.00021969932935077746, self_harm_intent=0.00021439027518160267, sexual=6.667023092435894e-05, sexual_minors=1.8925148246037342e-06, violence=0.0005056385041563992, violence_graphic=4.006369222920725e-06, harassment/threatening=3.8596609058077356e-05, hate/threatening=6.144174602214718e-07, illicit/violent=5.064471653194114e-06, self-harm/intent=0.00021439027518160267, self-harm/instructions=0.00021969932935077746, self-harm=0.00045429807851823744, sexual/minors=1.8925148246037342e-06, violence/graphic=4.006369222920725e-06), flagged=True)])\n"
     ]
    }
   ],
   "source": [
    "response = client.moderations.create(\n",
    "  model=\"omni-moderation-latest\",\n",
    "  input=\"Are you stupid?\",\n",
    ")\n",
    "\n",
    "print(response)"
   ]
  },
  {
   "cell_type": "code",
   "execution_count": 7,
   "metadata": {},
   "outputs": [
    {
     "name": "stdout",
     "output_type": "stream",
     "text": [
      "ModerationCreateResponse(id='modr-4fb18a67b7f8e62c4a9751bb5008fb66', model='omni-moderation-latest', results=[Moderation(categories=Categories(harassment=True, harassment_threatening=False, hate=False, hate_threatening=False, illicit=False, illicit_violent=False, self_harm=False, self_harm_instructions=False, self_harm_intent=False, sexual=False, sexual_minors=False, violence=False, violence_graphic=False, harassment/threatening=False, hate/threatening=False, illicit/violent=False, self-harm/intent=False, self-harm/instructions=False, self-harm=False, sexual/minors=False, violence/graphic=False), category_applied_input_types=CategoryAppliedInputTypes(harassment=['text'], harassment_threatening=['text'], hate=['text'], hate_threatening=['text'], illicit=['text'], illicit_violent=['text'], self_harm=['text'], self_harm_instructions=['text'], self_harm_intent=['text'], sexual=['text'], sexual_minors=['text'], violence=['text'], violence_graphic=['text'], harassment/threatening=['text'], hate/threatening=['text'], illicit/violent=['text'], self-harm/intent=['text'], self-harm/instructions=['text'], self-harm=['text'], sexual/minors=['text'], violence/graphic=['text']), category_scores=CategoryScores(harassment=0.9759470609797462, harassment_threatening=3.8596609058077356e-05, hate=0.0001064962672055945, hate_threatening=6.144174602214718e-07, illicit=4.076525923157939e-05, illicit_violent=5.064471653194114e-06, self_harm=0.00045429807851823744, self_harm_instructions=0.00021969932935077746, self_harm_intent=0.00021439027518160267, sexual=6.667023092435894e-05, sexual_minors=1.8925148246037342e-06, violence=0.0005056385041563992, violence_graphic=4.006369222920725e-06, harassment/threatening=3.8596609058077356e-05, hate/threatening=6.144174602214718e-07, illicit/violent=5.064471653194114e-06, self-harm/intent=0.00021439027518160267, self-harm/instructions=0.00021969932935077746, self-harm=0.00045429807851823744, sexual/minors=1.8925148246037342e-06, violence/graphic=4.006369222920725e-06), flagged=True)])\n"
     ]
    }
   ],
   "source": [
    "response = client.moderations.create(\n",
    "  model=\"omni-moderation-latest\",\n",
    "  input=[\n",
    "      {\"type\": \"text\", \"text\": \"Are you stupid?\"},\n",
    "    #   {\n",
    "    #       \"type\": \"image_url\",\n",
    "    #       \"image_url\": {\n",
    "    #           \"url\": \"https://example.com/image.png\",\n",
    "    #           # can also use base64 encoded image URLs\n",
    "    #           # \"url\": \"data:image/jpeg;base64,abcdefg...\"\n",
    "    #       }\n",
    "    #   },\n",
    "  ],\n",
    ")\n",
    "\n",
    "print(response)"
   ]
  }
 ],
 "metadata": {
  "kernelspec": {
   "display_name": "gen_AI_python3130_env",
   "language": "python",
   "name": "python3"
  },
  "language_info": {
   "codemirror_mode": {
    "name": "ipython",
    "version": 3
   },
   "file_extension": ".py",
   "mimetype": "text/x-python",
   "name": "python",
   "nbconvert_exporter": "python",
   "pygments_lexer": "ipython3",
   "version": "3.13.0"
  }
 },
 "nbformat": 4,
 "nbformat_minor": 2
}
