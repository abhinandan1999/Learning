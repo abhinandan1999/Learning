{
 "cells": [
  {
   "cell_type": "markdown",
   "metadata": {},
   "source": [
    "#### OpenAI Embeddings\n",
    "Source:\n",
    "- OpenAI Guide: https://platform.openai.com/docs/guides/embeddings\n",
    "- Embedding Documentation: https://platform.openai.com/docs/api-reference/embeddings/create\n",
    "\n",
    "OpenAI’s text embeddings measure the relatedness of text strings.\n",
    "- An embedding is a vector (list) of floating point numbers.\n",
    "- The distance between two vectors measures their relatedness. Small distances suggest high relatedness and large distances suggest low relatedness.\n",
    "\n",
    "Default Embedding Vector Length:\n",
    "- text-embedding-3-small: 1536: Knowledge till September 2021\n",
    "- text-embedding-3-large: 3072: Knowledge till September 2021\n",
    "\n",
    "Note: *Frobenious Normalization of Embeddings must be 1* <br>\n",
    "Frobenius Normalization: <br>\n",
    "$| A_{\\text{norm}} \\|_F = \\frac{A}{\\|A\\|_F}$ <br>\n",
    "$A$ is a matrix with elements $a_{ij}$ <br>\n",
    "$\\| A \\|_F = \\sqrt{\\sum_{i=1}^{m} \\sum_{j=1}^{n} |a_{ij}|^2}$\n"
   ]
  },
  {
   "cell_type": "code",
   "execution_count": 22,
   "metadata": {},
   "outputs": [],
   "source": [
    "import numpy as np\n",
    "\n",
    "from openai import OpenAI\n",
    "\n",
    "# open_ai_key = (\n",
    "    # \"\"\n",
    "# )\n",
    "openAI_params = {\n",
    "    'api_key': open_ai_key\n",
    "}\n",
    "client = OpenAI(**openAI_params)"
   ]
  },
  {
   "cell_type": "code",
   "execution_count": 101,
   "metadata": {},
   "outputs": [
    {
     "name": "stdout",
     "output_type": "stream",
     "text": [
      "Model used: text-embedding-3-small\n",
      "object returned: list\n",
      "Usage: {'prompt_tokens': 6, 'total_tokens': 6}\n",
      "Number of Embeddings: 1\n",
      "\n",
      "Details about Embeddings: 1\n",
      "Shape of Embeddings (1536,)\n",
      "Index of Embeddings 0\n",
      "Type of Embeddings embedding\n",
      "\n",
      "\n"
     ]
    }
   ],
   "source": [
    "# Example: Getting embeddings (Single String Example)\n",
    "response = client.embeddings.create(\n",
    "    model=\"text-embedding-3-small\",\n",
    "    input=[\"My name is Abhinandan\"]   \n",
    ")\n",
    "\n",
    "## Analyze the response\n",
    "response_dict = response.to_dict()\n",
    "\n",
    "print(f\"Model used: {response_dict[\"model\"]}\")\n",
    "print(f\"object returned: {response_dict[\"object\"]}\")\n",
    "print(f\"Usage: {response_dict[\"usage\"]}\")\n",
    "\n",
    "embeddings_data = response_dict['data']\n",
    "print(f\"Number of Embeddings: {len(embeddings_data)}\\n\")\n",
    "for i, embeddings in enumerate(embeddings_data):\n",
    "    print(f\"Details about Embeddings: {i+1}\")\n",
    "    print(\"Shape of Embeddings\", np.shape(embeddings['embedding']))\n",
    "    print(\"Index of Embeddings\", embeddings['index'])\n",
    "    print(\"Type of Embeddings\", embeddings['object'])\n",
    "    print(\"\\n\")"
   ]
  },
  {
   "cell_type": "code",
   "execution_count": 52,
   "metadata": {},
   "outputs": [
    {
     "name": "stdout",
     "output_type": "stream",
     "text": [
      "Model used: text-embedding-3-small\n",
      "object returned: list\n",
      "Usage: {'prompt_tokens': 10, 'total_tokens': 10}\n",
      "Number of Embeddings: 2\n",
      "\n",
      "Details about Embeddings: 1\n",
      "Shape of Embeddings (1536,)\n",
      "Index of Embeddings 0\n",
      "Type of Embeddings embedding\n",
      "\n",
      "\n",
      "Details about Embeddings: 2\n",
      "Shape of Embeddings (1536,)\n",
      "Index of Embeddings 1\n",
      "Type of Embeddings embedding\n",
      "\n",
      "\n"
     ]
    }
   ],
   "source": [
    "# Example: Getting embeddings (Array of String Example)\n",
    "response = client.embeddings.create(\n",
    "    model=\"text-embedding-3-small\",\n",
    "    input=[\"My name is Abhinandan\", \"He likes Ice Cream\"]   \n",
    ")\n",
    "\n",
    "## Analyze the response\n",
    "response_dict = response.to_dict()\n",
    "\n",
    "print(f\"Model used: {response_dict[\"model\"]}\")\n",
    "print(f\"object returned: {response_dict[\"object\"]}\")\n",
    "print(f\"Usage: {response_dict[\"usage\"]}\")\n",
    "\n",
    "embeddings_data = response_dict['data']\n",
    "print(f\"Number of Embeddings: {len(embeddings_data)}\\n\")\n",
    "for i, embeddings in enumerate(embeddings_data):\n",
    "    print(f\"Details about Embeddings: {i+1}\")\n",
    "    print(\"Shape of Embeddings\", np.shape(embeddings['embedding']))\n",
    "    print(\"Index of Embeddings\", embeddings['index'])\n",
    "    print(\"Type of Embeddings\", embeddings['object'])\n",
    "    print(\"\\n\")"
   ]
  },
  {
   "cell_type": "code",
   "execution_count": 53,
   "metadata": {},
   "outputs": [
    {
     "name": "stdout",
     "output_type": "stream",
     "text": [
      "Model used: text-embedding-3-small\n",
      "object returned: list\n",
      "Usage: {'prompt_tokens': 4, 'total_tokens': 4}\n",
      "Number of Embeddings: 1\n",
      "\n",
      "Details about Embeddings: 1\n",
      "Shape of Embeddings (1536,)\n",
      "Index of Embeddings 0\n",
      "Type of Embeddings embedding\n",
      "\n",
      "\n"
     ]
    }
   ],
   "source": [
    "# Example: Getting embeddings (Array of Integers)\n",
    "response = client.embeddings.create(\n",
    "    model=\"text-embedding-3-small\",\n",
    "    input=[0, 1, 2, 3] \n",
    ")\n",
    "\n",
    "## Analyze the response\n",
    "response_dict = response.to_dict()\n",
    "\n",
    "print(f\"Model used: {response_dict[\"model\"]}\")\n",
    "print(f\"object returned: {response_dict[\"object\"]}\")\n",
    "print(f\"Usage: {response_dict[\"usage\"]}\")\n",
    "\n",
    "embeddings_data = response_dict['data']\n",
    "print(f\"Number of Embeddings: {len(embeddings_data)}\\n\")\n",
    "for i, embeddings in enumerate(embeddings_data):\n",
    "    print(f\"Details about Embeddings: {i+1}\")\n",
    "    print(\"Shape of Embeddings\", np.shape(embeddings['embedding']))\n",
    "    print(\"Index of Embeddings\", embeddings['index'])\n",
    "    print(\"Type of Embeddings\", embeddings['object'])\n",
    "    print(\"\\n\")"
   ]
  },
  {
   "cell_type": "code",
   "execution_count": 54,
   "metadata": {},
   "outputs": [
    {
     "name": "stdout",
     "output_type": "stream",
     "text": [
      "Model used: text-embedding-3-small\n",
      "object returned: list\n",
      "Usage: {'prompt_tokens': 10, 'total_tokens': 10}\n",
      "Number of Embeddings: 3\n",
      "\n",
      "Details about Embeddings: 1\n",
      "Shape of Embeddings (1536,)\n",
      "Index of Embeddings 0\n",
      "Type of Embeddings embedding\n",
      "\n",
      "\n",
      "Details about Embeddings: 2\n",
      "Shape of Embeddings (1536,)\n",
      "Index of Embeddings 1\n",
      "Type of Embeddings embedding\n",
      "\n",
      "\n",
      "Details about Embeddings: 3\n",
      "Shape of Embeddings (1536,)\n",
      "Index of Embeddings 2\n",
      "Type of Embeddings embedding\n",
      "\n",
      "\n"
     ]
    }
   ],
   "source": [
    "# Example: Getting embeddings (Array of Array of Integers)\n",
    "response = client.embeddings.create(\n",
    "    model=\"text-embedding-3-small\",\n",
    "    input=[[0, 1, 2, 3], [10,12, 22], [19, 14, 18]]\n",
    ")\n",
    "\n",
    "## Analyze the response\n",
    "response_dict = response.to_dict()\n",
    "\n",
    "print(f\"Model used: {response_dict[\"model\"]}\")\n",
    "print(f\"object returned: {response_dict[\"object\"]}\")\n",
    "print(f\"Usage: {response_dict[\"usage\"]}\")\n",
    "\n",
    "embeddings_data = response_dict['data']\n",
    "print(f\"Number of Embeddings: {len(embeddings_data)}\\n\")\n",
    "for i, embeddings in enumerate(embeddings_data):\n",
    "    print(f\"Details about Embeddings: {i+1}\")\n",
    "    print(\"Shape of Embeddings\", np.shape(embeddings['embedding']))\n",
    "    print(\"Index of Embeddings\", embeddings['index'])\n",
    "    print(\"Type of Embeddings\", embeddings['object'])\n",
    "    print(\"\\n\")"
   ]
  },
  {
   "cell_type": "markdown",
   "metadata": {},
   "source": [
    "#### Additional Parameters\n",
    "- encoding_format: The format to return the embeddings in. Can be either float or base64\n",
    "- dimensions: The number of dimensions the resulting output embeddings should have\n",
    "- user: A unique identifier representing your end-user, which can help OpenAI to monitor and detect abuse."
   ]
  },
  {
   "cell_type": "code",
   "execution_count": 117,
   "metadata": {},
   "outputs": [
    {
     "name": "stdout",
     "output_type": "stream",
     "text": [
      "Model used: text-embedding-3-small\n",
      "object returned: list\n",
      "Usage: {'prompt_tokens': 10, 'total_tokens': 10}\n",
      "Number of Embeddings: 3\n",
      "\n",
      "Details about Embeddings: 1\n",
      "Shape of Embeddings (12,)\n",
      "Index of Embeddings 0\n",
      "Type of Embeddings embedding\n",
      "\n",
      "\n",
      "Details about Embeddings: 2\n",
      "Shape of Embeddings (12,)\n",
      "Index of Embeddings 1\n",
      "Type of Embeddings embedding\n",
      "\n",
      "\n",
      "Details about Embeddings: 3\n",
      "Shape of Embeddings (12,)\n",
      "Index of Embeddings 2\n",
      "Type of Embeddings embedding\n",
      "\n",
      "\n"
     ]
    }
   ],
   "source": [
    "# Example: Getting embeddings (Array of Array of Integers)\n",
    "response = client.embeddings.create(\n",
    "    model=\"text-embedding-3-small\",\n",
    "    input=[[0, 1, 2, 3], [10,12, 22], [19, 14, 18]],\n",
    "    dimensions=12,\n",
    "    encoding_format=\"float\"\n",
    ")\n",
    "\n",
    "## Analyze the response\n",
    "response_dict = response.to_dict()\n",
    "\n",
    "print(f\"Model used: {response_dict[\"model\"]}\")\n",
    "print(f\"object returned: {response_dict[\"object\"]}\")\n",
    "print(f\"Usage: {response_dict[\"usage\"]}\")\n",
    "\n",
    "embeddings_data = response_dict['data']\n",
    "print(f\"Number of Embeddings: {len(embeddings_data)}\\n\")\n",
    "for i, embeddings in enumerate(embeddings_data):\n",
    "    print(f\"Details about Embeddings: {i+1}\")\n",
    "    print(\"Shape of Embeddings\", np.shape(embeddings['embedding']))\n",
    "    print(\"Index of Embeddings\", embeddings['index'])\n",
    "    print(\"Type of Embeddings\", embeddings['object'])\n",
    "    print(\"\\n\")"
   ]
  },
  {
   "cell_type": "code",
   "execution_count": null,
   "metadata": {},
   "outputs": [],
   "source": []
  },
  {
   "cell_type": "markdown",
   "metadata": {},
   "source": [
    "#### Embedding utils"
   ]
  },
  {
   "cell_type": "markdown",
   "metadata": {},
   "source": [
    "#### Cosine Similarity\n",
    "Cosine similarity is a metric used to measure how similar two vectors are, based on the cosine of the angle between them.\n",
    "\n",
    "$\\text{cosine similarity}(\\mathbf{A}, \\mathbf{B}) = \\frac{\\mathbf{A} \\cdot \\mathbf{B}}{\\|\\mathbf{A}\\| \\|\\mathbf{B}\\|}$\n",
    "\n",
    "Interpretation of Values: <br>\n",
    "- **Cosine similarity = 1**: The vectors are identical in direction (or very close).\n",
    "- **Cosine similarity = 0**: The vectors are orthogonal, meaning they have no similarity (they are at 90 degrees to each other)\n",
    "- **Cosine similarity = -1**: The vectors are opposite in direction."
   ]
  },
  {
   "cell_type": "code",
   "execution_count": 112,
   "metadata": {},
   "outputs": [
    {
     "data": {
      "text/plain": [
       "np.float64(0.28390859282968584)"
      ]
     },
     "execution_count": 112,
     "metadata": {},
     "output_type": "execute_result"
    }
   ],
   "source": [
    "import numpy as np\n",
    "from typing import List\n",
    "\n",
    "def cosine_similarity(x: List | np.array, y: List | np.array) -> float:\n",
    "    \"\"\"\n",
    "    Calculates the cosine similarity between two vectors\n",
    "\n",
    "    Args:\n",
    "      x (List | np.array): Vector 1\n",
    "      y (List | np.array): Vector 2\n",
    "    \n",
    "    Returns: \n",
    "        float: Cosine Similarity between two vectors\n",
    "    \"\"\"\n",
    "\n",
    "    norm_x = np.linalg.norm(x)\n",
    "    norm_y = np.linalg.norm(y)\n",
    "    cosine = np.dot(x,y)/(norm_x*norm_y) if norm_x and norm_y else 0\n",
    "    return cosine\n",
    "\n",
    "x = [0, 0, 1, 9]\n",
    "y = [2, 54, 13, 15]\n",
    "cosine_similarity(x, y)"
   ]
  }
 ],
 "metadata": {
  "kernelspec": {
   "display_name": "gen_AI_python3130_env",
   "language": "python",
   "name": "python3"
  },
  "language_info": {
   "codemirror_mode": {
    "name": "ipython",
    "version": 3
   },
   "file_extension": ".py",
   "mimetype": "text/x-python",
   "name": "python",
   "nbconvert_exporter": "python",
   "pygments_lexer": "ipython3",
   "version": "3.13.0"
  }
 },
 "nbformat": 4,
 "nbformat_minor": 2
}
