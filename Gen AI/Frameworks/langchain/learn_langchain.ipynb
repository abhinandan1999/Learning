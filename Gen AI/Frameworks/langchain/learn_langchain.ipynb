{
 "cells": [
  {
   "cell_type": "markdown",
   "metadata": {
    "vscode": {
     "languageId": "plaintext"
    }
   },
   "source": [
    "**LangChain** is a framework for developing applications powered by large language models (LLMs).\n",
    "\n",
    "![image_name](./images/langchain_stack_112024.svg)\n"
   ]
  },
  {
   "cell_type": "markdown",
   "metadata": {},
   "source": [
    "#### Architecture\n",
    "Langchain cosists of multiple open source libraries:\n",
    "1. langchain-core: Base abstractions for chat models and other components.\n",
    "2. Integration packages: langchain-openai, langchain-anthropic, etc\n",
    "3. langchain: Chains, agents, and retrieval strategies that make up an application's cognitive architecture.\n",
    "4. langchain-community: Third-party integrations that are community maintained.\n",
    "5. langgraph: Orchestration framework for combining LangChain components into production-ready applications with persistence, streaming, and other key features\n",
    "6. langserve: A package to deploy LangChain chains as REST APIs. Makes it easy to get a production ready API up and running.\n",
    "7. LangSmith: A developer platform that lets you debug, test, evaluate, and monitor LLM applications."
   ]
  },
  {
   "cell_type": "code",
   "execution_count": null,
   "metadata": {},
   "outputs": [],
   "source": []
  },
  {
   "cell_type": "markdown",
   "metadata": {},
   "source": [
    "### Conceptual Guides\n",
    "This guide provides explanations of the key concepts behind the LangChain framework and AI applications more broadly."
   ]
  },
  {
   "cell_type": "markdown",
   "metadata": {},
   "source": [
    "#### 1. Chat Models:\n",
    "LLMs exposed via a chat API that process sequences of messages as input and output a message."
   ]
  },
  {
   "cell_type": "markdown",
   "metadata": {},
   "source": [
    "#### 2. Messages:\n",
    "The unit of communication in chat models, used to represent model input and output."
   ]
  },
  {
   "cell_type": "markdown",
   "metadata": {},
   "source": [
    "#### 3. Chat history: \n",
    "A conversation represented as a sequence of messages, alternating between user messages and model responses."
   ]
  },
  {
   "cell_type": "code",
   "execution_count": null,
   "metadata": {},
   "outputs": [],
   "source": []
  },
  {
   "cell_type": "code",
   "execution_count": null,
   "metadata": {},
   "outputs": [],
   "source": []
  },
  {
   "cell_type": "markdown",
   "metadata": {},
   "source": []
  }
 ],
 "metadata": {
  "language_info": {
   "name": "python"
  }
 },
 "nbformat": 4,
 "nbformat_minor": 2
}
