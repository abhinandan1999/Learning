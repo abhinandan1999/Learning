{
 "cells": [
  {
   "cell_type": "markdown",
   "id": "0bc31132",
   "metadata": {
    "vscode": {
     "languageId": "plaintext"
    }
   },
   "source": [
    "#### Fuzzywuzzy is used for String Matching.\n",
    "It calculates _Levenshtein Distance_ to calculate the difference between sequences."
   ]
  },
  {
   "cell_type": "code",
   "execution_count": 2,
   "id": "80e76ea4",
   "metadata": {},
   "outputs": [],
   "source": [
    "from fuzzywuzzy import fuzz"
   ]
  },
  {
   "cell_type": "code",
   "execution_count": null,
   "id": "88fb3535",
   "metadata": {},
   "outputs": [],
   "source": []
  },
  {
   "cell_type": "markdown",
   "id": "e1b31128",
   "metadata": {},
   "source": [
    "#### Simple Ratio\n",
    "\n",
    "It Measures the Levenstein Ratio i.e.\n",
    "\n",
    "$$\n",
    "\\text{similarity} = 1 - \\frac{\\text{lev}(a, b)}{\\sum(\\text{len}(a), \\text{len}(b))}\n",
    "$$\n",
    "\n",
    "\n",
    "***While Calculating Ratio, If Any Substitution happens, then distance is increased by 1***"
   ]
  },
  {
   "cell_type": "code",
   "execution_count": null,
   "id": "4075a66c",
   "metadata": {},
   "outputs": [
    {
     "name": "stdout",
     "output_type": "stream",
     "text": [
      "50\n"
     ]
    },
    {
     "data": {
      "text/plain": [
       "50.0"
      ]
     },
     "execution_count": 10,
     "metadata": {},
     "output_type": "execute_result"
    }
   ],
   "source": [
    "string1 = \"ab\"\n",
    "string2 = \"ac\"\n",
    "\n",
    "# Substitution b -> c: 1\n",
    "print(fuzz.ratio(string1, string2))\n",
    "\n",
    "(1 - ((1+1) / (2+2)))*100"
   ]
  },
  {
   "cell_type": "code",
   "execution_count": 11,
   "id": "fc0de060",
   "metadata": {},
   "outputs": [
    {
     "name": "stdout",
     "output_type": "stream",
     "text": [
      "67\n"
     ]
    },
    {
     "data": {
      "text/plain": [
       "66.66666666666667"
      ]
     },
     "execution_count": 11,
     "metadata": {},
     "output_type": "execute_result"
    }
   ],
   "source": [
    "string1 = \"ab\"\n",
    "string2 = \"a\"\n",
    "\n",
    "# Deletion b: 1\n",
    "print(fuzz.ratio(string1, string2))\n",
    "\n",
    "(1 - ((1) / (1+2)))*100"
   ]
  },
  {
   "cell_type": "code",
   "execution_count": null,
   "id": "e7601020",
   "metadata": {},
   "outputs": [],
   "source": []
  },
  {
   "cell_type": "code",
   "execution_count": 12,
   "id": "6633e1d7",
   "metadata": {},
   "outputs": [
    {
     "name": "stdout",
     "output_type": "stream",
     "text": [
      "59\n"
     ]
    },
    {
     "data": {
      "text/plain": [
       "58.82352941176471"
      ]
     },
     "execution_count": 12,
     "metadata": {},
     "output_type": "execute_result"
    }
   ],
   "source": [
    "string1 = \"Hello\"\n",
    "string2 = \"Hello Worlds\"\n",
    "\n",
    "# Addition \" Worlds\" -> 7\n",
    "print(fuzz.ratio(string1, string2))\n",
    "\n",
    "(1 - ((7) / (5+12)))*100"
   ]
  },
  {
   "cell_type": "code",
   "execution_count": 15,
   "id": "cf115667",
   "metadata": {},
   "outputs": [
    {
     "name": "stdout",
     "output_type": "stream",
     "text": [
      "56\n"
     ]
    },
    {
     "data": {
      "text/plain": [
       "56.25"
      ]
     },
     "execution_count": 15,
     "metadata": {},
     "output_type": "execute_result"
    }
   ],
   "source": [
    "string1 = \"Apple iPhone 14 Pro Max\"\n",
    "string2 = \"iPhone 14\"\n",
    "\n",
    "# Addition \"Apple * Pro Max\" -> 14\n",
    "print(fuzz.ratio(string1, string2))\n",
    "\n",
    "(1 - ((14) / (9+23)))*100"
   ]
  },
  {
   "cell_type": "markdown",
   "id": "12d6bf3b",
   "metadata": {},
   "source": [
    "#### Partial Ratio"
   ]
  },
  {
   "cell_type": "markdown",
   "id": "732eac48",
   "metadata": {},
   "source": [
    "It is a string similarity metric that measures how well a **shorter string** matches a **substring of a longer string**."
   ]
  },
  {
   "cell_type": "markdown",
   "id": "484b3d5e",
   "metadata": {},
   "source": [
    "#### How it Works\n",
    "\n",
    "String 1: Apple iPhone 14 Pro Max\n",
    "\n",
    "String 2: iPhone 14\n",
    "\n",
    "Step 1: Identify the shorter and longer string\n",
    "- Shorter = \"iPhone 14\"\n",
    "- Longer = \"Apple iPhone 14 Pro Max\"\n",
    "\n",
    "Step 2: Slide the Shorter String over all substring of Longer one\n",
    "- It compares \"iPhone 14\" with every possible substring of \"Apple iPhone 14 Pro Max\" that’s roughly the same length, and calculates a similarity ratio for each (using Levenshtein distance).\n",
    "\n",
    "Step 3: Return the Highest Similarity Score calculated using Levenshtein distance.\n",
    "- The algorithm finds the substring \"iPhone 14\" inside the longer string and gives a near-perfect match."
   ]
  },
  {
   "cell_type": "code",
   "execution_count": 18,
   "id": "5d35dce6",
   "metadata": {},
   "outputs": [],
   "source": [
    "def all_subtsring(text):\n",
    "    \n",
    "    substrings = []\n",
    "\n",
    "    # Generate all contiguous substrings\n",
    "    for start in range(len(text)):\n",
    "        for end in range(start + 1, len(text) + 1):\n",
    "            substrings.append(text[start:end])\n",
    "\n",
    "    return substrings\n"
   ]
  },
  {
   "cell_type": "code",
   "execution_count": null,
   "id": "7ddb3209",
   "metadata": {},
   "outputs": [
    {
     "name": "stdout",
     "output_type": "stream",
     "text": [
      "Partial Ration between Apple iPhone 14 Pro Max and iPhone 14 is 100\n",
      "Maximum Levenshtein Ratio from the substring: iPhone 14 is: 100\n"
     ]
    }
   ],
   "source": [
    "string1 = \"Apple iPhone 14 Pro Max\"\n",
    "string2 = \"iPhone 14\"\n",
    "\n",
    "# Addition \"Apple * Pro Max\" -> 14\n",
    "print(f\"Partial Ratio between {string1} and {string2} is {fuzz.partial_ratio(string1, string2)}\")\n",
    "\n",
    "\n",
    "# Step 1: \n",
    "    # Smaller: iPhone 14\n",
    "    # Larger: Apple iPhone 14 Pro Max\n",
    "\n",
    "# Step 2 & 3: Slide Smaller over all Substring, and return the Maximum Levenshtein Ratio\n",
    "Substrings = all_subtsring(string2)\n",
    "susbtrings_l_ratio = [fuzz.ratio(string2, sub_str) for sub_str in Substrings]\n",
    "max_l_ratio = max(susbtrings_l_ratio)\n",
    "\n",
    "print(f\"Maximum Levenshtein Ratio from the substring: {Substrings[susbtrings_l_ratio.index(max_l_ratio)]} is: {max(susbtrings_l_ratio)}\")"
   ]
  },
  {
   "cell_type": "code",
   "execution_count": null,
   "id": "41bd401d",
   "metadata": {},
   "outputs": [],
   "source": []
  },
  {
   "cell_type": "markdown",
   "id": "ad35555c",
   "metadata": {},
   "source": [
    "#### Token Sort Ratio\n",
    "\n",
    "Step 1: Tokenise Both Steps into Words\n",
    "\n",
    "Step 2: Sort the Tokens Alphabetically\n",
    "\n",
    "Step 3: Join the Sorted Tokens back into string\n",
    "\n",
    "Step 4: Compute the Levenshtein distance ratio"
   ]
  },
  {
   "cell_type": "markdown",
   "id": "0b20469e",
   "metadata": {},
   "source": [
    "##### When to Use\n",
    "- Word order doesn’t matter.\n",
    "- Strings may have same words but different sequence.\n",
    "- You want to match phrases, product names, or keywords flexibly."
   ]
  },
  {
   "cell_type": "code",
   "execution_count": 40,
   "id": "b7e37002",
   "metadata": {},
   "outputs": [
    {
     "name": "stdout",
     "output_type": "stream",
     "text": [
      "Levenshtein Ratio between 14 Apple Max Pro iPhone and 14 iPhone is 56\n",
      "Token Sort Ratio between Apple iPhone 14 Pro Max and iPhone 14 is 56\n"
     ]
    }
   ],
   "source": [
    "string1 = \"Apple iPhone 14 Pro Max\"\n",
    "string2 = \"iPhone 14\"\n",
    "\n",
    "sorted_string1 = \" \".join(sorted(string1.split(\" \")))\n",
    "sorted_string2 = \" \".join(sorted(string2.split(\" \")))\n",
    "\n",
    "# Addition \"Apple * Pro Max\" -> 14\n",
    "print(f\"Levenshtein Ratio between {sorted_string1} and {sorted_string2} is {fuzz.ratio(sorted_string1, sorted_string2)}\")\n",
    "print(f\"Token Sort Ratio between {string1} and {string2} is {fuzz.token_sort_ratio(string1, string2)}\")"
   ]
  },
  {
   "cell_type": "code",
   "execution_count": null,
   "id": "fcbe6b96",
   "metadata": {},
   "outputs": [
    {
     "name": "stdout",
     "output_type": "stream",
     "text": [
      "Levenshtein Ratio between apple banana and apple banana is 100\n",
      "Token Sort Ratio between apple banana and banana apple is 100\n"
     ]
    }
   ],
   "source": [
    "string1 = \"apple banana\"\n",
    "string2 = \"banana apple\"\n",
    "\n",
    "sorted_string1 = \" \".join(sorted(string1.split(\" \")))\n",
    "sorted_string2 = \" \".join(sorted(string2.split(\" \")))\n",
    "\n",
    "print(f\"Levenshtein Ratio between {sorted_string1} and {sorted_string2} is {fuzz.ratio(sorted_string1, sorted_string2)}\")\n",
    "print(f\"Token Sort Ratio between {string1} and {string2} is {fuzz.token_sort_ratio(string1, string2)}\")"
   ]
  },
  {
   "cell_type": "code",
   "execution_count": null,
   "id": "983af1df",
   "metadata": {},
   "outputs": [],
   "source": []
  },
  {
   "cell_type": "markdown",
   "id": "100c5e0d",
   "metadata": {},
   "source": [
    "#### Token Set Ratio\n",
    "\n",
    "Step 1: Tokenise Each String into Sets\n",
    "\n",
    "Step 2: Calculate three Sets\n",
    "        - Intersection\n",
    "        - S1 difference S2 (S1 - S2)\n",
    "        - S2 difference S1 (S2 - S1)\n",
    "\n",
    "Step 3: Sort and Combine these sets to String\n",
    "\n",
    "Step 4: Create Full String\n",
    "        Full string 1: Intersection + S1 Difference\n",
    "        Full String 2: Intersection + S2 Difference\n",
    "\n",
    "Step 5: Calculate Ratio between\n",
    "        - Intersection, Full String 1\n",
    "        - Intersection, Full String 2\n",
    "        - Full String 1, Full Sting 2\n",
    "\n",
    "Step 6: Return the Max Score"
   ]
  },
  {
   "cell_type": "code",
   "execution_count": null,
   "id": "d78a75a2",
   "metadata": {},
   "outputs": [],
   "source": []
  },
  {
   "cell_type": "code",
   "execution_count": 64,
   "id": "8614f142",
   "metadata": {},
   "outputs": [
    {
     "name": "stdout",
     "output_type": "stream",
     "text": [
      "Levenshtein Ratio between apple banana and apple banana is 100\n",
      "Levenshtein Ratio between apple banana and apple banana is 100\n",
      "Levenshtein Ratio between apple banana and apple banana is 100\n",
      "Token Sort Ratio between apple apple banana and apple banana is 100\n"
     ]
    }
   ],
   "source": [
    "string1 = \"apple apple banana\"\n",
    "string2 = \"apple banana\"\n",
    "\n",
    "# Step 1\n",
    "token1 = string1.split(\" \")\n",
    "token2 = string2.split(\" \")\n",
    "\n",
    "# Step 2\n",
    "intersection = set(token1).intersection(set(token2))\n",
    "diff1to2 = set(token1).difference(set(token2))\n",
    "diff2to1= set(token2).difference(set(token1))\n",
    "\n",
    "\n",
    "# Step 3\n",
    "sorted_intersection = \" \".join(sorted(intersection))\n",
    "sorted_1to2 = \" \".join(sorted(diff1to2))\n",
    "sorted_2to1 = \" \".join(sorted(diff2to1))\n",
    "\n",
    "# Step 4\n",
    "combined_1to2 = sorted_intersection + \" \" + sorted_1to2\n",
    "combined_2to1 = sorted_intersection + \" \" + sorted_2to1\n",
    "\n",
    "# strip\n",
    "sorted_intersection = sorted_intersection.strip()\n",
    "combined_1to2 = combined_1to2.strip()\n",
    "combined_2to1 = combined_2to1.strip()\n",
    "\n",
    "# Step 5\n",
    "print(f\"Levenshtein Ratio between {sorted_intersection} and {combined_1to2} is {fuzz.ratio(sorted_intersection, combined_1to2)}\")\n",
    "print(f\"Levenshtein Ratio between {sorted_intersection} and {combined_2to1} is {fuzz.ratio(sorted_intersection, combined_2to1)}\")\n",
    "print(f\"Levenshtein Ratio between {combined_1to2} and {combined_2to1} is {fuzz.ratio(combined_1to2, combined_2to1)}\")\n",
    "\n",
    "\n",
    "\n",
    "print(f\"Token Sort Ratio between {string1} and {string2} is {fuzz.token_set_ratio(string1, string2)}\")"
   ]
  },
  {
   "cell_type": "code",
   "execution_count": 65,
   "id": "4d55d13c",
   "metadata": {},
   "outputs": [
    {
     "name": "stdout",
     "output_type": "stream",
     "text": [
      "Levenshtein Ratio between angels mariners and angels mariners vs is 91\n",
      "Levenshtein Ratio between angels mariners and angels mariners anaheim angeles at los of seattle is 47\n",
      "Levenshtein Ratio between angels mariners vs and angels mariners anaheim angeles at los of seattle is 51\n",
      "Token Sort Ratio between mariners vs angels and los angeles angels of anaheim at seattle mariners is 91\n"
     ]
    }
   ],
   "source": [
    "string1 = \"mariners vs angels\"\n",
    "string2 = \"los angeles angels of anaheim at seattle mariners\"\n",
    "\n",
    "# Step 1\n",
    "token1 = string1.split(\" \")\n",
    "token2 = string2.split(\" \")\n",
    "\n",
    "# Step 2\n",
    "intersection = set(token1).intersection(set(token2))\n",
    "diff1to2 = set(token1).difference(set(token2))\n",
    "diff2to1= set(token2).difference(set(token1))\n",
    "\n",
    "\n",
    "# Step 3\n",
    "sorted_intersection = \" \".join(sorted(intersection))\n",
    "sorted_1to2 = \" \".join(sorted(diff1to2))\n",
    "sorted_2to1 = \" \".join(sorted(diff2to1))\n",
    "\n",
    "# Step 4\n",
    "combined_1to2 = sorted_intersection + \" \" + sorted_1to2\n",
    "combined_2to1 = sorted_intersection + \" \" + sorted_2to1\n",
    "\n",
    "# strip\n",
    "sorted_intersection = sorted_intersection.strip()\n",
    "combined_1to2 = combined_1to2.strip()\n",
    "combined_2to1 = combined_2to1.strip()\n",
    "\n",
    "# Step 5\n",
    "print(f\"Levenshtein Ratio between {sorted_intersection} and {combined_1to2} is {fuzz.ratio(sorted_intersection, combined_1to2)}\")\n",
    "print(f\"Levenshtein Ratio between {sorted_intersection} and {combined_2to1} is {fuzz.ratio(sorted_intersection, combined_2to1)}\")\n",
    "print(f\"Levenshtein Ratio between {combined_1to2} and {combined_2to1} is {fuzz.ratio(combined_1to2, combined_2to1)}\")\n",
    "\n",
    "\n",
    "\n",
    "print(f\"Token Sort Ratio between {string1} and {string2} is {fuzz.token_set_ratio(string1, string2)}\")"
   ]
  },
  {
   "cell_type": "code",
   "execution_count": null,
   "id": "2906f640",
   "metadata": {},
   "outputs": [],
   "source": []
  },
  {
   "cell_type": "markdown",
   "id": "df9c03a0",
   "metadata": {},
   "source": []
  }
 ],
 "metadata": {
  "kernelspec": {
   "display_name": "learn_nlp",
   "language": "python",
   "name": "python3"
  },
  "language_info": {
   "codemirror_mode": {
    "name": "ipython",
    "version": 3
   },
   "file_extension": ".py",
   "mimetype": "text/x-python",
   "name": "python",
   "nbconvert_exporter": "python",
   "pygments_lexer": "ipython3",
   "version": "3.13.0"
  }
 },
 "nbformat": 4,
 "nbformat_minor": 5
}
