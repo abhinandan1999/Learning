{
 "cells": [
  {
   "cell_type": "markdown",
   "id": "0bc31132",
   "metadata": {
    "vscode": {
     "languageId": "plaintext"
    }
   },
   "source": [
    "#### Fuzzywuzzy is used for String Matching.\n",
    "It calculates _Levenshtein Distance_ to calculate the difference between sequences."
   ]
  },
  {
   "cell_type": "code",
   "execution_count": 2,
   "id": "80e76ea4",
   "metadata": {},
   "outputs": [],
   "source": [
    "from fuzzywuzzy import fuzz"
   ]
  },
  {
   "cell_type": "code",
   "execution_count": null,
   "id": "88fb3535",
   "metadata": {},
   "outputs": [],
   "source": []
  },
  {
   "cell_type": "markdown",
   "id": "e1b31128",
   "metadata": {},
   "source": [
    "#### Simple Ratio\n",
    "\n",
    "It Measures the Levenstein Ratio i.e.\n",
    "\n",
    "$$\n",
    "\\text{similarity} = 1 - \\frac{\\text{lev}(a, b)}{\\sum(\\text{len}(a), \\text{len}(b))}\n",
    "$$\n",
    "\n",
    "\n",
    "***While Calculating Ratio, If Any Substitution happens, then distance is increased by 1***"
   ]
  },
  {
   "cell_type": "code",
   "execution_count": null,
   "id": "4075a66c",
   "metadata": {},
   "outputs": [
    {
     "name": "stdout",
     "output_type": "stream",
     "text": [
      "50\n"
     ]
    },
    {
     "data": {
      "text/plain": [
       "50.0"
      ]
     },
     "execution_count": 10,
     "metadata": {},
     "output_type": "execute_result"
    }
   ],
   "source": [
    "string1 = \"ab\"\n",
    "string2 = \"ac\"\n",
    "\n",
    "# Substitution b -> c: 1\n",
    "print(fuzz.ratio(string1, string2))\n",
    "\n",
    "(1 - ((1+1) / (2+2)))*100"
   ]
  },
  {
   "cell_type": "code",
   "execution_count": 11,
   "id": "fc0de060",
   "metadata": {},
   "outputs": [
    {
     "name": "stdout",
     "output_type": "stream",
     "text": [
      "67\n"
     ]
    },
    {
     "data": {
      "text/plain": [
       "66.66666666666667"
      ]
     },
     "execution_count": 11,
     "metadata": {},
     "output_type": "execute_result"
    }
   ],
   "source": [
    "string1 = \"ab\"\n",
    "string2 = \"a\"\n",
    "\n",
    "# Deletion b: 1\n",
    "print(fuzz.ratio(string1, string2))\n",
    "\n",
    "(1 - ((1) / (1+2)))*100"
   ]
  },
  {
   "cell_type": "code",
   "execution_count": null,
   "id": "e7601020",
   "metadata": {},
   "outputs": [],
   "source": []
  },
  {
   "cell_type": "code",
   "execution_count": 12,
   "id": "6633e1d7",
   "metadata": {},
   "outputs": [
    {
     "name": "stdout",
     "output_type": "stream",
     "text": [
      "59\n"
     ]
    },
    {
     "data": {
      "text/plain": [
       "58.82352941176471"
      ]
     },
     "execution_count": 12,
     "metadata": {},
     "output_type": "execute_result"
    }
   ],
   "source": [
    "string1 = \"Hello\"\n",
    "string2 = \"Hello Worlds\"\n",
    "\n",
    "# Addition \" Worlds\" -> 7\n",
    "print(fuzz.ratio(string1, string2))\n",
    "\n",
    "(1 - ((7) / (5+12)))*100"
   ]
  },
  {
   "cell_type": "code",
   "execution_count": 15,
   "id": "cf115667",
   "metadata": {},
   "outputs": [
    {
     "name": "stdout",
     "output_type": "stream",
     "text": [
      "56\n"
     ]
    },
    {
     "data": {
      "text/plain": [
       "56.25"
      ]
     },
     "execution_count": 15,
     "metadata": {},
     "output_type": "execute_result"
    }
   ],
   "source": [
    "string1 = \"Apple iPhone 14 Pro Max\"\n",
    "string2 = \"iPhone 14\"\n",
    "\n",
    "# Addition \"Apple * Pro Max\" -> 14\n",
    "print(fuzz.ratio(string1, string2))\n",
    "\n",
    "(1 - ((14) / (9+23)))*100"
   ]
  },
  {
   "cell_type": "markdown",
   "id": "12d6bf3b",
   "metadata": {},
   "source": [
    "#### Partial Ratio"
   ]
  },
  {
   "cell_type": "markdown",
   "id": "732eac48",
   "metadata": {},
   "source": [
    "It is a string similarity metric that measures how well a **shorter string** matches a **substring of a longer string**."
   ]
  },
  {
   "cell_type": "markdown",
   "id": "484b3d5e",
   "metadata": {},
   "source": [
    "#### How it Works\n",
    "\n",
    "String 1: Apple iPhone 14 Pro Max\n",
    "\n",
    "String 2: iPhone 14\n",
    "\n",
    "Step 1: Identify the shorter and longer string\n",
    "- Shorter = \"iPhone 14\"\n",
    "- Longer = \"Apple iPhone 14 Pro Max\"\n",
    "\n",
    "Step 2: Slide the Shorter String over all substring of Longer one\n",
    "- It compares \"iPhone 14\" with every possible substring of \"Apple iPhone 14 Pro Max\" that’s roughly the same length, and calculates a similarity ratio for each (using Levenshtein distance).\n",
    "\n",
    "Step 3: Return the Highest Similarity Score calculated using Levenshtein distance.\n",
    "- The algorithm finds the substring \"iPhone 14\" inside the longer string and gives a near-perfect match."
   ]
  },
  {
   "cell_type": "code",
   "execution_count": 18,
   "id": "5d35dce6",
   "metadata": {},
   "outputs": [],
   "source": [
    "def all_subtsring(text):\n",
    "    \n",
    "    substrings = []\n",
    "\n",
    "    # Generate all contiguous substrings\n",
    "    for start in range(len(text)):\n",
    "        for end in range(start + 1, len(text) + 1):\n",
    "            substrings.append(text[start:end])\n",
    "\n",
    "    return substrings\n"
   ]
  },
  {
   "cell_type": "code",
   "execution_count": null,
   "id": "7ddb3209",
   "metadata": {},
   "outputs": [
    {
     "name": "stdout",
     "output_type": "stream",
     "text": [
      "Partial Ration between Apple iPhone 14 Pro Max and iPhone 14 is 100\n",
      "Maximum Levenshtein Ratio from the substring: iPhone 14 is: 100\n"
     ]
    }
   ],
   "source": [
    "string1 = \"Apple iPhone 14 Pro Max\"\n",
    "string2 = \"iPhone 14\"\n",
    "\n",
    "# Addition \"Apple * Pro Max\" -> 14\n",
    "print(f\"Partial Ration between {string1} and {string2} is {fuzz.partial_ratio(string1, string2)}\")\n",
    "\n",
    "\n",
    "# Step 1: \n",
    "    # Smaller: iPhone 14\n",
    "    # Larger: Apple iPhone 14 Pro Max\n",
    "\n",
    "# Step 2 & 3: Slide Smaller over all Substring, and return the Maximum Levenshtein Ratio\n",
    "Substrings = all_subtsring(string2)\n",
    "susbtrings_l_ratio = [fuzz.ratio(string2, sub_str) for sub_str in Substrings]\n",
    "max_l_ratio = max(susbtrings_l_ratio)\n",
    "\n",
    "print(f\"Maximum Levenshtein Ratio from the substring: {Substrings[susbtrings_l_ratio.index(max_l_ratio)]} is: {max(susbtrings_l_ratio)}\")"
   ]
  },
  {
   "cell_type": "code",
   "execution_count": null,
   "id": "a6a63e66",
   "metadata": {},
   "outputs": [
    {
     "name": "stdout",
     "output_type": "stream",
     "text": [
      "A\n",
      "Ap\n",
      "App\n",
      "Appl\n",
      "Apple\n",
      "Apple \n",
      "Apple i\n",
      "Apple iP\n",
      "Apple iPh\n",
      "Apple iPho\n",
      "Apple iPhon\n",
      "Apple iPhone\n",
      "Apple iPhone \n",
      "Apple iPhone 1\n",
      "Apple iPhone 14\n",
      "Apple iPhone 14 \n",
      "Apple iPhone 14 P\n",
      "Apple iPhone 14 Pr\n",
      "Apple iPhone 14 Pro\n",
      "Apple iPhone 14 Pro \n",
      "Apple iPhone 14 Pro M\n",
      "Apple iPhone 14 Pro Ma\n",
      "Apple iPhone 14 Pro Max\n",
      "p\n",
      "pp\n",
      "ppl\n",
      "pple\n",
      "pple \n",
      "pple i\n",
      "pple iP\n",
      "pple iPh\n",
      "pple iPho\n",
      "pple iPhon\n",
      "pple iPhone\n",
      "pple iPhone \n",
      "pple iPhone 1\n",
      "pple iPhone 14\n",
      "pple iPhone 14 \n",
      "pple iPhone 14 P\n",
      "pple iPhone 14 Pr\n",
      "pple iPhone 14 Pro\n",
      "pple iPhone 14 Pro \n",
      "pple iPhone 14 Pro M\n",
      "pple iPhone 14 Pro Ma\n",
      "pple iPhone 14 Pro Max\n",
      "p\n",
      "pl\n",
      "ple\n",
      "ple \n",
      "ple i\n",
      "ple iP\n",
      "ple iPh\n",
      "ple iPho\n",
      "ple iPhon\n",
      "ple iPhone\n",
      "ple iPhone \n",
      "ple iPhone 1\n",
      "ple iPhone 14\n",
      "ple iPhone 14 \n",
      "ple iPhone 14 P\n",
      "ple iPhone 14 Pr\n",
      "ple iPhone 14 Pro\n",
      "ple iPhone 14 Pro \n",
      "ple iPhone 14 Pro M\n",
      "ple iPhone 14 Pro Ma\n",
      "ple iPhone 14 Pro Max\n",
      "l\n",
      "le\n",
      "le \n",
      "le i\n",
      "le iP\n",
      "le iPh\n",
      "le iPho\n",
      "le iPhon\n",
      "le iPhone\n",
      "le iPhone \n",
      "le iPhone 1\n",
      "le iPhone 14\n",
      "le iPhone 14 \n",
      "le iPhone 14 P\n",
      "le iPhone 14 Pr\n",
      "le iPhone 14 Pro\n",
      "le iPhone 14 Pro \n",
      "le iPhone 14 Pro M\n",
      "le iPhone 14 Pro Ma\n",
      "le iPhone 14 Pro Max\n",
      "e\n",
      "e \n",
      "e i\n",
      "e iP\n",
      "e iPh\n",
      "e iPho\n",
      "e iPhon\n",
      "e iPhone\n",
      "e iPhone \n",
      "e iPhone 1\n",
      "e iPhone 14\n",
      "e iPhone 14 \n",
      "e iPhone 14 P\n",
      "e iPhone 14 Pr\n",
      "e iPhone 14 Pro\n",
      "e iPhone 14 Pro \n",
      "e iPhone 14 Pro M\n",
      "e iPhone 14 Pro Ma\n",
      "e iPhone 14 Pro Max\n",
      " \n",
      " i\n",
      " iP\n",
      " iPh\n",
      " iPho\n",
      " iPhon\n",
      " iPhone\n",
      " iPhone \n",
      " iPhone 1\n",
      " iPhone 14\n",
      " iPhone 14 \n",
      " iPhone 14 P\n",
      " iPhone 14 Pr\n",
      " iPhone 14 Pro\n",
      " iPhone 14 Pro \n",
      " iPhone 14 Pro M\n",
      " iPhone 14 Pro Ma\n",
      " iPhone 14 Pro Max\n",
      "i\n",
      "iP\n",
      "iPh\n",
      "iPho\n",
      "iPhon\n",
      "iPhone\n",
      "iPhone \n",
      "iPhone 1\n",
      "iPhone 14\n",
      "iPhone 14 \n",
      "iPhone 14 P\n",
      "iPhone 14 Pr\n",
      "iPhone 14 Pro\n",
      "iPhone 14 Pro \n",
      "iPhone 14 Pro M\n",
      "iPhone 14 Pro Ma\n",
      "iPhone 14 Pro Max\n",
      "P\n",
      "Ph\n",
      "Pho\n",
      "Phon\n",
      "Phone\n",
      "Phone \n",
      "Phone 1\n",
      "Phone 14\n",
      "Phone 14 \n",
      "Phone 14 P\n",
      "Phone 14 Pr\n",
      "Phone 14 Pro\n",
      "Phone 14 Pro \n",
      "Phone 14 Pro M\n",
      "Phone 14 Pro Ma\n",
      "Phone 14 Pro Max\n",
      "h\n",
      "ho\n",
      "hon\n",
      "hone\n",
      "hone \n",
      "hone 1\n",
      "hone 14\n",
      "hone 14 \n",
      "hone 14 P\n",
      "hone 14 Pr\n",
      "hone 14 Pro\n",
      "hone 14 Pro \n",
      "hone 14 Pro M\n",
      "hone 14 Pro Ma\n",
      "hone 14 Pro Max\n",
      "o\n",
      "on\n",
      "one\n",
      "one \n",
      "one 1\n",
      "one 14\n",
      "one 14 \n",
      "one 14 P\n",
      "one 14 Pr\n",
      "one 14 Pro\n",
      "one 14 Pro \n",
      "one 14 Pro M\n",
      "one 14 Pro Ma\n",
      "one 14 Pro Max\n",
      "n\n",
      "ne\n",
      "ne \n",
      "ne 1\n",
      "ne 14\n",
      "ne 14 \n",
      "ne 14 P\n",
      "ne 14 Pr\n",
      "ne 14 Pro\n",
      "ne 14 Pro \n",
      "ne 14 Pro M\n",
      "ne 14 Pro Ma\n",
      "ne 14 Pro Max\n",
      "e\n",
      "e \n",
      "e 1\n",
      "e 14\n",
      "e 14 \n",
      "e 14 P\n",
      "e 14 Pr\n",
      "e 14 Pro\n",
      "e 14 Pro \n",
      "e 14 Pro M\n",
      "e 14 Pro Ma\n",
      "e 14 Pro Max\n",
      " \n",
      " 1\n",
      " 14\n",
      " 14 \n",
      " 14 P\n",
      " 14 Pr\n",
      " 14 Pro\n",
      " 14 Pro \n",
      " 14 Pro M\n",
      " 14 Pro Ma\n",
      " 14 Pro Max\n",
      "1\n",
      "14\n",
      "14 \n",
      "14 P\n",
      "14 Pr\n",
      "14 Pro\n",
      "14 Pro \n",
      "14 Pro M\n",
      "14 Pro Ma\n",
      "14 Pro Max\n",
      "4\n",
      "4 \n",
      "4 P\n",
      "4 Pr\n",
      "4 Pro\n",
      "4 Pro \n",
      "4 Pro M\n",
      "4 Pro Ma\n",
      "4 Pro Max\n",
      " \n",
      " P\n",
      " Pr\n",
      " Pro\n",
      " Pro \n",
      " Pro M\n",
      " Pro Ma\n",
      " Pro Max\n",
      "P\n",
      "Pr\n",
      "Pro\n",
      "Pro \n",
      "Pro M\n",
      "Pro Ma\n",
      "Pro Max\n",
      "r\n",
      "ro\n",
      "ro \n",
      "ro M\n",
      "ro Ma\n",
      "ro Max\n",
      "o\n",
      "o \n",
      "o M\n",
      "o Ma\n",
      "o Max\n",
      " \n",
      " M\n",
      " Ma\n",
      " Max\n",
      "M\n",
      "Ma\n",
      "Max\n",
      "a\n",
      "ax\n",
      "x\n",
      "\n",
      "Total substrings: 276\n"
     ]
    }
   ],
   "source": []
  },
  {
   "cell_type": "code",
   "execution_count": null,
   "id": "41bd401d",
   "metadata": {},
   "outputs": [],
   "source": []
  },
  {
   "cell_type": "markdown",
   "id": "df9c03a0",
   "metadata": {},
   "source": []
  }
 ],
 "metadata": {
  "kernelspec": {
   "display_name": "learn_nlp",
   "language": "python",
   "name": "python3"
  },
  "language_info": {
   "codemirror_mode": {
    "name": "ipython",
    "version": 3
   },
   "file_extension": ".py",
   "mimetype": "text/x-python",
   "name": "python",
   "nbconvert_exporter": "python",
   "pygments_lexer": "ipython3",
   "version": "3.13.0"
  }
 },
 "nbformat": 4,
 "nbformat_minor": 5
}
