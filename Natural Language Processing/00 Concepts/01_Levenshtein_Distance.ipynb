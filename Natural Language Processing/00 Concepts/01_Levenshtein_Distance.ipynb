{
 "cells": [
  {
   "cell_type": "markdown",
   "id": "3263ed19",
   "metadata": {},
   "source": [
    "#### Levenshtein Distance\n",
    "\n",
    "It measures how many edits you need to transform one string into another.\n",
    "\n",
    "Edits: \n",
    "- Insertion (Add a character)\n",
    "- Deletion (Remove a character)\n",
    "- Substitution (Replace one character with other)\n",
    "\n",
    "**The Fewer the Edits, the more similar the string**\n"
   ]
  },
  {
   "cell_type": "markdown",
   "id": "a51a732c",
   "metadata": {},
   "source": [
    "#### Example\n",
    "\n",
    "kitten -> sitting\n",
    "\n",
    "1. kitten -> sitten (Substitute k with s)\n",
    "2. sitten -> (sittin) (Substitute e with i)\n",
    "3. sittin -> (sitting) (Insert g)\n",
    "\n",
    "Levenshtein Distance: 3"
   ]
  },
  {
   "cell_type": "markdown",
   "id": "4a7a0a23",
   "metadata": {},
   "source": [
    "#### Normalised Levenshtein Distance\n",
    "\n",
    "$$\n",
    "\\text{similarity} = 1 - \\frac{\\text{lev}(a, b)}{\\sum(\\text{len}(a), \\text{len}(b))}\n",
    "$$\n",
    "\n",
    "\n",
    "***While Calculating Ratio, If Any Substitution happens, then distance is increased by 1***"
   ]
  },
  {
   "cell_type": "markdown",
   "id": "e0d4edf8",
   "metadata": {},
   "source": [
    "#### Properties of Levenshtein Distance\n",
    "1. It is symmetric: lev(a, b) = lev(b, a)\n",
    "2. It is not associative: i.e. lev(a, c) != lev(a, b) + lev(b, c)\n",
    "3. Boundedness => lev(a, b) <= max(len(a), len(b))"
   ]
  },
  {
   "cell_type": "code",
   "execution_count": null,
   "id": "4b14d3c8",
   "metadata": {},
   "outputs": [],
   "source": []
  },
  {
   "cell_type": "markdown",
   "id": "2d702098",
   "metadata": {},
   "source": [
    "#### Python Implementation"
   ]
  },
  {
   "cell_type": "code",
   "execution_count": 30,
   "id": "652d1847",
   "metadata": {},
   "outputs": [
    {
     "name": "stdout",
     "output_type": "stream",
     "text": [
      "Leventein distance between abc of length 3 and cdef of length 4 is 4 and ratio 0.2857142857142857\n",
      "Leventein distance between cdef of length 4 and abc of length 3 is 4 and ratio 0.2857142857142857\n"
     ]
    }
   ],
   "source": [
    "import Levenshtein\n",
    "\n",
    "def ldist(string1, string2):\n",
    "\n",
    "    l_dist12 = Levenshtein.distance(string1, string2)\n",
    "    l_dist21 = Levenshtein.distance(string2, string1)\n",
    "\n",
    "    l_ratio12 = Levenshtein.ratio(string1, string2)\n",
    "    l_ratio21 = Levenshtein.ratio(string2, string1)\n",
    "\n",
    "\n",
    "    print(f\"Leventein distance between {string1} of length {len(string1)} and {string2} of length {len(string2)} is {l_dist12} and ratio {l_ratio12}\")\n",
    "    print(f\"Leventein distance between {string2} of length {len(string2)} and {string1} of length {len(string1)} is {l_dist21} and ratio {l_ratio21}\")\n",
    "\n",
    "string1 = \"abc\"\n",
    "string2 = \"cdef\"\n",
    "\n",
    "ldist(string1, string2)\n",
    "\n",
    "# Distance: 4 (Susbstitute: 3, Insert: 1, Delete: 0)\n",
    "# Ratio = 1 - (3 + 1 + 1) / (3 + 4) (1 is added for Substitution)"
   ]
  },
  {
   "cell_type": "code",
   "execution_count": null,
   "id": "7cf63bc2",
   "metadata": {},
   "outputs": [
    {
     "name": "stdout",
     "output_type": "stream",
     "text": [
      "Leventein distance between Hello of length 5 and Helloooop of length 9 is 4 and ratio 0.7142857142857143\n",
      "Leventein distance between Helloooop of length 9 and Hello of length 5 is 4 and ratio 0.7142857142857143\n"
     ]
    },
    {
     "data": {
      "text/plain": [
       "0.7142857142857143"
      ]
     },
     "execution_count": 38,
     "metadata": {},
     "output_type": "execute_result"
    }
   ],
   "source": [
    "string1 = \"Hello\"\n",
    "string2 = \"Helloooop\"\n",
    "\n",
    "ldist(string1, string2) # 4 Deletion\n",
    "\n",
    "(1 - ((4) / (5 + 9)))"
   ]
  },
  {
   "cell_type": "code",
   "execution_count": null,
   "id": "d6088098",
   "metadata": {},
   "outputs": [
    {
     "name": "stdout",
     "output_type": "stream",
     "text": [
      "Leventein distance between Hello of length 5 and Hellp of length 5 is 1 and ratio 0.8\n",
      "Leventein distance between Hellp of length 5 and Hello of length 5 is 1 and ratio 0.8\n"
     ]
    },
    {
     "data": {
      "text/plain": [
       "0.8"
      ]
     },
     "execution_count": 41,
     "metadata": {},
     "output_type": "execute_result"
    }
   ],
   "source": [
    "string1 = \"Hello\"\n",
    "string2 = \"Hellp\"\n",
    "\n",
    "ldist(string1, string2) # 1 Substitution\n",
    "\n",
    "(1 - ((1+1) / (5 + 5)))"
   ]
  },
  {
   "cell_type": "code",
   "execution_count": null,
   "id": "33982740",
   "metadata": {},
   "outputs": [],
   "source": []
  },
  {
   "cell_type": "code",
   "execution_count": 45,
   "id": "6d21dcf6",
   "metadata": {},
   "outputs": [
    {
     "name": "stdout",
     "output_type": "stream",
     "text": [
      "Leventein distance between Hello of length 5 and Hellp000 of length 8 is 4 and ratio 0.6153846153846154\n",
      "Leventein distance between Hellp000 of length 8 and Hello of length 5 is 4 and ratio 0.6153846153846154\n"
     ]
    },
    {
     "data": {
      "text/plain": [
       "0.6153846153846154"
      ]
     },
     "execution_count": 45,
     "metadata": {},
     "output_type": "execute_result"
    }
   ],
   "source": [
    "string1 = \"Hello\"\n",
    "string2 = \"Hellp000\"\n",
    "\n",
    "ldist(string1, string2) # 1 Substitution, 3 Deletion\n",
    "\n",
    "(1 - ((1+1+3) / (5 + 8)))"
   ]
  },
  {
   "cell_type": "markdown",
   "id": "a9983928",
   "metadata": {},
   "source": [
    "\n"
   ]
  },
  {
   "cell_type": "markdown",
   "id": "4f0ffd08",
   "metadata": {},
   "source": []
  }
 ],
 "metadata": {
  "kernelspec": {
   "display_name": "learn_nlp",
   "language": "python",
   "name": "python3"
  },
  "language_info": {
   "codemirror_mode": {
    "name": "ipython",
    "version": 3
   },
   "file_extension": ".py",
   "mimetype": "text/x-python",
   "name": "python",
   "nbconvert_exporter": "python",
   "pygments_lexer": "ipython3",
   "version": "3.13.0"
  }
 },
 "nbformat": 4,
 "nbformat_minor": 5
}
