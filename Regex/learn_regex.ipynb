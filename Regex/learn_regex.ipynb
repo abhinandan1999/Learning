{
 "cells": [
  {
   "attachments": {},
   "cell_type": "markdown",
   "metadata": {},
   "source": [
    "### Metacharacters in Regex\n",
    "|MetaCharacters| Name                                | Matches                                                        |\n",
    "|:-------------|:-----                               | :--------                                                      |\n",
    "|.             | Dot                                 | any **one character**                                          |\n",
    "|[...]         | character class                     | any **one character** listed                                   |\n",
    "|[^...]        | Negated character class             | any **character** not listed                                   |\n",
    "|^             | Caret                               | the position at **start of the line**                          |\n",
    "|$             | Dollar                              | the position at **end of the line**                            |\n",
    "|\\<            | Backslash less-than                 | the position at **start of a word**                            |\n",
    "|\\>            | Backslash greater than              | the position at **end of a word**                              |\n",
    "| \\|           | or, bar, pipe                       | matches either expression it separates                         |\n",
    "|()            | parantheses                         | used to limit scope of \"\\|\"                                    |\n",
    "|?             | Question mark                       | **Optionally** match **any character** preceding it            |\n",
    "|+             | plus                                | Match **atleast one** occurence of **character** preceding it  |\n",
    "|*             | Start or asterisk                   | Match **0 or more** occurence of **character** preceding it    |\n",
    "|?:            | Question mark followed by SemiColon | Regex will match pattern but will not **Capture** it           |\n",
    "|\\t            | a tab character                     | Matches a tab character                                        |\n",
    "|\\n            | a newline character                 | Matches a newline character                                    |\n",
    "|\\r            | a carriage return character         | Matches a carriage return character                            |\n",
    "|\\s            | a white space character             | Matches any whitespace character                               |\n",
    "|\\S            | a non white space character         | Matches any non whitespace character                           |\n",
    "|\\w            | a word match                        | Matches any word [a-zA-Z0-9_]                                  |\n",
    "|\\W            | a non word match                    | Matches anything except \\w i.e. [^a-zA-Z0-9_]                  |\n",
    "|\\d            | a digit                             | Matches digit i.e [0-9]                                        |\n",
    "|\\D            | anything not \\d                     | Matches anything but \\d, i.e. [^0-9]                           |\n",
    "\n",
    "##### Interval quantifiers\n",
    "[a-zA-Z]{min, max}: Matches the character upto **max** times if possible but settles for **min**\n",
    "\n",
    "\n",
    "##### Backreferences\n",
    "Backreferencing is regular expression feature that allows you to **match new text** that is the same as some **text** matched \n",
    "earlier in the expression **inside parantheses**.\n",
    "\n",
    "For ex: \\<(**[a-zA-Z]+**) +**\\1**\\> <br>\n",
    "Over here: \\1 refer to text matched by regular expression inside parantheses\n",
    "\n",
    "##### Escape character\n",
    "To use metacharacters as characters we need to add backslash \"\\\\\" preceding it.\n",
    "\n",
    "For ex: \\\\\\*, will be treated as literal \"*\" and not metacharacter"
   ]
  },
  {
   "cell_type": "code",
   "execution_count": 4,
   "metadata": {},
   "outputs": [],
   "source": []
  },
  {
   "cell_type": "markdown",
   "metadata": {},
   "source": [
    "#### Examples"
   ]
  },
  {
   "cell_type": "markdown",
   "metadata": {},
   "source": [
    "##### Match negative and floating point number"
   ]
  },
  {
   "cell_type": "markdown",
   "metadata": {},
   "source": [
    "^[-+]?[\\\\., 0-9]+(\\\\.[0-9]*)?$"
   ]
  },
  {
   "cell_type": "markdown",
   "metadata": {},
   "source": [
    "#### Examples of (?:)\n",
    "\n",
    "(?:\\s+)\n",
    "It will match with atleast one white space character but will not capture it a variable"
   ]
  },
  {
   "cell_type": "markdown",
   "metadata": {},
   "source": [
    "#### Modifying text with Regex"
   ]
  },
  {
   "cell_type": "markdown",
   "metadata": {},
   "source": [
    "Keep only 2 decimal place and 3 if third decimal place is non Zero.\n",
    "Ex: 12.375000000392 = 12.375\n",
    "Ex: 37.5000 = 37.50\n",
    "\n",
    "Regexp = (\\.\\d\\d[1-9]?)\\d*\n",
    "It will replace .375000000392 with capture group .375\n",
    "It will replace .5000 with capture group .50\n",
    "\\d* outside the parantheses will not be captured."
   ]
  }
 ],
 "metadata": {
  "kernelspec": {
   "display_name": "Python 3",
   "language": "python",
   "name": "python3"
  },
  "language_info": {
   "codemirror_mode": {
    "name": "ipython",
    "version": 3
   },
   "file_extension": ".py",
   "mimetype": "text/x-python",
   "name": "python",
   "nbconvert_exporter": "python",
   "pygments_lexer": "ipython3",
   "version": "3.10.0"
  },
  "vscode": {
   "interpreter": {
    "hash": "60118a43f1e1c67003a65f587d4dd50d199fdffc37b3f359fb0ebb6bbefac7a7"
   }
  }
 },
 "nbformat": 4,
 "nbformat_minor": 2
}
