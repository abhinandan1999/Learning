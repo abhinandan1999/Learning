{
 "cells": [
  {
   "attachments": {},
   "cell_type": "markdown",
   "metadata": {},
   "source": [
    "### Metacharacters in Regex\n",
    "1) ^(Caret): Used to specify \"startswith\"\n",
    "2) $(Dollar): Used to specify \"endswith\"\n",
    "3) [](construct or character class): Lets you list the characters you want to match\n",
    "4) [0-9a-zA-Z]: Opens to [0123456789abcd...zABCD...Z]: Dash has a special meaning inside [], otherwise it is treated as normal literal.\n",
    "5) [^]: Negates the character inside the class\n",
    "6) . : Represents any character\n",
    "7) | : Represents OR character.\n",
    "8) (): Metacharacter in regex"
   ]
  },
  {
   "cell_type": "code",
   "execution_count": 3,
   "metadata": {},
   "outputs": [],
   "source": []
  },
  {
   "cell_type": "code",
   "execution_count": 4,
   "metadata": {},
   "outputs": [],
   "source": []
  },
  {
   "cell_type": "code",
   "execution_count": null,
   "metadata": {},
   "outputs": [],
   "source": []
  }
 ],
 "metadata": {
  "kernelspec": {
   "display_name": "Python 3",
   "language": "python",
   "name": "python3"
  },
  "language_info": {
   "codemirror_mode": {
    "name": "ipython",
    "version": 3
   },
   "file_extension": ".py",
   "mimetype": "text/x-python",
   "name": "python",
   "nbconvert_exporter": "python",
   "pygments_lexer": "ipython3",
   "version": "3.10.0"
  },
  "vscode": {
   "interpreter": {
    "hash": "60118a43f1e1c67003a65f587d4dd50d199fdffc37b3f359fb0ebb6bbefac7a7"
   }
  }
 },
 "nbformat": 4,
 "nbformat_minor": 2
}
