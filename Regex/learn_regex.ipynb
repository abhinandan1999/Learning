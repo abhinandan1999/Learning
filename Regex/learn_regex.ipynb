{
 "cells": [
  {
   "attachments": {},
   "cell_type": "markdown",
   "metadata": {},
   "source": [
    "### Metacharacters in Regex\n",
    "|MetaCharacters| Name                    | Matches                                                       |\n",
    "|:-------------|:-----                   |:--------                                                      |\n",
    "|.             | Dot                     |any **one character**                                          |\n",
    "|[...]         | character class         |any **one character** listed                                   |\n",
    "|[^...]        | Negated character class | any **character** not listed                                  |\n",
    "|^             | Caret                   | the position at **start of the line**                         |\n",
    "|$             | Dollar                  | the position at **end of the line**                           |\n",
    "|\\<            | Backslash less-than     | the position at **start of a word**                           |\n",
    "|\\>            | Backslash greater than  | the position at **end of a word**                             |\n",
    "| \\|           | or, bar, pipe           | matches either expression it separates                        |\n",
    "|()            | parantheses             | used to limit scope of \"\\|\"                                   |\n",
    "|?             | Question mark           | **Optionally** match **any character** preceding it           |\n",
    "|+             | plus                    | Match **atleast one** occurence of **character** preceding it |\n",
    "|*             | Start or asterisk       | Match **0 or more** occurence of **character** preceding it   |\n",
    "\n",
    "##### Interval quantifiers\n",
    "[a-zA-Z]{min, max}: Matches the character upto **max** times if possible but settles for **min**\n",
    "\n",
    "\n",
    "##### Backreferences\n",
    "Backreferencing is regular expression feature that allows you to **match new text** that is the same as some **text** matched \n",
    "earlier in the expression **inside parantheses**.\n",
    "\n",
    "For ex: \\<(**[a-zA-Z]+**) +**\\1**\\> <br>\n",
    "Over here: \\1 refer to text matched by regular expression inside parantheses\n",
    "\n",
    "##### Escape character\n",
    "To use metacharacters as characters we need to add backslash \"\\\\\" preceding it.\n",
    "\n",
    "For ex: \\\\\\*, will be treated as literal \"*\" and not metacharacter"
   ]
  },
  {
   "cell_type": "code",
   "execution_count": 4,
   "metadata": {},
   "outputs": [],
   "source": []
  },
  {
   "cell_type": "markdown",
   "metadata": {},
   "source": [
    "#### Examples"
   ]
  },
  {
   "cell_type": "markdown",
   "metadata": {},
   "source": [
    "##### Match negative and floating point number"
   ]
  },
  {
   "cell_type": "markdown",
   "metadata": {},
   "source": [
    "^[-+]?[\\\\., 0-9]+(\\\\.[0-9]*)?$"
   ]
  },
  {
   "cell_type": "code",
   "execution_count": null,
   "metadata": {},
   "outputs": [],
   "source": []
  },
  {
   "cell_type": "code",
   "execution_count": null,
   "metadata": {},
   "outputs": [],
   "source": []
  },
  {
   "cell_type": "code",
   "execution_count": null,
   "metadata": {},
   "outputs": [],
   "source": []
  }
 ],
 "metadata": {
  "kernelspec": {
   "display_name": "Python 3",
   "language": "python",
   "name": "python3"
  },
  "language_info": {
   "codemirror_mode": {
    "name": "ipython",
    "version": 3
   },
   "file_extension": ".py",
   "mimetype": "text/x-python",
   "name": "python",
   "nbconvert_exporter": "python",
   "pygments_lexer": "ipython3",
   "version": "3.10.0"
  },
  "vscode": {
   "interpreter": {
    "hash": "60118a43f1e1c67003a65f587d4dd50d199fdffc37b3f359fb0ebb6bbefac7a7"
   }
  }
 },
 "nbformat": 4,
 "nbformat_minor": 2
}
