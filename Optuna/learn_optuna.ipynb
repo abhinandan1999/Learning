{
 "cells": [
  {
   "cell_type": "markdown",
   "metadata": {},
   "source": [
    "### Optuna\n",
    "Optuna is an automatic hyperparameter optimization software framework, particularly designed for machine learning. <br>\n",
    "It is entirely written in Python."
   ]
  },
  {
   "cell_type": "markdown",
   "metadata": {},
   "source": [
    "### Concepts\n",
    "Trial: A single execution of objective function. <br>\n",
    "Study: Optimization session, which is set of trials. <br>\n",
    "Parameter: A variable whose value is to be optimized\n",
    "\n",
    "\n",
    "The goal of study is to find out the optimal set of hyperparameters values through multiple trials.\n"
   ]
  },
  {
   "cell_type": "markdown",
   "metadata": {},
   "source": [
    "#### A simple example"
   ]
  },
  {
   "cell_type": "markdown",
   "metadata": {},
   "source": [
    "Let's try to optimize: <br>\n",
    "(x - 2)^2\n",
    "\n",
    "i.e min: f(x) <br>\n",
    "f(x) = (x - 2)^2 <br>\n",
    "\n",
    "We know f(x) is minimum at x = 2\n"
   ]
  },
  {
   "cell_type": "code",
   "execution_count": null,
   "metadata": {
    "vscode": {
     "languageId": "plaintext"
    }
   },
   "outputs": [],
   "source": [
    "# Import the library\n",
    "import optuna\n",
    "\n",
    "# Conventionally we define the function which need to optimized as \"objective\"\n",
    "def objective(trial):\n",
    "    \"\"\"\n",
    "        Args:\n",
    "            trial: A trial object corrresponds to a single execution of the objective function and\n",
    "                   is internally instantiated upon each invocation of the function\n",
    "\n",
    "        Returns:\n",
    "\n",
    "    \"\"\"\n",
    "\n",
    "    # Sample the variable which needs to be optimized\n",
    "    # \"suggest\" API are called inside the objective function to obtain parameter of trial. \n",
    "    x = trial.suggest_float(\"x\", -10, 10)\n",
    "\n",
    "    # Always return the objective function which needs to minimized\n",
    "    # In case of ML, it would be Loss \n",
    "    return (x - 2)**2\n",
    "\n",
    "# Create the study object\n",
    "study  = optuna.create_study()\n",
    "\n",
    "# Call the optimize method by passing \"objective\" function and \"n_trials\"\n",
    "study.optimize(objective, n_trials=100)"
   ]
  },
  {
   "cell_type": "code",
   "execution_count": null,
   "metadata": {
    "vscode": {
     "languageId": "plaintext"
    }
   },
   "outputs": [],
   "source": [
    "# Get the best parameters \n",
    "print(f\"Best parameter is: {study.best_params}\")\n",
    "\n",
    "# Get the best value\n",
    "print(f\"Best value is: {study.best_value}\")\n",
    "\n",
    "# Get the best trial\n",
    "print(f\"Best trial is: {study.best_trial}\")\n",
    "\n",
    "# Get num of trials\n",
    "print(f\"Number of trials are: {len(study.trials)}\")\n",
    "\n",
    "# To get all trials\n",
    "# study.trials"
   ]
  },
  {
   "cell_type": "code",
   "execution_count": null,
   "metadata": {
    "vscode": {
     "languageId": "plaintext"
    }
   },
   "outputs": [],
   "source": [
    "dir(optuna.trial.Trial)"
   ]
  },
  {
   "cell_type": "code",
   "execution_count": null,
   "metadata": {
    "vscode": {
     "languageId": "plaintext"
    }
   },
   "outputs": [],
   "source": []
  },
  {
   "cell_type": "code",
   "execution_count": null,
   "metadata": {
    "vscode": {
     "languageId": "plaintext"
    }
   },
   "outputs": [],
   "source": []
  }
 ],
 "metadata": {
  "language_info": {
   "name": "python"
  },
  "orig_nbformat": 4
 },
 "nbformat": 4,
 "nbformat_minor": 2
}
