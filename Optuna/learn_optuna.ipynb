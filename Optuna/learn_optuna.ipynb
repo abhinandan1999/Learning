{
 "cells": [
  {
   "cell_type": "markdown",
   "metadata": {},
   "source": [
    "### Optuna\n",
    "Optuna is an automatic hyperparameter optimization software framework, particularly designed for machine learning. <br>\n",
    "It is entirely written in Python."
   ]
  },
  {
   "cell_type": "markdown",
   "metadata": {},
   "source": [
    "### Concepts\n",
    "Study: Optimization based on an objective function. <br> \n",
    "Trial: A single execution of objective function. <br>   \n",
    "\n",
    "The goal of study is to find out the optimal set of hyperparameters values through multiple trials.\n"
   ]
  },
  {
   "cell_type": "markdown",
   "metadata": {},
   "source": [
    "#### A simple example"
   ]
  },
  {
   "cell_type": "markdown",
   "metadata": {},
   "source": [
    "Let's try to optimize: <br>\n",
    "(x - 2)^2\n",
    "\n",
    "i.e min f(x) <br>\n",
    "f(x) = (x - 2)^2 <br>\n",
    "\n",
    "We know f(x) is minimum at x = 2\n"
   ]
  },
  {
   "cell_type": "markdown",
   "metadata": {},
   "source": []
  }
 ],
 "metadata": {
  "kernelspec": {
   "display_name": "Python 3",
   "language": "python",
   "name": "python3"
  },
  "language_info": {
   "name": "python",
   "version": "3.10.0"
  },
  "orig_nbformat": 4
 },
 "nbformat": 4,
 "nbformat_minor": 2
}
