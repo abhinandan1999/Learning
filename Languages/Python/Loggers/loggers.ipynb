{
 "cells": [
  {
   "cell_type": "code",
   "execution_count": null,
   "id": "a3aac99e",
   "metadata": {},
   "outputs": [
    {
     "name": "stderr",
     "output_type": "stream",
     "text": [
      "WARNING:root:This script is deprecated and will be removed in a future release.\n"
     ]
    }
   ],
   "source": [
    "import logging\n",
    "logging.warning(\"This script is deprecated and will be removed in a future release.\")\n",
    "\n",
    "#<Severity Level=\"WARNING\">:<Name of Logging module>:<Message>"
   ]
  },
  {
   "cell_type": "markdown",
   "id": "be7e0d3e",
   "metadata": {},
   "source": [
    "#### Logs Have 5 different level of Severity.\n",
    "\n",
    "| Log Level | Function              | Description                                                                 |  Constant       |   Numeric Value |\n",
    "|-----------|-----------------------|-----------------------------------------------------------------------------|-----------------|-----------------|\n",
    "| DEBUG     | `logging.debug()`     | Provides detailed information that’s valuable to you as a developer.        | logging.DEBUG   |     10          |\n",
    "| INFO      | `logging.info()`      | Provides general information about what’s going on with your program.       | logging.INFO    |     20          |\n",
    "| WARNING   | `logging.warning()`   | Indicates that there’s something you should look into.                      | logging.WARNING |     30          |\n",
    "| ERROR     | `logging.error()`     | Alerts you to an unexpected problem that’s occurred in your program.        | logging.ERROR   |     40          |\n",
    "| CRITICAL  | `logging.critical()`  | Tells you that a serious error has occurred and may have crashed your app.  | logging.CRITICAL|     50          |\n"
   ]
  },
  {
   "cell_type": "code",
   "execution_count": null,
   "id": "70f120f6",
   "metadata": {},
   "outputs": [],
   "source": []
  },
  {
   "cell_type": "code",
   "execution_count": 6,
   "id": "4b31ae85",
   "metadata": {},
   "outputs": [
    {
     "name": "stderr",
     "output_type": "stream",
     "text": [
      "WARNING:root:This is a warning message\n",
      "ERROR:root:This is an error message\n",
      "CRITICAL:root:This is a critical message\n"
     ]
    }
   ],
   "source": [
    "logging.debug(\"This is a debug message\")\n",
    "\n",
    "logging.info(\"This is an info message\")\n",
    "\n",
    "logging.warning(\"This is a warning message\")\n",
    "# WARNING:root:This is a warning message\n",
    "\n",
    "logging.error(\"This is an error message\")\n",
    "# ERROR:root:This is an error message\n",
    "\n",
    "logging.critical(\"This is a critical message\")\n",
    "# CRITICAL:root:This is a critical message"
   ]
  },
  {
   "cell_type": "markdown",
   "id": "51435a29",
   "metadata": {},
   "source": [
    "Notice that the debug() and info() messages didn’t get logged. This is because, by default, the logging module logs the messages with a severity level of WARNING or above."
   ]
  },
  {
   "cell_type": "markdown",
   "id": "33a12841",
   "metadata": {},
   "source": [
    "#### Adjusting the log level"
   ]
  },
  {
   "cell_type": "code",
   "execution_count": 2,
   "id": "7bbf3239",
   "metadata": {},
   "outputs": [
    {
     "name": "stderr",
     "output_type": "stream",
     "text": [
      "DEBUG:root:This will get logged.\n"
     ]
    }
   ],
   "source": [
    "import logging\n",
    "\n",
    "# # Clear existing handlers\n",
    "\"\"\"\n",
    "Calling basicConfig() to configure the root logger only works if the root logger hasn’t been configured before. \n",
    "All logging functions automatically call basicConfig() without arguments if basicConfig() has never been called. \n",
    "So, for example, once you call logging.debug(), you’ll no longer be able to configure the root logger with basicConfig().\n",
    "\"\"\"\n",
    "for handler in logging.root.handlers[:]:\n",
    "    logging.root.removeHandler(handler)\n",
    "\n",
    "# Reconfigure logging\n",
    "logging.basicConfig(level=logging.DEBUG)\n",
    "\n",
    "logging.debug(\"This will get logged.\")\n"
   ]
  },
  {
   "cell_type": "markdown",
   "id": "a2d135a0",
   "metadata": {},
   "source": [
    "#### Style of string format\n",
    "\n",
    "You can define the style of your format string with the style parameter. <br>\n",
    "The options for style are \"%\", \"$\", or \"{\". When you provide a style argument, then your format string must match the targeted style. <br>\n",
    "Otherwise, you’ll receive a ValueError. <br>"
   ]
  },
  {
   "cell_type": "code",
   "execution_count": null,
   "id": "8ff3342b",
   "metadata": {},
   "outputs": [],
   "source": []
  },
  {
   "cell_type": "code",
   "execution_count": 2,
   "id": "f783a79c",
   "metadata": {},
   "outputs": [
    {
     "name": "stderr",
     "output_type": "stream",
     "text": [
      "WARNING:root:Hello, Warning!\n"
     ]
    }
   ],
   "source": [
    "import logging\n",
    "logging.basicConfig(format=\"%(levelname)s:%(name)s:%(message)s\", style=\"%\")\n",
    "logging.warning(\"Hello, Warning!\")\n",
    "#WARNING:root:Hello, Warning!"
   ]
  },
  {
   "cell_type": "code",
   "execution_count": null,
   "id": "b438cfc1",
   "metadata": {},
   "outputs": [
    {
     "name": "stderr",
     "output_type": "stream",
     "text": [
      "WARNING:root:Hello, Warning!\n"
     ]
    }
   ],
   "source": [
    "import logging\n",
    "logging.basicConfig(format=\"{levelname}:{name}:{message}\", style=\"{\")\n",
    "logging.warning(\"Hello, Warning!\")\n",
    "#WARNING:root:Hello, Warning!\n",
    "\n",
    "\n"
   ]
  },
  {
   "cell_type": "code",
   "execution_count": 2,
   "id": "e9b61916",
   "metadata": {},
   "outputs": [],
   "source": [
    "import logging\n",
    "logging.basicConfig(\n",
    "     format=\"{asctime} - {levelname} - {message}\",\n",
    "     style=\"{\",\n",
    "     datefmt=\"%Y-%m-%d %H:%M\",\n",
    ")\n",
    "\n",
    "logging.error(\"Something went wrong!\")\n",
    "# 2024-07-22 09:26 - ERROR - Something went wrong!"
   ]
  },
  {
   "cell_type": "markdown",
   "id": "19d3cbcf",
   "metadata": {},
   "source": [
    "#### Log to a file"
   ]
  },
  {
   "cell_type": "code",
   "execution_count": 1,
   "id": "04f9977b",
   "metadata": {},
   "outputs": [],
   "source": [
    "import logging\n",
    "logging.basicConfig(\n",
    "    filename=\"app.log\",\n",
    "    encoding=\"utf-8\",\n",
    "    filemode=\"a\",\n",
    "    format=\"{asctime} - {levelname} - {message}\",\n",
    "    style=\"{\",\n",
    "    datefmt=\"%Y-%m-%d %H:%M\",\n",
    ")\n",
    "\n",
    "logging.warning(\"Save me!\")"
   ]
  },
  {
   "cell_type": "code",
   "execution_count": null,
   "id": "7fab14df",
   "metadata": {},
   "outputs": [],
   "source": []
  },
  {
   "cell_type": "code",
   "execution_count": null,
   "id": "7be05305",
   "metadata": {},
   "outputs": [],
   "source": []
  },
  {
   "cell_type": "markdown",
   "id": "5284e822",
   "metadata": {},
   "source": [
    "#### Capturing the stack trace\n",
    "\n"
   ]
  },
  {
   "cell_type": "code",
   "execution_count": 7,
   "id": "d48f8dce",
   "metadata": {},
   "outputs": [],
   "source": [
    "import logging\n",
    "\n",
    "\n",
    "for handler in logging.root.handlers[:]:\n",
    "    logging.root.removeHandler(handler)\n",
    "\n",
    "\n",
    "logging.basicConfig(\n",
    "    filename=\"app.log\",\n",
    "    encoding=\"utf-8\",\n",
    "    filemode=\"a\",\n",
    "    format=\"{asctime} - {levelname} - {message}\",\n",
    "    style=\"{\",\n",
    "    datefmt=\"%Y-%m-%d %H:%M\",\n",
    ")\n",
    "\n",
    "donuts = 5\n",
    "guests = 0\n",
    "try:\n",
    "    donuts_per_guest = donuts / guests\n",
    "except ZeroDivisionError:\n",
    "    logging.error(\"DonutCalculationError\", exc_info=True)\n"
   ]
  },
  {
   "cell_type": "code",
   "execution_count": null,
   "id": "abf05846",
   "metadata": {},
   "outputs": [
    {
     "name": "stderr",
     "output_type": "stream",
     "text": [
      "ERROR:root:DonutCalculationError\n",
      "Traceback (most recent call last):\n",
      "  File \"/var/folders/t8/kwl37c951n7b2z9qz3hgb0n80000gn/T/ipykernel_41936/1170877129.py\", line 8, in <module>\n",
      "    donuts_per_guest = donuts / guests\n",
      "                       ~~~~~~~^~~~~~~~\n",
      "ZeroDivisionError: division by zero\n"
     ]
    }
   ],
   "source": [
    "import logging\n",
    "\n",
    "\n",
    "for handler in logging.root.handlers[:]:\n",
    "    logging.root.removeHandler(handler)\n",
    "\n",
    "try:\n",
    "    donuts_per_guest = donuts / guests\n",
    "except ZeroDivisionError:\n",
    "    logging.exception(\"DonutCalculationError\")   ### Same as logging.error(\"DonutCalculationError\", exc_info=True)\n"
   ]
  },
  {
   "cell_type": "code",
   "execution_count": null,
   "id": "0e0d8154",
   "metadata": {},
   "outputs": [],
   "source": []
  },
  {
   "cell_type": "code",
   "execution_count": null,
   "id": "48af974b",
   "metadata": {},
   "outputs": [],
   "source": []
  },
  {
   "cell_type": "markdown",
   "id": "863aefa7",
   "metadata": {},
   "source": [
    "##### Create a custom Logger"
   ]
  },
  {
   "cell_type": "code",
   "execution_count": 4,
   "id": "13f5aac4",
   "metadata": {},
   "outputs": [
    {
     "name": "stderr",
     "output_type": "stream",
     "text": [
      "Look at my logger!\n"
     ]
    }
   ],
   "source": [
    "import logging\n",
    "logger = logging.getLogger(\"Hello\")\n",
    "logger.warning(\"Look at my logger!\")\n",
    "\n",
    "## While we could use any string as the name, its good practice to pass __name__ as the name parameter."
   ]
  },
  {
   "cell_type": "markdown",
   "id": "dc67c760",
   "metadata": {},
   "source": [
    "##### Unlike the root logger, you can’t configure a custom logger using basicConfig(). Instead, you have to configure your custom logger using handlers and formatters, which give you way more flexibility."
   ]
  },
  {
   "cell_type": "code",
   "execution_count": null,
   "id": "9b1d8417",
   "metadata": {},
   "outputs": [],
   "source": []
  },
  {
   "cell_type": "code",
   "execution_count": null,
   "id": "de537abc",
   "metadata": {},
   "outputs": [],
   "source": []
  },
  {
   "cell_type": "code",
   "execution_count": null,
   "id": "247d50ac",
   "metadata": {},
   "outputs": [],
   "source": []
  },
  {
   "cell_type": "code",
   "execution_count": 2,
   "id": "6038afd8",
   "metadata": {},
   "outputs": [
    {
     "name": "stderr",
     "output_type": "stream",
     "text": [
      "[A] 2025-06-11 20:48:39,498 - INFO - Do 1\n",
      "[B] 2025-06-11 20:48:39,499 - INFO - Do 2\n"
     ]
    },
    {
     "data": {
      "text/plain": [
       "[None, None]"
      ]
     },
     "execution_count": 2,
     "metadata": {},
     "output_type": "execute_result"
    }
   ],
   "source": [
    "import asyncio\n",
    "from logging_utils import get_logger, set_run_id\n",
    "logging = get_logger(__name__)\n",
    "# import logging\n",
    "# logger = logging.getLogger(__name__)\n",
    "\n",
    "async def test_fun(message):\n",
    "    logging.info(message)\n",
    "\n",
    "async def test_concurrent_log(id, message):\n",
    "    set_run_id(id)\n",
    "    await test_fun(message)\n",
    "\n",
    "await asyncio.gather(test_concurrent_log(\"A\", \"Do 1\"), test_concurrent_log(\"B\", \"Do 2\"))\n"
   ]
  }
 ],
 "metadata": {
  "kernelspec": {
   "display_name": "gen_AI_python3130_env",
   "language": "python",
   "name": "python3"
  },
  "language_info": {
   "codemirror_mode": {
    "name": "ipython",
    "version": 3
   },
   "file_extension": ".py",
   "mimetype": "text/x-python",
   "name": "python",
   "nbconvert_exporter": "python",
   "pygments_lexer": "ipython3",
   "version": "3.13.0"
  }
 },
 "nbformat": 4,
 "nbformat_minor": 5
}
