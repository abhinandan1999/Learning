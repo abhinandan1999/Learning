{
 "cells": [
  {
   "cell_type": "markdown",
   "id": "c93db339",
   "metadata": {},
   "source": [
    "#### Difference Between Program, Processes and Thread"
   ]
  },
  {
   "cell_type": "markdown",
   "id": "45ad2ab0",
   "metadata": {},
   "source": [
    "#### Program\n",
    "Program is just a file stored on disk.\n",
    "It contains:\n",
    "- Code\n",
    "- Data\n",
    "- Metadata\n",
    "\n",
    "Note: A Program is passive - it's not running yet"
   ]
  },
  {
   "cell_type": "code",
   "execution_count": 7,
   "id": "b681144c",
   "metadata": {},
   "outputs": [
    {
     "name": "stdout",
     "output_type": "stream",
     "text": [
      "Total Time Taken: 10.302659034729004\n"
     ]
    }
   ],
   "source": [
    "import time\n",
    "\n",
    "def test(n):\n",
    "\n",
    "    while n:\n",
    "        n -= 1\n",
    "    \n",
    "    return n\n",
    "\n",
    "start_time = time.time()\n",
    "n = 500_000_000\n",
    "n = test(n)\n",
    "total_time = time.time() - start_time\n",
    "print(f\"Total Time Taken: {total_time}\")\n"
   ]
  },
  {
   "cell_type": "code",
   "execution_count": null,
   "id": "492430bb",
   "metadata": {},
   "outputs": [],
   "source": []
  },
  {
   "cell_type": "markdown",
   "id": "650f75c5",
   "metadata": {},
   "source": [
    "#### Process\n",
    "When OS runs a program, it becomes a process.\n",
    "A Process has:\n",
    "- Own Virtual Address Space (Memory: Stack, Heap, code, data)\n",
    "- System Resource (File handles, Sockets, Environment Variable)\n",
    "- At-least **One Thread** to run instructions\n",
    "\n",
    "Note: \n",
    "- Process are isolated from each other by OS.\n",
    "- One Program can spawn multiple Process."
   ]
  },
  {
   "cell_type": "code",
   "execution_count": 20,
   "id": "335d7b74",
   "metadata": {},
   "outputs": [
    {
     "name": "stdout",
     "output_type": "stream",
     "text": [
      "Total Time Taken: 29.428230047225952\n"
     ]
    }
   ],
   "source": [
    "import time\n",
    "from concurrent.futures import ThreadPoolExecutor\n",
    "\n",
    "def test(n):\n",
    "\n",
    "    while n:\n",
    "        n -= 1\n",
    "    \n",
    "    return n\n",
    "\n",
    "start_time = time.time()\n",
    "n = 500_000_000\n",
    "\n",
    "with ThreadPoolExecutor() as executor:\n",
    "    executor.map(test, [n, n, n])\n",
    "    \n",
    "total_time = time.time() - start_time\n",
    "print(f\"Total Time Taken: {total_time}\")"
   ]
  },
  {
   "cell_type": "code",
   "execution_count": null,
   "id": "2fc315a8",
   "metadata": {},
   "outputs": [],
   "source": []
  },
  {
   "cell_type": "markdown",
   "id": "ac0ff36e",
   "metadata": {},
   "source": [
    "#### Thread (Lighweight unit of Execution inside a process)\n",
    "\n",
    "- A thread is a path of execution inside a process.\n",
    "- Thread inside a process shares:\n",
    "   - Code\n",
    "   - Data (Heap, globals)\n",
    "   - OS Resource (files, Sockets)\n",
    "\n",
    "Note: \n",
    "- Each Thread has its own stack (Function calls, Local Variables)\n",
    "- Threads are cheaper than processes, but unsafe if not synchronised (Since they share memory)\n",
    "- One Process can have multiple threads\n",
    "- OS schedules threads of a processes onto the CPU cores\n",
    "\n"
   ]
  },
  {
   "cell_type": "code",
   "execution_count": 12,
   "id": "2d19e269",
   "metadata": {},
   "outputs": [
    {
     "name": "stdout",
     "output_type": "stream",
     "text": [
      "Total Time Taken: 28.596739768981934\n"
     ]
    }
   ],
   "source": [
    "import time\n",
    "import threading\n",
    "\n",
    "def test(n):\n",
    "\n",
    "    while n:\n",
    "        n -= 1\n",
    "    \n",
    "    return n\n",
    "\n",
    "start_time = time.time()\n",
    "n = 500_000_000\n",
    "\n",
    "threads = [threading.Thread(target=test, args=(n,)) for i in range(3)]\n",
    "for t in threads: t.start()\n",
    "for t in threads: t.join()\n",
    "    \n",
    "total_time = time.time() - start_time\n",
    "print(f\"Total Time Taken: {total_time}\")\n"
   ]
  },
  {
   "cell_type": "code",
   "execution_count": null,
   "id": "7e194de3",
   "metadata": {},
   "outputs": [],
   "source": []
  },
  {
   "cell_type": "code",
   "execution_count": null,
   "id": "0b84200d",
   "metadata": {},
   "outputs": [],
   "source": []
  },
  {
   "cell_type": "code",
   "execution_count": null,
   "id": "a7c2934b",
   "metadata": {},
   "outputs": [],
   "source": []
  },
  {
   "cell_type": "code",
   "execution_count": null,
   "id": "84ac4d95",
   "metadata": {},
   "outputs": [],
   "source": []
  },
  {
   "cell_type": "code",
   "execution_count": null,
   "id": "d7b384e7",
   "metadata": {},
   "outputs": [],
   "source": []
  },
  {
   "cell_type": "markdown",
   "id": "7d56852f",
   "metadata": {},
   "source": [
    "# Program Execution Hierarchy\n",
    "\n",
    "- **Program** (static, on disk)  \n",
    "  ↓ *(OS loads it)*  \n",
    "- **Process** (running program instance)  \n",
    "  - Virtual memory space (code, heap, stack, data)  \n",
    "  - Resources (files, sockets, env vars)  \n",
    "  - **Threads** (units of execution inside process)  \n",
    "    - Shared memory (heap, globals)  \n",
    "    - Own stack + registers  \n",
    "    - Scheduled onto CPU cores  \n",
    "      - Core executes one or more threads  \n",
    "      - Each thread = stream of instructions  \n",
    "        ↓  \n",
    "        **CPU executes** (fetch → decode → execute → write back)\n"
   ]
  },
  {
   "cell_type": "markdown",
   "id": "7fcee3ec",
   "metadata": {},
   "source": []
  }
 ],
 "metadata": {
  "kernelspec": {
   "display_name": "learn_python_3130_env",
   "language": "python",
   "name": "python3"
  },
  "language_info": {
   "codemirror_mode": {
    "name": "ipython",
    "version": 3
   },
   "file_extension": ".py",
   "mimetype": "text/x-python",
   "name": "python",
   "nbconvert_exporter": "python",
   "pygments_lexer": "ipython3",
   "version": "3.13.0"
  }
 },
 "nbformat": 4,
 "nbformat_minor": 5
}
