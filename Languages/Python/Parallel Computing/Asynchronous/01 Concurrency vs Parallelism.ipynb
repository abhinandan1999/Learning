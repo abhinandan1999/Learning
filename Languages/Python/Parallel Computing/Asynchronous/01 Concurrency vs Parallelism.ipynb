{
 "cells": [
  {
   "cell_type": "markdown",
   "id": "410a3cf1",
   "metadata": {},
   "source": [
    "##### Normal Python Program Execution"
   ]
  },
  {
   "cell_type": "code",
   "execution_count": 9,
   "id": "3865d4db",
   "metadata": {},
   "outputs": [
    {
     "name": "stdout",
     "output_type": "stream",
     "text": [
      "Task 0 started\n",
      "Task 0 finished\n",
      "Task 1 started\n",
      "Task 1 finished\n",
      "Task 2 started\n",
      "Task 2 finished\n",
      "All tasks done\n",
      "Time to finish the takss are: 6.013637065887451 seconds\n"
     ]
    }
   ],
   "source": [
    "import time\n",
    "\n",
    "def task(name):\n",
    "    print(f\"Task {name} started\")\n",
    "    time.sleep(2)   # I/O-like operation\n",
    "    print(f\"Task {name} finished\")\n",
    "\n",
    "start_time = time.time()\n",
    "for i in range(3):\n",
    "    task(i)\n",
    "\n",
    "\n",
    "print(\"All tasks done\")\n",
    "print(f\"Time to finish the takss are: {time.time() - start_time} seconds\")\n"
   ]
  },
  {
   "cell_type": "markdown",
   "id": "ec3b032e",
   "metadata": {},
   "source": [
    "#### Concurrency vs Parallelism\n",
    "\n",
    "Concurrency: <br>\n",
    "- Dealing with lots of tasks at once (Task Switching, interleaving)\n",
    "- A single worker rapidly switching between many tasks.\n",
    "- In Python: Concurrency is achieved by `threads` or `asyncio corroutines`\n",
    "- Tasks **appear** to run simultaneously but actually they are interleaved (Only one tasks executes at a time per CPU Core).\n",
    "- Python has `GIL` (Global Interpreter Lock) - it ensures only one thread executes Python bytecode at a time.\n",
    "- Good for: I/O-bound tasks(Network Calls, File Reads, DB Queries)\n",
    "- Python Libraries to achieve Concurrency: `threading`, `asyncio`\n"
   ]
  },
  {
   "cell_type": "code",
   "execution_count": 10,
   "id": "f93fd519",
   "metadata": {},
   "outputs": [
    {
     "name": "stdout",
     "output_type": "stream",
     "text": [
      "Task 0 started\n",
      "Task 1 started\n",
      "Task 2 started\n",
      "Task 0 finishedTask 2 finished\n",
      "Task 1 finished\n",
      "\n",
      "All tasks done\n",
      "Time to finish the takss are: 2.0019891262054443 seconds\n"
     ]
    }
   ],
   "source": [
    "import threading\n",
    "import time\n",
    "\n",
    "def task(name):\n",
    "    print(f\"Task {name} started\")\n",
    "    time.sleep(2)   # I/O-like operation\n",
    "    print(f\"Task {name} finished\")\n",
    "\n",
    "start_time = time.time()\n",
    "threads = [threading.Thread(target=task, args=(i,)) for i in range(3)]\n",
    "for t in threads: t.start()\n",
    "for t in threads: t.join()\n",
    "\n",
    "print(\"All tasks done\")\n",
    "print(f\"Time to finish the takss are: {time.time() - start_time} seconds\")\n"
   ]
  },
  {
   "cell_type": "markdown",
   "id": "4d15a893",
   "metadata": {},
   "source": [
    "##### Even though it “looks” parallel, Python threads take turns because of the GIL. But since time.sleep() releases the GIL, tasks overlap in time."
   ]
  },
  {
   "cell_type": "code",
   "execution_count": null,
   "id": "2c9c78d9",
   "metadata": {},
   "outputs": [],
   "source": []
  },
  {
   "cell_type": "code",
   "execution_count": null,
   "id": "443b9d84",
   "metadata": {},
   "outputs": [],
   "source": []
  },
  {
   "cell_type": "markdown",
   "id": "a6dcd631",
   "metadata": {},
   "source": [
    "\n",
    "Parallelism: <br>\n",
    "- Doing lot of Tasks at the same time (Simultaneous execution)\n",
    "- Many workers actually working at the same time\n",
    "- Achieved by *multiprocessing* `multiprocessing.process` or `concurrent.futures.ProcessPoolExecutor`\n",
    "- Each Process has its own Python Interpreter and GIL - they can truly run at the same time on multiple CPU Cores.\n",
    "- Good for CPU Bound tasks (Maths Computation, Image Processing)\n",
    "- Python Libraries to achieve parallelism: `multiprocessing`, `joblib`, `dask`"
   ]
  },
  {
   "cell_type": "code",
   "execution_count": 11,
   "id": "f8b1150e",
   "metadata": {},
   "outputs": [
    {
     "name": "stdout",
     "output_type": "stream",
     "text": [
      "Task 0 started\n",
      "Task 1 started\n",
      "Task 2 started\n",
      "Task 0 finishedTask 1 finished\n",
      "\n",
      "Task 2 finished\n",
      "All tasks done\n",
      "Time to finish the takss are: 2.0080971717834473 seconds\n"
     ]
    }
   ],
   "source": [
    "from concurrent.futures import ThreadPoolExecutor\n",
    "import time\n",
    "\n",
    "def task(name):\n",
    "    print(f\"Task {name} started\")\n",
    "    time.sleep(2)\n",
    "    print(f\"Task {name} finished\")\n",
    "\n",
    "start_time = time.time()\n",
    "with ThreadPoolExecutor() as executor:\n",
    "    executor.map(task, range(3))\n",
    "\n",
    "print(\"All tasks done\")\n",
    "print(f\"Time to finish the takss are: {time.time() - start_time} seconds\")\n",
    "\n"
   ]
  },
  {
   "cell_type": "code",
   "execution_count": null,
   "id": "a489fc10",
   "metadata": {},
   "outputs": [],
   "source": []
  },
  {
   "cell_type": "markdown",
   "id": "e63b2774",
   "metadata": {},
   "source": [
    "#### Difference Between Processes and Thread"
   ]
  },
  {
   "cell_type": "code",
   "execution_count": null,
   "id": "0c231767",
   "metadata": {},
   "outputs": [],
   "source": []
  },
  {
   "cell_type": "code",
   "execution_count": null,
   "id": "d7848e80",
   "metadata": {},
   "outputs": [],
   "source": []
  }
 ],
 "metadata": {
  "kernelspec": {
   "display_name": "learn_python_3130_env",
   "language": "python",
   "name": "python3"
  },
  "language_info": {
   "codemirror_mode": {
    "name": "ipython",
    "version": 3
   },
   "file_extension": ".py",
   "mimetype": "text/x-python",
   "name": "python",
   "nbconvert_exporter": "python",
   "pygments_lexer": "ipython3",
   "version": "3.13.0"
  }
 },
 "nbformat": 4,
 "nbformat_minor": 5
}
