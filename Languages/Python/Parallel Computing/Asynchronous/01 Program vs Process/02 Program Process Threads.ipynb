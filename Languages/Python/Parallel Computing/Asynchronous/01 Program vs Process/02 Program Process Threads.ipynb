{
 "cells": [
  {
   "cell_type": "markdown",
   "id": "c93db339",
   "metadata": {},
   "source": [
    "#### Difference Between Program, Processes and Thread"
   ]
  },
  {
   "cell_type": "markdown",
   "id": "45ad2ab0",
   "metadata": {},
   "source": [
    "#### Program\n",
    "Program is just a file stored on disk.\n",
    "It contains:\n",
    "- Code\n",
    "- Data\n",
    "- Metadata\n",
    "\n",
    "Note: A Program is passive - it's not running yet"
   ]
  },
  {
   "cell_type": "code",
   "execution_count": 7,
   "id": "b681144c",
   "metadata": {},
   "outputs": [
    {
     "name": "stdout",
     "output_type": "stream",
     "text": [
      "Total Time Taken: 10.302659034729004\n"
     ]
    }
   ],
   "source": [
    "import time\n",
    "\n",
    "def test(n):\n",
    "\n",
    "    while n:\n",
    "        n -= 1\n",
    "    \n",
    "    return n\n",
    "\n",
    "start_time = time.time()\n",
    "n = 500_000_000\n",
    "n = test(n)\n",
    "total_time = time.time() - start_time\n",
    "print(f\"Total Time Taken: {total_time}\")\n"
   ]
  },
  {
   "cell_type": "code",
   "execution_count": null,
   "id": "492430bb",
   "metadata": {},
   "outputs": [],
   "source": []
  },
  {
   "cell_type": "markdown",
   "id": "650f75c5",
   "metadata": {},
   "source": [
    "#### Process\n",
    "When OS runs a program, it becomes a process.\n",
    "A Process has:\n",
    "- Own Virtual Address Space (Memory: Stack, Heap, code, data)\n",
    "- System Resource (File handles, Sockets, Environment Variable)\n",
    "- At-least **One Thread** to run instructions\n",
    "\n",
    "Note: \n",
    "- Process are isolated from each other by OS.\n",
    "- One Program can spawn multiple Process."
   ]
  },
  {
   "cell_type": "code",
   "execution_count": 20,
   "id": "335d7b74",
   "metadata": {},
   "outputs": [
    {
     "name": "stdout",
     "output_type": "stream",
     "text": [
      "Total Time Taken: 29.428230047225952\n"
     ]
    }
   ],
   "source": [
    "import time\n",
    "from concurrent.futures import ThreadPoolExecutor\n",
    "\n",
    "def test(n):\n",
    "\n",
    "    while n:\n",
    "        n -= 1\n",
    "    \n",
    "    return n\n",
    "\n",
    "start_time = time.time()\n",
    "n = 500_000_000\n",
    "\n",
    "with ThreadPoolExecutor() as executor:\n",
    "    executor.map(test, [n, n, n])\n",
    "    \n",
    "total_time = time.time() - start_time\n",
    "print(f\"Total Time Taken: {total_time}\")"
   ]
  },
  {
   "cell_type": "code",
   "execution_count": null,
   "id": "2fc315a8",
   "metadata": {},
   "outputs": [],
   "source": []
  },
  {
   "cell_type": "markdown",
   "id": "ac0ff36e",
   "metadata": {},
   "source": [
    "#### Thread (Lighweight unit of Execution inside a process)\n",
    "\n",
    "- A thread is a path of execution inside a process.\n",
    "- Thread inside a process shares:\n",
    "   - Code\n",
    "   - Data (Heap, globals)\n",
    "   - OS Resource (files, Sockets)\n",
    "\n",
    "Note: \n",
    "- Each Thread has its own stack (Function calls, Local Variables)\n",
    "- Threads are cheaper than processes, but unsafe if not synchronised (Since they share memory)\n",
    "- One Process can have multiple threads\n",
    "- OS schedules threads of a processes onto the CPU cores\n",
    "\n"
   ]
  },
  {
   "cell_type": "code",
   "execution_count": 12,
   "id": "2d19e269",
   "metadata": {},
   "outputs": [
    {
     "name": "stdout",
     "output_type": "stream",
     "text": [
      "Total Time Taken: 28.596739768981934\n"
     ]
    }
   ],
   "source": [
    "import time\n",
    "import threading\n",
    "\n",
    "def test(n):\n",
    "\n",
    "    while n:\n",
    "        n -= 1\n",
    "    \n",
    "    return n\n",
    "\n",
    "start_time = time.time()\n",
    "n = 500_000_000\n",
    "\n",
    "threads = [threading.Thread(target=test, args=(n,)) for i in range(3)]\n",
    "for t in threads: t.start()\n",
    "for t in threads: t.join()\n",
    "    \n",
    "total_time = time.time() - start_time\n",
    "print(f\"Total Time Taken: {total_time}\")\n"
   ]
  },
  {
   "cell_type": "code",
   "execution_count": null,
   "id": "7e194de3",
   "metadata": {},
   "outputs": [],
   "source": []
  },
  {
   "cell_type": "code",
   "execution_count": null,
   "id": "0b84200d",
   "metadata": {},
   "outputs": [],
   "source": []
  },
  {
   "cell_type": "code",
   "execution_count": null,
   "id": "a7c2934b",
   "metadata": {},
   "outputs": [],
   "source": []
  },
  {
   "cell_type": "code",
   "execution_count": null,
   "id": "84ac4d95",
   "metadata": {},
   "outputs": [],
   "source": []
  },
  {
   "cell_type": "code",
   "execution_count": null,
   "id": "d7b384e7",
   "metadata": {},
   "outputs": [],
   "source": []
  },
  {
   "cell_type": "markdown",
   "id": "7d56852f",
   "metadata": {},
   "source": [
    "# Program Execution Hierarchy\n",
    "\n",
    "- **Program** (static, on disk)  \n",
    "  ↓ *(OS loads it)*  \n",
    "- **Process** (running program instance)  \n",
    "  - Virtual memory space (code, heap, stack, data)  \n",
    "  - Resources (files, sockets, env vars)  \n",
    "  - **Threads** (units of execution inside process)  \n",
    "    - Shared memory (heap, globals)  \n",
    "    - Own stack + registers  \n",
    "    - Scheduled onto CPU cores  \n",
    "      - Core executes one or more threads  \n",
    "      - Each thread = stream of instructions  \n",
    "        ↓  \n",
    "        **CPU executes** (fetch → decode → execute → write back)\n"
   ]
  },
  {
   "cell_type": "code",
   "execution_count": null,
   "id": "fd48261a",
   "metadata": {},
   "outputs": [],
   "source": []
  },
  {
   "cell_type": "markdown",
   "id": "d141aa16",
   "metadata": {},
   "source": [
    "### Lifecycle of Thread"
   ]
  },
  {
   "cell_type": "markdown",
   "id": "31991921",
   "metadata": {},
   "source": [
    "1. Creation of thread\n",
    " - Analogy: Buying a train ticket but not boarding it yet"
   ]
  },
  {
   "cell_type": "code",
   "execution_count": 6,
   "id": "8a7a9ccd",
   "metadata": {},
   "outputs": [],
   "source": [
    "import threading\n",
    "\n",
    "def worker(i):\n",
    "    print(i)\n",
    "\n",
    "t = threading.Thread(target=worker, args=(1,)) # Creation of Thread"
   ]
  },
  {
   "cell_type": "code",
   "execution_count": null,
   "id": "35674e38",
   "metadata": {},
   "outputs": [],
   "source": []
  },
  {
   "cell_type": "markdown",
   "id": "445283ab",
   "metadata": {},
   "source": [
    "2. Runnable (Ready to Run)\n",
    "- Analogy: You have boarded the train but waiting for it to run\n",
    "\n",
    "The thread is registered with the OS thread scheduler, which decides when it gets CPU time"
   ]
  },
  {
   "cell_type": "code",
   "execution_count": 5,
   "id": "01615ece",
   "metadata": {},
   "outputs": [
    {
     "name": "stdout",
     "output_type": "stream",
     "text": [
      "1\n"
     ]
    }
   ],
   "source": [
    "import threading\n",
    "\n",
    "def worker(i):\n",
    "    print(i)\n",
    "\n",
    "t = threading.Thread(target=worker, args=(1,)) # Creation of Thread\n",
    "t.start() # Ready to Run"
   ]
  },
  {
   "cell_type": "markdown",
   "id": "7d9dd1c3",
   "metadata": {},
   "source": [
    "3. Running\n",
    "- Analogy: The train is moving. You’re actively traveling.\n",
    "\n",
    "The OS scheduler decides which thread runs at a given time (Python has GIL restrictions, so only one thread runs Python bytecode at a time)."
   ]
  },
  {
   "cell_type": "code",
   "execution_count": 4,
   "id": "b771f572",
   "metadata": {},
   "outputs": [
    {
     "name": "stdout",
     "output_type": "stream",
     "text": [
      "2\n"
     ]
    }
   ],
   "source": [
    "import threading\n",
    "\n",
    "def worker(i):\n",
    "    print(i)\n",
    "\n",
    "t = threading.Thread(target=worker, args=(2,)) # Creation of Thread\n",
    "t.start() # Ready to Run"
   ]
  },
  {
   "cell_type": "markdown",
   "id": "76c9b34a",
   "metadata": {},
   "source": [
    "4. Waiting/Blocked\n",
    "- Analogy: The train stops at a red signal and must wait before continuing.\n",
    "\n",
    "A thread may pause and wait for some condition (I/O, sleep, lock, etc.)."
   ]
  },
  {
   "cell_type": "code",
   "execution_count": null,
   "id": "9016a53f",
   "metadata": {},
   "outputs": [
    {
     "name": "stdout",
     "output_type": "stream",
     "text": [
      "2\n"
     ]
    }
   ],
   "source": [
    "import threading\n",
    "import time\n",
    "\n",
    "def worker(i):\n",
    "    time.sleep(2) # Waiting or Block\n",
    "    print(i)\n",
    "\n",
    "t = threading.Thread(target=worker, args=(2,)) # Creation of Thread\n",
    "t.start() # Ready to Run"
   ]
  },
  {
   "cell_type": "markdown",
   "id": "a5513bd0",
   "metadata": {},
   "source": [
    "5. Terminated (Dead)\n",
    "- Analogy: You’ve reached your destination. That specific journey is over—you need a new ticket for another trip.\n",
    "\n",
    "Once the target function finishes execution, the thread is done.\n",
    "\n",
    "You cannot restart a finished thread (you’d need to create a new one)."
   ]
  },
  {
   "cell_type": "markdown",
   "id": "7fcee3ec",
   "metadata": {},
   "source": [
    "Note: Because of GIL, only one thread executes Python Bytecode at a time.\n",
    "\n",
    "Threads are best for I/O-bound tasks (like network calls, file I/O), not CPU-heavy work (for that, you’d use multiprocessing)."
   ]
  },
  {
   "cell_type": "code",
   "execution_count": null,
   "id": "b62c4971",
   "metadata": {},
   "outputs": [],
   "source": []
  },
  {
   "cell_type": "markdown",
   "id": "dc36589b",
   "metadata": {},
   "source": [
    "#### Difference between t.start() and t.join()"
   ]
  },
  {
   "cell_type": "code",
   "execution_count": 9,
   "id": "1d9f2dde",
   "metadata": {},
   "outputs": [
    {
     "name": "stdout",
     "output_type": "stream",
     "text": [
      "Hello\n"
     ]
    },
    {
     "name": "stdout",
     "output_type": "stream",
     "text": [
      "2\n"
     ]
    }
   ],
   "source": [
    "import threading\n",
    "import time\n",
    "\n",
    "def worker(i):\n",
    "    time.sleep(2) # Waiting or Block\n",
    "    print(i)\n",
    "\n",
    "t = threading.Thread(target=worker, args=(2,)) # Creation of Thread\n",
    "t.start() # Ready to Run\n",
    "\n",
    "print(\"Hello\")\n",
    "\n",
    "# As Can be observed, t.start() runs the process but does not the block the flow, hence Hello is printed first and then 2"
   ]
  },
  {
   "cell_type": "code",
   "execution_count": 10,
   "id": "b0124b5b",
   "metadata": {},
   "outputs": [
    {
     "name": "stdout",
     "output_type": "stream",
     "text": [
      "2\n",
      "Hello\n"
     ]
    }
   ],
   "source": [
    "import threading\n",
    "import time\n",
    "\n",
    "def worker(i):\n",
    "    time.sleep(2) # Waiting or Block\n",
    "    print(i)\n",
    "\n",
    "t = threading.Thread(target=worker, args=(2,)) # Creation of Thread\n",
    "t.start() # Ready to Run\n",
    "t.join() # Wait for thread to finish\n",
    "\n",
    "print(\"Hello\")\n",
    "\n",
    "# As Can be observed, t.join() blocks the flow and now 2 is printed first (i.e. wait for thread t to finish) and then continue execution"
   ]
  },
  {
   "cell_type": "code",
   "execution_count": null,
   "id": "625dfad8",
   "metadata": {},
   "outputs": [],
   "source": []
  },
  {
   "cell_type": "markdown",
   "id": "ba480ef9",
   "metadata": {},
   "source": []
  }
 ],
 "metadata": {
  "kernelspec": {
   "display_name": "learn_python_3130_env",
   "language": "python",
   "name": "python3"
  },
  "language_info": {
   "codemirror_mode": {
    "name": "ipython",
    "version": 3
   },
   "file_extension": ".py",
   "mimetype": "text/x-python",
   "name": "python",
   "nbconvert_exporter": "python",
   "pygments_lexer": "ipython3",
   "version": "3.13.0"
  }
 },
 "nbformat": 4,
 "nbformat_minor": 5
}
