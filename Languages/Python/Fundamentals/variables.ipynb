{
 "cells": [
  {
   "cell_type": "markdown",
   "metadata": {},
   "source": [
    "#### Variable Assignment"
   ]
  },
  {
   "cell_type": "code",
   "execution_count": 1,
   "metadata": {},
   "outputs": [
    {
     "data": {
      "text/plain": [
       "'100'"
      ]
     },
     "execution_count": 1,
     "metadata": {},
     "output_type": "execute_result"
    }
   ],
   "source": [
    "#### Standar variable assignment\n",
    "a = \"100\"\n",
    "a"
   ]
  },
  {
   "cell_type": "code",
   "execution_count": 2,
   "metadata": {},
   "outputs": [
    {
     "data": {
      "text/plain": [
       "(10, 10, 10, 10)"
      ]
     },
     "execution_count": 2,
     "metadata": {},
     "output_type": "execute_result"
    }
   ],
   "source": [
    "#### Chained Assignment\n",
    "a = b = c = d = 10\n",
    "a, b, c, d"
   ]
  },
  {
   "cell_type": "code",
   "execution_count": 3,
   "metadata": {},
   "outputs": [
    {
     "data": {
      "text/plain": [
       "(100, 'My Name is', [1, 2, 3])"
      ]
     },
     "execution_count": 3,
     "metadata": {},
     "output_type": "execute_result"
    }
   ],
   "source": [
    "#### Multiple Assignment\n",
    "a, b, c = 100, \"My Name is\", [1, 2, 3]\n",
    "a, b, c"
   ]
  },
  {
   "cell_type": "code",
   "execution_count": 4,
   "metadata": {},
   "outputs": [
    {
     "data": {
      "text/plain": [
       "int"
      ]
     },
     "execution_count": 4,
     "metadata": {},
     "output_type": "execute_result"
    }
   ],
   "source": [
    "#### Variable Type\n",
    "type(a)"
   ]
  },
  {
   "cell_type": "markdown",
   "metadata": {},
   "source": [
    "#### Object Reference\n",
    "- Everything is an object\n",
    "- Variables are references"
   ]
  },
  {
   "cell_type": "code",
   "execution_count": 1,
   "metadata": {},
   "outputs": [
    {
     "data": {
      "text/plain": [
       "(400, 400)"
      ]
     },
     "execution_count": 1,
     "metadata": {},
     "output_type": "execute_result"
    }
   ],
   "source": [
    "m = 400 # m(Variable) -> 400(Object)\n",
    "n = m # m(Variable) and n(Variable) -> 400\n",
    "m, n"
   ]
  },
  {
   "cell_type": "code",
   "execution_count": 4,
   "metadata": {},
   "outputs": [],
   "source": [
    "m = 10\n",
    "n = \"Hello\"\n",
    "\n",
    "# Object 400 is an Orphaned Object. There is no way to reference this object and it will be collected by GC(Garbage collector)"
   ]
  },
  {
   "cell_type": "markdown",
   "metadata": {},
   "source": [
    "#### Reference ID\n",
    "- Every Object in python has a reference ID"
   ]
  },
  {
   "cell_type": "code",
   "execution_count": 11,
   "metadata": {},
   "outputs": [
    {
     "data": {
      "text/plain": [
       "(4497229840, 4497240144, 4497240144, 4497241104)"
      ]
     },
     "execution_count": 11,
     "metadata": {},
     "output_type": "execute_result"
    }
   ],
   "source": [
    "m =  2032\n",
    "n = 2032\n",
    "k = n\n",
    "id(m), id(n), id(k), id(2032)"
   ]
  },
  {
   "cell_type": "code",
   "execution_count": 12,
   "metadata": {},
   "outputs": [
    {
     "data": {
      "text/plain": [
       "(4424642272, 4424642272, 4424642272, 4424642272)"
      ]
     },
     "execution_count": 12,
     "metadata": {},
     "output_type": "execute_result"
    }
   ],
   "source": [
    "x =  \"Hello\"\n",
    "y = \"Hello\"\n",
    "z = y\n",
    "id(x), id(y), id(z), id(\"Hello\")"
   ]
  },
  {
   "cell_type": "code",
   "execution_count": 16,
   "metadata": {},
   "outputs": [
    {
     "data": {
      "text/plain": [
       "(4498005824, 4498005824, 4424632096, 4424632096)"
      ]
     },
     "execution_count": 16,
     "metadata": {},
     "output_type": "execute_result"
    }
   ],
   "source": [
    "u = [1, 2, \"World\"]\n",
    "v = u\n",
    "id(u), id(v), id(u[2]), id(\"World\")"
   ]
  },
  {
   "cell_type": "code",
   "execution_count": null,
   "metadata": {},
   "outputs": [],
   "source": []
  },
  {
   "cell_type": "markdown",
   "metadata": {},
   "source": [
    "##### Small Integer Caching\n",
    "A specific range of small integers is pre-allocated and cached in memory for optimization purpose.\n",
    "The range is -5 to 256\n",
    "\n",
    "Note: The decision to cache these integers is based on the assumption that small integers within this range are commonly used in many programs."
   ]
  },
  {
   "cell_type": "code",
   "execution_count": 37,
   "metadata": {},
   "outputs": [
    {
     "name": "stdout",
     "output_type": "stream",
     "text": [
      "For value -6, are id same:? False\n",
      "For value -5, are id same:? True\n",
      "For value 200, are id same:? True\n",
      "For value 256, are id same:? True\n",
      "For value 257, are id same:? False\n"
     ]
    }
   ],
   "source": [
    "#### If any number is chosen between -5 to 256 thet will have same memory address\n",
    "h = -6\n",
    "g = -6\n",
    "\n",
    "t = -5\n",
    "s = -5\n",
    "\n",
    "k = 200\n",
    "q = 200\n",
    "\n",
    "i = 256\n",
    "j = 256\n",
    "\n",
    "l = 257\n",
    "m = 257\n",
    "\n",
    "\n",
    "print(f\"For value {h}, are id same:? {id(h) == id(g)}\")\n",
    "print(f\"For value {t}, are id same:? {id(t) == id(s)}\")\n",
    "print(f\"For value {k}, are id same:? {id(k) == id(q)}\")\n",
    "print(f\"For value {i}, are id same:? {id(i) == id(j)}\")\n",
    "print(f\"For value {l}, are id same:? {id(l) == id(m)}\")\n"
   ]
  }
 ],
 "metadata": {
  "kernelspec": {
   "display_name": "learn_python_3130_env",
   "language": "python",
   "name": "python3"
  },
  "language_info": {
   "codemirror_mode": {
    "name": "ipython",
    "version": 3
   },
   "file_extension": ".py",
   "mimetype": "text/x-python",
   "name": "python",
   "nbconvert_exporter": "python",
   "pygments_lexer": "ipython3",
   "version": "3.13.0"
  }
 },
 "nbformat": 4,
 "nbformat_minor": 2
}
