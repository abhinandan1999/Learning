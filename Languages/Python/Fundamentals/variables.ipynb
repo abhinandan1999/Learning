{
 "cells": [
  {
   "cell_type": "markdown",
   "metadata": {},
   "source": [
    "#### Variable Assignment"
   ]
  },
  {
   "cell_type": "code",
   "execution_count": 1,
   "metadata": {},
   "outputs": [
    {
     "data": {
      "text/plain": [
       "'100'"
      ]
     },
     "execution_count": 1,
     "metadata": {},
     "output_type": "execute_result"
    }
   ],
   "source": [
    "#### Standar variable assignment\n",
    "a = \"100\"\n",
    "a"
   ]
  },
  {
   "cell_type": "code",
   "execution_count": 2,
   "metadata": {},
   "outputs": [
    {
     "data": {
      "text/plain": [
       "(10, 10, 10, 10)"
      ]
     },
     "execution_count": 2,
     "metadata": {},
     "output_type": "execute_result"
    }
   ],
   "source": [
    "#### Chained Assignment\n",
    "a = b = c = d = 10\n",
    "a, b, c, d"
   ]
  },
  {
   "cell_type": "code",
   "execution_count": 3,
   "metadata": {},
   "outputs": [
    {
     "data": {
      "text/plain": [
       "(100, 'My Name is', [1, 2, 3])"
      ]
     },
     "execution_count": 3,
     "metadata": {},
     "output_type": "execute_result"
    }
   ],
   "source": [
    "#### Multiple Assignment\n",
    "a, b, c = 100, \"My Name is\", [1, 2, 3]\n",
    "a, b, c"
   ]
  },
  {
   "cell_type": "code",
   "execution_count": null,
   "metadata": {},
   "outputs": [
    {
     "data": {
      "text/plain": [
       "int"
      ]
     },
     "execution_count": 4,
     "metadata": {},
     "output_type": "execute_result"
    }
   ],
   "source": [
    "#### Variable Type\n",
    "#### In Python, variables themselves don’t have data types. \n",
    "#### Instead, the objects that variables reference have types.\n",
    "\n",
    "type(a)"
   ]
  },
  {
   "cell_type": "markdown",
   "metadata": {},
   "source": [
    "#### Object Reference\n",
    "- Everything is an object. Each Object Contains 3 piece of Data\n",
    "    * Reference Count\n",
    "    * Type\n",
    "    * Value\n",
    "- Variables are references"
   ]
  },
  {
   "cell_type": "code",
   "execution_count": 1,
   "metadata": {},
   "outputs": [
    {
     "data": {
      "text/plain": [
       "(400, 400)"
      ]
     },
     "execution_count": 1,
     "metadata": {},
     "output_type": "execute_result"
    }
   ],
   "source": [
    "m = 400 # m(Variable) -> 400(Object)\n",
    "n = m # m(Variable) and n(Variable) -> 400\n",
    "m, n"
   ]
  },
  {
   "cell_type": "code",
   "execution_count": 4,
   "metadata": {},
   "outputs": [],
   "source": [
    "m = 10\n",
    "n = \"Hello\"\n",
    "\n",
    "# Object 400 is an Orphaned Object. There is no way to reference this object and it will be collected by GC(Garbage collector)"
   ]
  },
  {
   "cell_type": "markdown",
   "metadata": {},
   "source": [
    "#### Reference ID\n",
    "- Every Object in python has a reference ID"
   ]
  },
  {
   "cell_type": "code",
   "execution_count": 11,
   "metadata": {},
   "outputs": [
    {
     "data": {
      "text/plain": [
       "(4497229840, 4497240144, 4497240144, 4497241104)"
      ]
     },
     "execution_count": 11,
     "metadata": {},
     "output_type": "execute_result"
    }
   ],
   "source": [
    "m =  2032\n",
    "n = 2032\n",
    "k = n\n",
    "id(m), id(n), id(k), id(2032)"
   ]
  },
  {
   "cell_type": "code",
   "execution_count": 12,
   "metadata": {},
   "outputs": [
    {
     "data": {
      "text/plain": [
       "(4424642272, 4424642272, 4424642272, 4424642272)"
      ]
     },
     "execution_count": 12,
     "metadata": {},
     "output_type": "execute_result"
    }
   ],
   "source": [
    "x =  \"Hello\"\n",
    "y = \"Hello\"\n",
    "z = y\n",
    "id(x), id(y), id(z), id(\"Hello\")"
   ]
  },
  {
   "cell_type": "code",
   "execution_count": 16,
   "metadata": {},
   "outputs": [
    {
     "data": {
      "text/plain": [
       "(4498005824, 4498005824, 4424632096, 4424632096)"
      ]
     },
     "execution_count": 16,
     "metadata": {},
     "output_type": "execute_result"
    }
   ],
   "source": [
    "u = [1, 2, \"World\"]\n",
    "v = u\n",
    "id(u), id(v), id(u[2]), id(\"World\")"
   ]
  },
  {
   "cell_type": "code",
   "execution_count": null,
   "metadata": {},
   "outputs": [],
   "source": []
  },
  {
   "cell_type": "markdown",
   "metadata": {},
   "source": [
    "##### Small Integer Caching\n",
    "A specific range of small integers is pre-allocated and cached in memory for optimization purpose.\n",
    "The range is -5 to 256\n",
    "\n",
    "Note: The decision to cache these integers is based on the assumption that small integers within this range are commonly used in many programs."
   ]
  },
  {
   "cell_type": "code",
   "execution_count": 37,
   "metadata": {},
   "outputs": [
    {
     "name": "stdout",
     "output_type": "stream",
     "text": [
      "For value -6, are id same:? False\n",
      "For value -5, are id same:? True\n",
      "For value 200, are id same:? True\n",
      "For value 256, are id same:? True\n",
      "For value 257, are id same:? False\n"
     ]
    }
   ],
   "source": [
    "#### If any number is chosen between -5 to 256 thet will have same memory address\n",
    "h = -6\n",
    "g = -6\n",
    "\n",
    "t = -5\n",
    "s = -5\n",
    "\n",
    "k = 200\n",
    "q = 200\n",
    "\n",
    "i = 256\n",
    "j = 256\n",
    "\n",
    "l = 257\n",
    "m = 257\n",
    "\n",
    "\n",
    "print(f\"For value {h}, are id same:? {id(h) == id(g)}\")\n",
    "print(f\"For value {t}, are id same:? {id(t) == id(s)}\")\n",
    "print(f\"For value {k}, are id same:? {id(k) == id(q)}\")\n",
    "print(f\"For value {i}, are id same:? {id(i) == id(j)}\")\n",
    "print(f\"For value {l}, are id same:? {id(l) == id(m)}\")\n"
   ]
  },
  {
   "cell_type": "code",
   "execution_count": null,
   "metadata": {},
   "outputs": [],
   "source": []
  },
  {
   "cell_type": "markdown",
   "metadata": {},
   "source": [
    "#### Object Counter\n",
    "A counter is an integer variable that allows you to count objects. Counters typically have an initial value of zero, which increments to reflect the number of times a given object appears. "
   ]
  },
  {
   "cell_type": "code",
   "execution_count": 2,
   "metadata": {},
   "outputs": [
    {
     "data": {
      "text/plain": [
       "3"
      ]
     },
     "execution_count": 2,
     "metadata": {},
     "output_type": "execute_result"
    }
   ],
   "source": [
    "str_counter = 0\n",
    "\n",
    "for item in (\"Alice\", 30, \"Programmer\", None, True, \"Department C\"):\n",
    "     if isinstance(item, str):\n",
    "          str_counter += 1\n",
    "\n",
    "\n",
    "str_counter\n",
    "3"
   ]
  },
  {
   "cell_type": "markdown",
   "metadata": {},
   "source": [
    "#### Accumulators\n",
    "Accumulators are another common type of variable used in programming. An accumulator is a variable that you use to add consecutive values to form a total that you can use as an intermediate step in different calculations."
   ]
  },
  {
   "cell_type": "code",
   "execution_count": 6,
   "metadata": {},
   "outputs": [
    {
     "name": "stdout",
     "output_type": "stream",
     "text": [
      "❎\n"
     ]
    },
    {
     "data": {
      "text/plain": [
       "10"
      ]
     },
     "execution_count": 6,
     "metadata": {},
     "output_type": "execute_result"
    }
   ],
   "source": [
    "numbers = [1, 2, 3, 4]\n",
    "total = 0\n",
    "\n",
    "for number in numbers:\n",
    "     total += number\n",
    "\n",
    "total\n",
    "10"
   ]
  },
  {
   "cell_type": "markdown",
   "metadata": {},
   "source": [
    "#### Public and Non Public Variable Name\n",
    "When you need to communicate that a given variable is what python defines as non-public. <br>\n",
    "A non-public variable is a variable that shouldn't be used outside its defining module. <br>\n",
    "These variables are for internal use only."
   ]
  },
  {
   "cell_type": "code",
   "execution_count": 8,
   "metadata": {},
   "outputs": [
    {
     "data": {
      "text/plain": [
       "30"
      ]
     },
     "execution_count": 8,
     "metadata": {},
     "output_type": "execute_result"
    }
   ],
   "source": [
    "_timeout = 30\n",
    "\n",
    "def get_timeout():\n",
    "    return _timeout\n",
    "\n",
    "def set_timeout(seconds):\n",
    "    global _timeout\n",
    "    _timeout = seconds\n",
    "\n",
    "_timeout"
   ]
  },
  {
   "cell_type": "code",
   "execution_count": null,
   "metadata": {},
   "outputs": [],
   "source": []
  },
  {
   "cell_type": "markdown",
   "metadata": {},
   "source": [
    "##### Common Practices for multi word variable names are the following:\n",
    "1. Snake Case: Lower case words are separated by underscores. For Ex: number_of_graduates <br>\n",
    "2. Camel Case: The second and subsequent words are capitalized to make word boundaries easier to use. For Ex: numberOfGraduates <br>\n",
    "3. Pascal Case: Similar to Camel case except the first word is also capitalized. For Ex: NumberOfGraduates"
   ]
  },
  {
   "cell_type": "code",
   "execution_count": null,
   "metadata": {},
   "outputs": [],
   "source": []
  },
  {
   "cell_type": "markdown",
   "metadata": {},
   "source": [
    "#### List all the keywords in python"
   ]
  },
  {
   "cell_type": "code",
   "execution_count": 14,
   "metadata": {},
   "outputs": [
    {
     "data": {
      "text/plain": [
       "35"
      ]
     },
     "execution_count": 14,
     "metadata": {},
     "output_type": "execute_result"
    }
   ],
   "source": [
    "import keyword\n",
    "len(keyword.kwlist)"
   ]
  },
  {
   "cell_type": "markdown",
   "metadata": {},
   "source": [
    "#### List of all the built-in"
   ]
  },
  {
   "cell_type": "code",
   "execution_count": 16,
   "metadata": {},
   "outputs": [
    {
     "data": {
      "text/plain": [
       "162"
      ]
     },
     "execution_count": 16,
     "metadata": {},
     "output_type": "execute_result"
    }
   ],
   "source": [
    "import builtins\n",
    "len(dir(builtins))"
   ]
  },
  {
   "cell_type": "markdown",
   "metadata": {},
   "source": [
    "#### Type Hints in Variables"
   ]
  },
  {
   "cell_type": "code",
   "execution_count": 24,
   "metadata": {},
   "outputs": [],
   "source": [
    "variable: int = 10\n",
    "list_: list = [1, 2, 3, 4]\n",
    "\n",
    "colors: dict[str, str] = {\n",
    "    \"Red\": \"#542C7C\",\n",
    "    \"Green\": \"#00FF00\",\n",
    "    \"Blue\": \"#0000FF\"\n",
    "}"
   ]
  },
  {
   "cell_type": "code",
   "execution_count": null,
   "metadata": {},
   "outputs": [
    {
     "data": {
      "text/plain": [
       "{'variable': int, 'list_': list, 'colors': dict[str, str]}"
      ]
     },
     "execution_count": 26,
     "metadata": {},
     "output_type": "execute_result"
    }
   ],
   "source": [
    "### Python records the type hints and store it in __annotations__\n",
    "__annotations__"
   ]
  },
  {
   "cell_type": "code",
   "execution_count": null,
   "metadata": {},
   "outputs": [],
   "source": []
  }
 ],
 "metadata": {
  "kernelspec": {
   "display_name": "learn_python_3130_env",
   "language": "python",
   "name": "python3"
  },
  "language_info": {
   "codemirror_mode": {
    "name": "ipython",
    "version": 3
   },
   "file_extension": ".py",
   "mimetype": "text/x-python",
   "name": "python",
   "nbconvert_exporter": "python",
   "pygments_lexer": "ipython3",
   "version": "3.13.0"
  }
 },
 "nbformat": 4,
 "nbformat_minor": 2
}
