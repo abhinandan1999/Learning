{
 "cells": [
  {
   "cell_type": "markdown",
   "id": "8ffabfc1",
   "metadata": {},
   "source": [
    "#### Synchronous Programming"
   ]
  },
  {
   "cell_type": "code",
   "execution_count": 6,
   "id": "4b6ef1d5",
   "metadata": {},
   "outputs": [
    {
     "name": "stdout",
     "output_type": "stream",
     "text": [
      "Task One is running.\n",
      "Task One total: 15\n",
      "Task One is running.\n",
      "Task One total: 10\n",
      "Task One is running.\n",
      "Task One total: 5\n",
      "Task One is running.\n",
      "Task One total: 2\n",
      "Task Two nothing to do.\n"
     ]
    }
   ],
   "source": [
    "import queue\n",
    "\n",
    "def task(name, work_queue):\n",
    "\n",
    "    if work_queue.empty():\n",
    "        print(f\"Task {name} nothing to do.\")\n",
    "    else:\n",
    "        while not work_queue.empty():\n",
    "            count = work_queue.get()\n",
    "            total = 0\n",
    "            print(f\"Task {name} is running.\")\n",
    "            for x in range(count):\n",
    "                total += 1\n",
    "            print(f\"Task {name} total: {total}\")\n",
    "\n",
    "def main():\n",
    "    \"\"\"\n",
    "    This is the main entry point for the program\n",
    "    \"\"\"\n",
    "\n",
    "    # Create the queue of the work\n",
    "    work_queue = queue.Queue()\n",
    "\n",
    "    # Put some work in the queue\n",
    "    for work in [15, 10, 5 ,2]:\n",
    "        work_queue.put(work)\n",
    "\n",
    "    # Create some synchronous Tasks\n",
    "    tasks = [(task, \"One\", work_queue), (task, \"Two\", work_queue)]\n",
    "\n",
    "    for t, n, q in tasks:\n",
    "        t(n, q)\n",
    "\n",
    "if __name__ == \"__main__\":\n",
    "    main()"
   ]
  },
  {
   "cell_type": "markdown",
   "id": "cfce912b",
   "metadata": {},
   "source": [
    " ##### Conclustion\n",
    " This shows that task One does all the work. The while loop that task one hits within task() consumes all the work on the queue and processes it. <br>\n",
    " When that loop exits, Task Two gets a chance to run. <br>\n",
    " However, it finds that the queue is empty, so Task Two prints a statement that says it has nothing to do and then exits. <br>\n",
    " There's nothing in the code to allow both Task One and Task Two switch contextx and work together."
   ]
  },
  {
   "cell_type": "code",
   "execution_count": null,
   "id": "ffe56084",
   "metadata": {},
   "outputs": [],
   "source": []
  },
  {
   "cell_type": "code",
   "execution_count": null,
   "id": "0c4db03d",
   "metadata": {},
   "outputs": [],
   "source": []
  },
  {
   "cell_type": "markdown",
   "id": "626c9a18",
   "metadata": {},
   "source": [
    "#### Simple Cooperative concurrency"
   ]
  },
  {
   "cell_type": "code",
   "execution_count": 7,
   "id": "5fbfa352",
   "metadata": {},
   "outputs": [
    {
     "name": "stdout",
     "output_type": "stream",
     "text": [
      "Task One is running.\n",
      "Task Two is running.\n",
      "Task Two total: 10\n",
      "Task Two is running.\n",
      "Task One total: 15\n",
      "Task One is running.\n",
      "Task Two total: 5\n",
      "Task One total: 2\n"
     ]
    }
   ],
   "source": [
    "import queue\n",
    "\n",
    "def task(name, work_queue):\n",
    "\n",
    "    if work_queue.empty():\n",
    "        print(f\"Task {name} nothing to do.\")\n",
    "    else:\n",
    "        while not work_queue.empty():\n",
    "            count = work_queue.get()\n",
    "            total = 0\n",
    "            print(f\"Task {name} is running.\")\n",
    "            for x in range(count):\n",
    "                total += 1\n",
    "                yield\n",
    "            print(f\"Task {name} total: {total}\")\n",
    "\n",
    "def main():\n",
    "    \"\"\"\n",
    "    This is the main entry point for the program\n",
    "    \"\"\"\n",
    "\n",
    "    # Create the queue of the work\n",
    "    work_queue = queue.Queue()\n",
    "\n",
    "    # Put some work in the queue\n",
    "    for work in [15, 10, 5 ,2]:\n",
    "        work_queue.put(work)\n",
    "\n",
    "    # Create some synchronous Tasks\n",
    "    tasks = [task(\"One\", work_queue), task(\"Two\", work_queue)]\n",
    "\n",
    "    # Run the Task\n",
    "    done = False\n",
    "    while not done:\n",
    "        for t in tasks:\n",
    "            try:\n",
    "                next(t)\n",
    "            except StopIteration:\n",
    "                tasks.remove(t)\n",
    "            if not len(tasks):\n",
    "                done = True\n",
    "\n",
    "if __name__ == \"__main__\":\n",
    "    main()"
   ]
  },
  {
   "cell_type": "markdown",
   "id": "93e0b133",
   "metadata": {},
   "source": [
    "##### Conclusion\n",
    "You can see both Task One and Task Two are consuming work from the queue. This is what's inteded, as both tasks are processing work, and each is responsible for two items in the queue. <br>\n",
    "\n",
    "The trick is using yield statement, which turn task() into a generator and performs context switch. The program uses this context switch to give control to the while loop in main(), allowing two instances of a task to run cooperatively. <br>\n",
    "\n",
    "Notice how Task Two outputs its total first. This might lead you to think that the task are running asynchronously. However it is still a synchronous program. It's structured so that two tasks can trade the context back and forth. <br>\n",
    "\n",
    "The reason why Task two outputs its total first is that it's only counting to 10, while task one is counting to 15. Task two simply arrives at its total first, so it gets to print its output to the console before Task One."
   ]
  },
  {
   "cell_type": "code",
   "execution_count": null,
   "id": "335e8434",
   "metadata": {},
   "outputs": [],
   "source": []
  },
  {
   "cell_type": "markdown",
   "id": "89e506e8",
   "metadata": {},
   "source": [
    "##### Cooperative Concurrency with Blocking Calls"
   ]
  },
  {
   "cell_type": "code",
   "execution_count": 10,
   "id": "77e44cc2",
   "metadata": {},
   "outputs": [
    {
     "name": "stdout",
     "output_type": "stream",
     "text": [
      "Task One is running.\n",
      "Taks One elapsed time 15.000412833003793\n",
      "Task Two is running.\n",
      "Taks Two elapsed time 10.00262683298206\n",
      "Task One is running.\n",
      "Taks One elapsed time 5.005032165994635\n",
      "Task Two is running.\n",
      "Taks Two elapsed time 2.005045208003139\n",
      "\n",
      "Total Time elapsed: 32.01480312499916 seconds\n"
     ]
    }
   ],
   "source": [
    "import queue\n",
    "import time\n",
    "\n",
    "def task(name, work_queue):\n",
    "\n",
    "    while not work_queue.empty():\n",
    "        delay = work_queue.get()\n",
    "        print(f\"Task {name} is running.\")\n",
    "        \n",
    "        start_time = time.perf_counter()\n",
    "        time.sleep(delay) # Simulates the delay in the IO operations\n",
    "        end_time = time.perf_counter()\n",
    "        print(f\"Taks {name} elapsed time {end_time-start_time}\")\n",
    "        yield\n",
    "\n",
    "def main():\n",
    "    \"\"\"\n",
    "    This is the main entry point for the program\n",
    "    \"\"\"\n",
    "\n",
    "    # Create the queue of the work\n",
    "    work_queue = queue.Queue()\n",
    "\n",
    "    # Put some work in the queue\n",
    "    for work in [15, 10, 5 ,2]:\n",
    "        work_queue.put(work)\n",
    "\n",
    "    # Create some synchronous Tasks\n",
    "    tasks = [task(\"One\", work_queue), task(\"Two\", work_queue)]\n",
    "\n",
    "    # Run the Task\n",
    "    done = False\n",
    "\n",
    "    start_time = time.perf_counter()\n",
    "    while not done:\n",
    "        for t in tasks:\n",
    "            try:\n",
    "                next(t)\n",
    "            except StopIteration:\n",
    "                tasks.remove(t)\n",
    "            if not len(tasks):\n",
    "                done = True\n",
    "    print(f\"\\nTotal Time elapsed: {time.perf_counter() - start_time} seconds\")\n",
    "\n",
    "if __name__ == \"__main__\":\n",
    "    main()"
   ]
  },
  {
   "cell_type": "markdown",
   "id": "8af028ba",
   "metadata": {},
   "source": [
    "##### Conclustion\n",
    "As before Task One and Task two are running, consuming work from the queue and processing it. <br>\n",
    "\n",
    "However even with an addition of the delay, you can see that cooperative concurrency hasn't gotten you anything. The delay stops the processing of entire program, and the CPU just waits for the IO delay to be over. <br>\n",
    "\n",
    "This is exactly meant by blocking the code in python async documentation. You will notice that the time it takes to run the entire program is just the cumulative time of all the delays. <br>\n",
    "\n",
    "Running task this way is not a win."
   ]
  },
  {
   "cell_type": "code",
   "execution_count": null,
   "id": "f1c11f1d",
   "metadata": {},
   "outputs": [],
   "source": []
  },
  {
   "cell_type": "markdown",
   "id": "90793b64",
   "metadata": {},
   "source": [
    "##### Cooperative Concurrency with Non Blocking Calls"
   ]
  },
  {
   "cell_type": "code",
   "execution_count": 3,
   "id": "3c4e8986",
   "metadata": {},
   "outputs": [
    {
     "name": "stdout",
     "output_type": "stream",
     "text": [
      "Task One running\n",
      "Task Two running\n",
      "Task Two elapsed time: 10.001078917004634\n",
      "Task Two running\n",
      "Task One elapsed time: 15.001253957976587\n",
      "Task One running\n",
      "Task Two elapsed time: 5.00082154199481\n",
      "Task One elapsed time: 2.0012994590215385\n",
      "\n",
      "Total Time elapsed: 17.004647665977245 seconds\n"
     ]
    }
   ],
   "source": [
    "import asyncio\n",
    "import time\n",
    "\n",
    "async def task(name, work_queue):\n",
    "    while not work_queue.empty():\n",
    "        delay = await work_queue.get()\n",
    "        print(f\"Task {name} running\")\n",
    "        start_time = time.perf_counter()\n",
    "        await asyncio.sleep(delay)\n",
    "        end_time = time.perf_counter()\n",
    "        print(f\"Task {name} elapsed time: {end_time-start_time}\")\n",
    "\n",
    "async def main():\n",
    "    \"\"\"\n",
    "    This is the main entry point for the program\n",
    "    \"\"\"\n",
    "    # Create the queue of work\n",
    "    work_queue = asyncio.Queue()\n",
    "\n",
    "    # Put some work in the queue\n",
    "    for work in [15, 10, 5, 2]:\n",
    "        await work_queue.put(work)\n",
    "\n",
    "    # Run the tasks\n",
    "    start_time = time.perf_counter()\n",
    "    await asyncio.gather(\n",
    "        asyncio.create_task(task(\"One\", work_queue)),\n",
    "        asyncio.create_task(task(\"Two\", work_queue)),\n",
    "    )\n",
    "    print(f\"\\nTotal Time elapsed: {time.perf_counter() - start_time} seconds\")\n",
    "\n",
    "# if __name__ == \"__main__\":\n",
    "#     asyncio.run(main())\n",
    "await main()"
   ]
  },
  {
   "cell_type": "markdown",
   "id": "9ccd7139",
   "metadata": {},
   "source": [
    "##### Conclusion\n",
    "The event loop is at heart of async system. It runs all the code including main. <br>\n",
    "When the task code is executing, the CPU is busy doing work. <br>\n",
    "\n",
    "When the await keyword is reached, a context switch occurs, and control passes back to the event loop. <br>\n",
    "The event loop looks at all the tasks waiting for an event (in this case asyncio.sleep(delay) timeout) and passes control to a task with an event that's ready. <br>\n",
    "\n",
    "await asyncio.sleep(delay) is a non blocking in regards to the CPU. Instead of delay to timeout, the CPU registers a sleep event on the event loop task queue and performs a context switch by passing a control to the event loop. <br>\n",
    "\n",
    "The event loop continuously looks for completed events and passes control back to the task waiting for that event. <br>\n",
    "In this way CPU can stay busy if work is available, while the event loop monitors the events that will happen in future."
   ]
  },
  {
   "cell_type": "code",
   "execution_count": null,
   "id": "b38994fc",
   "metadata": {},
   "outputs": [],
   "source": []
  },
  {
   "cell_type": "markdown",
   "id": "6954daee",
   "metadata": {},
   "source": [
    "##### Synchronous (Blocking) HTTP calls"
   ]
  },
  {
   "cell_type": "code",
   "execution_count": 10,
   "id": "b3cd9bd2",
   "metadata": {},
   "outputs": [
    {
     "name": "stdout",
     "output_type": "stream",
     "text": [
      "Task One getting URL: http://google.com\n",
      "Task One elapsed time 1.0616263750125654\n",
      "Task Two getting URL: http://yahoo.com\n",
      "Task Two elapsed time 1.4813145410153084\n",
      "Task One getting URL: http://linkedin.com\n",
      "Task One elapsed time 0.6592245000065304\n",
      "Task Two getting URL: http://apple.com\n",
      "Task Two elapsed time 0.12476250002509914\n",
      "Task One getting URL: http://microsoft.com\n",
      "Task One elapsed time 0.4602252919867169\n",
      "Task Two getting URL: http://facebook.com\n",
      "Task Two elapsed time 0.7654987499990966\n",
      "Total Time elapsed: 4.557220291986596\n"
     ]
    }
   ],
   "source": [
    "import queue\n",
    "import requests\n",
    "import time\n",
    "\n",
    "def task(name, work_queue):\n",
    "    \n",
    "    with requests.Session() as session:\n",
    "        while not work_queue.empty():\n",
    "            url = work_queue.get()\n",
    "            print(f\"Task {name} getting URL: {url}\")\n",
    "            start_time = time.perf_counter() \n",
    "            session.get(url)\n",
    "            end_time = time.perf_counter()\n",
    "            print(f\"Task {name} elapsed time {end_time-start_time}\")\n",
    "            yield\n",
    "\n",
    "def main():\n",
    "    \"\"\"\n",
    "    This is the main entry point for the program\n",
    "    \"\"\"\n",
    "    # Create the queue of work\n",
    "    work_queue = queue.Queue()\n",
    "\n",
    "    # Put some work in the queue\n",
    "    for url in [\n",
    "        \"http://google.com\",\n",
    "        \"http://yahoo.com\",\n",
    "        \"http://linkedin.com\",\n",
    "        \"http://apple.com\",\n",
    "        \"http://microsoft.com\",\n",
    "        \"http://facebook.com\"\n",
    "    ]:\n",
    "        work_queue.put(url)\n",
    "\n",
    "    tasks = [task(\"One\", work_queue), task(\"Two\", work_queue)]\n",
    "\n",
    "    # Run the tasks\n",
    "    done = False\n",
    "    start_time = time.perf_counter()\n",
    "    while not done:\n",
    "        for t in tasks:\n",
    "            try:\n",
    "                next(t)\n",
    "            except StopIteration:\n",
    "                tasks.remove(t)\n",
    "            if len(tasks) == 0:\n",
    "                done = True\n",
    "    print(f\"Total Time elapsed: {time.perf_counter() - start_time}\")\n",
    "\n",
    "if __name__ == \"__main__\":\n",
    "    main()"
   ]
  },
  {
   "cell_type": "code",
   "execution_count": null,
   "id": "7b49cf9f",
   "metadata": {},
   "outputs": [],
   "source": []
  },
  {
   "cell_type": "markdown",
   "id": "e66a36a5",
   "metadata": {},
   "source": [
    "#### Asynchronous (Non Blocking HTTP Calls)"
   ]
  },
  {
   "cell_type": "code",
   "execution_count": 4,
   "id": "c78f0450",
   "metadata": {},
   "outputs": [
    {
     "name": "stdout",
     "output_type": "stream",
     "text": [
      "Task One getting URL: http://google.com\n",
      "Task Two getting URL: http://yahoo.com\n",
      "Task One elapsed time 0.7967667920165695\n",
      "Task One getting URL: http://linkedin.com\n",
      "Task One elapsed time 0.592850749992067\n",
      "Task One getting URL: http://apple.com\n",
      "Task Two elapsed time 1.500081375008449\n",
      "Task Two getting URL: http://microsoft.com\n",
      "Task One elapsed time 0.1326494579843711\n",
      "Task One getting URL: http://facebook.com\n",
      "Task Two elapsed time 0.6359500830003526\n",
      "Task One elapsed time 0.6516137920261826\n",
      "Total Time elapsed: 2.176441084011458\n"
     ]
    }
   ],
   "source": [
    "import requests\n",
    "import time\n",
    "import asyncio\n",
    "import aiohttp\n",
    "\n",
    "async def task(name, work_queue):\n",
    "    \n",
    "    async with aiohttp.ClientSession() as session:\n",
    "        while not work_queue.empty():\n",
    "            url = await work_queue.get()\n",
    "            print(f\"Task {name} getting URL: {url}\")\n",
    "            start_time = time.perf_counter() \n",
    "            async with session.get(url) as response:\n",
    "                await response.text()    \n",
    "            end_time = time.perf_counter()\n",
    "            print(f\"Task {name} elapsed time {end_time-start_time}\")\n",
    "\n",
    "async def main():\n",
    "    \"\"\"\n",
    "    This is the main entry point for the program\n",
    "    \"\"\"\n",
    "    # Create the queue of work\n",
    "    work_queue = asyncio.Queue()\n",
    "\n",
    "    # Put some work in the queue\n",
    "    for url in [\n",
    "        \"http://google.com\",\n",
    "        \"http://yahoo.com\",\n",
    "        \"http://linkedin.com\",\n",
    "        \"http://apple.com\",\n",
    "        \"http://microsoft.com\",\n",
    "        \"http://facebook.com\"\n",
    "    ]:\n",
    "        await work_queue.put(url)\n",
    "\n",
    "    # Run the tasks\n",
    "    start_time = time.perf_counter()\n",
    "    tasks = [asyncio.create_task(task(task_number, work_queue)) for task_number in [\"One\", \"Two\"]]\n",
    "\n",
    "    await asyncio.gather(*tasks)\n",
    "    print(f\"Total Time elapsed: {time.perf_counter() - start_time}\")\n",
    "\n",
    "await main()"
   ]
  },
  {
   "cell_type": "code",
   "execution_count": null,
   "id": "9b89bf9e",
   "metadata": {},
   "outputs": [],
   "source": []
  },
  {
   "cell_type": "code",
   "execution_count": null,
   "id": "ad78631a",
   "metadata": {},
   "outputs": [],
   "source": []
  },
  {
   "cell_type": "markdown",
   "id": "b516a422",
   "metadata": {},
   "source": [
    "#### Conclusion\n",
    "Asynchronous programming is a powerful tool but isn't useful for every kind of program. <br>\n",
    "If you are writing a program that calculates pi to the millionth decimal places, then asynchronous code won't help you. That kind of program is CPU bound. <br>\n",
    "\n",
    "However, if you are trying to implement a server or a program that performs IO (like file or network access) then python async features could make a huge difference."
   ]
  }
 ],
 "metadata": {
  "kernelspec": {
   "display_name": "learn_python_3130_env",
   "language": "python",
   "name": "python3"
  },
  "language_info": {
   "codemirror_mode": {
    "name": "ipython",
    "version": 3
   },
   "file_extension": ".py",
   "mimetype": "text/x-python",
   "name": "python",
   "nbconvert_exporter": "python",
   "pygments_lexer": "ipython3",
   "version": "3.13.0"
  }
 },
 "nbformat": 4,
 "nbformat_minor": 5
}
